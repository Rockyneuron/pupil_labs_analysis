{
 "cells": [
  {
   "attachments": {},
   "cell_type": "markdown",
   "metadata": {},
   "source": [
    "### Improvements \n",
    "## IMP: Fitrar por la surface--remove events that move out of the surface on the first 3 secons\n",
    "1) Remove blinks and interpolate values using cubic splines\n",
    "2) Blank filtering of data---Done-- maibe explore other filter\n",
    "3) Frequency analysis of the signal??\n",
    "4) Remove trials with z scores over [2,-2]\n",
    "5) Convert time to seconds\n",
    "6) Open PLA file\n",
    "7) Statistics of signal ¿How to compare surprise signals?\n",
    "8) Amplitud, velocidad de cambio\n",
    "9) Cut the whole signal of interest from the beggining\n",
    "10) Fitrar por la surface\n"
   ]
  },
  {
   "cell_type": "code",
   "execution_count": 8,
   "metadata": {},
   "outputs": [],
   "source": [
    "import pandas as pd \n",
    "import numpy as np\n",
    "from pathlib import Path\n",
    "import os\n",
    "import seaborn as sns\n",
    "import matplotlib.pyplot as plt\n",
    "from scipy import signal\n",
    "import sys\n",
    "sys.path.append('../')\n",
    "import commons as cm\n",
    "from data_curation import Normalization\n",
    "nm=Normalization()\n",
    "\n",
    "recording_location = r\"C:\\Users\\Bolo\\Desktop\\Laboratorio\\incipit\\data\\pupil_emotibit\\ES0001_S002_PC_EM\\data\\pupil_labs\\002\"\n",
    "image_location=r\"../../../../data/pupil_emotibit/ES0001_S002_PC_EM/images_order\"\n",
    "\n",
    "def print_file_structure(startpath):\n",
    "    for root, dirs, files in os.walk(startpath):\n",
    "        level = root.replace(startpath, '').count(os.sep)\n",
    "        indent = ' ' * 4 * (level)\n",
    "        print(f'{indent}{os.path.basename(root)}/')\n",
    "        subindent = ' ' * 4 * (level + 1)\n",
    "        for f in sorted(files):\n",
    "            print(f'{subindent}{f}')\n",
    "# print_file_structure(recording_location)\n",
    "\n",
    "\n",
    "exported_pupil_csv = os.path.join(recording_location, 'exports', '000', 'pupil_positions.csv')\n",
    "pupil_pd_frame = pd.read_csv(exported_pupil_csv)\n",
    "exported_gaze_csv = os.path.join(recording_location, 'exports', '000', 'gaze_positions.csv')\n",
    "gaze_pd_frame = pd.read_csv(exported_gaze_csv)\n",
    "annotations_csv = os.path.join(recording_location, 'exports', '000', 'annotations.csv')\n",
    "annotations_pd = pd.read_csv(annotations_csv)\n",
    "surface_gaze_csv = os.path.join(recording_location, 'exports', '000', 'surfaces','gaze_positions_on_surface_Surface_1.csv')\n",
    "surfaces_pd_frame = pd.read_csv(surface_gaze_csv)"
   ]
  },
  {
   "cell_type": "code",
   "execution_count": null,
   "metadata": {},
   "outputs": [],
   "source": [
    "surfaces_pd_frame"
   ]
  },
  {
   "cell_type": "code",
   "execution_count": null,
   "metadata": {},
   "outputs": [],
   "source": [
    "pupil_pd_frame.head()"
   ]
  },
  {
   "cell_type": "code",
   "execution_count": null,
   "metadata": {},
   "outputs": [],
   "source": [
    "final_df=pd.DataFrame()\n"
   ]
  },
  {
   "cell_type": "code",
   "execution_count": 9,
   "metadata": {},
   "outputs": [
    {
     "name": "stdout",
     "output_type": "stream",
     "text": [
      "14963.556168400002 14963.560129400004\n"
     ]
    },
    {
     "data": {
      "text/html": [
       "<div>\n",
       "<style scoped>\n",
       "    .dataframe tbody tr th:only-of-type {\n",
       "        vertical-align: middle;\n",
       "    }\n",
       "\n",
       "    .dataframe tbody tr th {\n",
       "        vertical-align: top;\n",
       "    }\n",
       "\n",
       "    .dataframe thead th {\n",
       "        text-align: right;\n",
       "    }\n",
       "</style>\n",
       "<table border=\"1\" class=\"dataframe\">\n",
       "  <thead>\n",
       "    <tr style=\"text-align: right;\">\n",
       "      <th></th>\n",
       "      <th>world_timestamp</th>\n",
       "      <th>world_index</th>\n",
       "      <th>gaze_timestamp</th>\n",
       "      <th>x_norm</th>\n",
       "      <th>y_norm</th>\n",
       "      <th>x_scaled</th>\n",
       "      <th>y_scaled</th>\n",
       "      <th>on_surf</th>\n",
       "      <th>confidence</th>\n",
       "    </tr>\n",
       "  </thead>\n",
       "  <tbody>\n",
       "    <tr>\n",
       "      <th>23</th>\n",
       "      <td>14963.549027</td>\n",
       "      <td>1</td>\n",
       "      <td>14963.556168</td>\n",
       "      <td>0.356601</td>\n",
       "      <td>-0.414364</td>\n",
       "      <td>0.356601</td>\n",
       "      <td>-0.414364</td>\n",
       "      <td>False</td>\n",
       "      <td>0.922368</td>\n",
       "    </tr>\n",
       "  </tbody>\n",
       "</table>\n",
       "</div>"
      ],
      "text/plain": [
       "    world_timestamp  world_index  gaze_timestamp    x_norm    y_norm  \\\n",
       "23     14963.549027            1    14963.556168  0.356601 -0.414364   \n",
       "\n",
       "    x_scaled  y_scaled  on_surf  confidence  \n",
       "23  0.356601 -0.414364    False    0.922368  "
      ]
     },
     "execution_count": 9,
     "metadata": {},
     "output_type": "execute_result"
    }
   ],
   "source": [
    "row=23\n",
    "surface_col_index=surfaces_pd_frame.columns.get_indexer(['gaze_timestamp'])\n",
    "ini_val=surfaces_pd_frame.iloc[row]['gaze_timestamp']\n",
    "end_value=surfaces_pd_frame.iloc[row+1]['gaze_timestamp']\n",
    "print(ini_val,end_value)\n",
    "surfaces_pd_frame.iloc[row:row+1]"
   ]
  },
  {
   "cell_type": "code",
   "execution_count": 16,
   "metadata": {},
   "outputs": [
    {
     "data": {
      "text/html": [
       "<div>\n",
       "<style scoped>\n",
       "    .dataframe tbody tr th:only-of-type {\n",
       "        vertical-align: middle;\n",
       "    }\n",
       "\n",
       "    .dataframe tbody tr th {\n",
       "        vertical-align: top;\n",
       "    }\n",
       "\n",
       "    .dataframe thead th {\n",
       "        text-align: right;\n",
       "    }\n",
       "</style>\n",
       "<table border=\"1\" class=\"dataframe\">\n",
       "  <thead>\n",
       "    <tr style=\"text-align: right;\">\n",
       "      <th></th>\n",
       "      <th>horizontal_index</th>\n",
       "      <th>pupil_timestamp</th>\n",
       "      <th>world_index</th>\n",
       "      <th>eye_id</th>\n",
       "      <th>confidence</th>\n",
       "      <th>norm_pos_x</th>\n",
       "      <th>norm_pos_y</th>\n",
       "      <th>diameter</th>\n",
       "      <th>method</th>\n",
       "      <th>ellipse_center_x</th>\n",
       "      <th>...</th>\n",
       "      <th>circle_3d_normal_y</th>\n",
       "      <th>circle_3d_normal_z</th>\n",
       "      <th>circle_3d_radius</th>\n",
       "      <th>theta</th>\n",
       "      <th>phi</th>\n",
       "      <th>projected_sphere_center_x</th>\n",
       "      <th>projected_sphere_center_y</th>\n",
       "      <th>projected_sphere_axis_a</th>\n",
       "      <th>projected_sphere_axis_b</th>\n",
       "      <th>projected_sphere_angle</th>\n",
       "    </tr>\n",
       "  </thead>\n",
       "  <tbody>\n",
       "    <tr>\n",
       "      <th>14</th>\n",
       "      <td>1</td>\n",
       "      <td>14963.556179</td>\n",
       "      <td>1</td>\n",
       "      <td>1</td>\n",
       "      <td>1.0</td>\n",
       "      <td>0.306005</td>\n",
       "      <td>0.388571</td>\n",
       "      <td>36.605353</td>\n",
       "      <td>pye3d 0.3.0 real-time</td>\n",
       "      <td>58.752997</td>\n",
       "      <td>...</td>\n",
       "      <td>-0.171407</td>\n",
       "      <td>-0.777994</td>\n",
       "      <td>1.793461</td>\n",
       "      <td>1.743054</td>\n",
       "      <td>-2.231303</td>\n",
       "      <td>109.252397</td>\n",
       "      <td>126.930874</td>\n",
       "      <td>174.366655</td>\n",
       "      <td>174.366655</td>\n",
       "      <td>0.0</td>\n",
       "    </tr>\n",
       "    <tr>\n",
       "      <th>15</th>\n",
       "      <td>1</td>\n",
       "      <td>14963.556179</td>\n",
       "      <td>1</td>\n",
       "      <td>1</td>\n",
       "      <td>1.0</td>\n",
       "      <td>0.306018</td>\n",
       "      <td>0.388548</td>\n",
       "      <td>36.608551</td>\n",
       "      <td>2d c++</td>\n",
       "      <td>58.755363</td>\n",
       "      <td>...</td>\n",
       "      <td>NaN</td>\n",
       "      <td>NaN</td>\n",
       "      <td>NaN</td>\n",
       "      <td>NaN</td>\n",
       "      <td>NaN</td>\n",
       "      <td>NaN</td>\n",
       "      <td>NaN</td>\n",
       "      <td>NaN</td>\n",
       "      <td>NaN</td>\n",
       "      <td>NaN</td>\n",
       "    </tr>\n",
       "  </tbody>\n",
       "</table>\n",
       "<p>2 rows × 35 columns</p>\n",
       "</div>"
      ],
      "text/plain": [
       "    horizontal_index  pupil_timestamp  world_index  eye_id  confidence  \\\n",
       "14                 1     14963.556179            1       1         1.0   \n",
       "15                 1     14963.556179            1       1         1.0   \n",
       "\n",
       "    norm_pos_x  norm_pos_y   diameter                 method  \\\n",
       "14    0.306005    0.388571  36.605353  pye3d 0.3.0 real-time   \n",
       "15    0.306018    0.388548  36.608551                 2d c++   \n",
       "\n",
       "    ellipse_center_x  ...  circle_3d_normal_y  circle_3d_normal_z  \\\n",
       "14         58.752997  ...           -0.171407           -0.777994   \n",
       "15         58.755363  ...                 NaN                 NaN   \n",
       "\n",
       "    circle_3d_radius     theta       phi  projected_sphere_center_x  \\\n",
       "14          1.793461  1.743054 -2.231303                 109.252397   \n",
       "15               NaN       NaN       NaN                        NaN   \n",
       "\n",
       "    projected_sphere_center_y  projected_sphere_axis_a  \\\n",
       "14                 126.930874               174.366655   \n",
       "15                        NaN                      NaN   \n",
       "\n",
       "    projected_sphere_axis_b  projected_sphere_angle  \n",
       "14               174.366655                     0.0  \n",
       "15                      NaN                     NaN  \n",
       "\n",
       "[2 rows x 35 columns]"
      ]
     },
     "metadata": {},
     "output_type": "display_data"
    }
   ],
   "source": [
    "aux_pd_frame=cm.filter_rows_by_temporal_values(\n",
    "         dataframe=pupil_pd_frame,\n",
    "         time_column='pupil_timestamp',\n",
    "         ini_value=ini_val,\n",
    "         end_value=end_value\n",
    "         )\n",
    "\n",
    "# aux_pd_frame_join=aux_pd_frame.join(surfaces_pd_frame.iloc[row:row+1],rsuffix='sur_',how='cross')\n",
    "aux_pd_frame.insert(0,'horizontal_index',1)\n",
    "\n",
    "display(aux_pd_frame)\n",
    "# display(aux_pd_frame_join)\n",
    "# final_df=pd.concat([final_df,aux_pd_frame_join],axis=0)\n",
    "# display(final_df)\n"
   ]
  },
  {
   "attachments": {},
   "cell_type": "markdown",
   "metadata": {},
   "source": [
    "### Filter data that is inside the surface\n",
    "#### Due to the fact that te gaze timesatmp of the surface is obtained by combining data from both pupils we cant just merge by the timestamp. We have to read and duplicate values"
   ]
  },
  {
   "cell_type": "code",
   "execution_count": 17,
   "metadata": {},
   "outputs": [],
   "source": [
    "pupil_list=[]\n",
    "surface_list=[]\n",
    "for row in range(surfaces_pd_frame.shape[0]-1):\n",
    "        ini_val=surfaces_pd_frame.iloc[row]['gaze_timestamp']\n",
    "        end_value=surfaces_pd_frame.iloc[row+1]['gaze_timestamp']\n",
    "        surface_row=surfaces_pd_frame.iloc[row:row+1]\n",
    "        # print(ini_val,end_value)\n",
    "        aux_pd_frame=cm.filter_rows_by_temporal_values(\n",
    "                dataframe=pupil_pd_frame,\n",
    "                time_column='pupil_timestamp',\n",
    "                ini_value=ini_val,\n",
    "                end_value=end_value\n",
    "                )\n",
    "        \n",
    "        aux_pd_frame.insert(0,'horizontal_index',1)\n",
    "        surface_row.insert(0,'horizontal_index',1)\n",
    "        # aux_pd_frame=aux_pd_frame.join(to_join,rsuffix='sur_',how='cross')\n",
    "        pupil_list.append(aux_pd_frame)\n",
    "        surface_list.append(surface_row)\n",
    "# final_df=pd.concat(final_df,axis=0)\n",
    "# display(final_df)\n",
    "\n"
   ]
  },
  {
   "cell_type": "code",
   "execution_count": null,
   "metadata": {},
   "outputs": [],
   "source": [
    "final_df=[]\n",
    "for row,index in surfaces_pd_frame.iterrows():\n",
    "        ini_val=surfaces_pd_frame.iloc[row]['gaze_timestamp']\n",
    "        end_value=surfaces_pd_frame.iloc[row+1]['gaze_timestamp']\n",
    "        to_join=surfaces_pd_frame.iloc[row:row+1]\n",
    "        # print(ini_val,end_value)\n",
    "        aux_pd_frame=cm.filter_rows_by_temporal_values(\n",
    "                dataframe=pupil_pd_frame,\n",
    "                time_column='pupil_timestamp',\n",
    "                ini_value=ini_val,\n",
    "                end_value=end_value\n",
    "                )\n",
    "\n",
    "        # aux_pd_frame=aux_pd_frame.join(to_join,rsuffix='sur_',how='cross')\n",
    "        final_df.append(aux_pd_frame)\n",
    "# final_df=pd.concat(final_df,axis=0)\n",
    "# display(final_df)\n"
   ]
  },
  {
   "cell_type": "code",
   "execution_count": null,
   "metadata": {},
   "outputs": [],
   "source": [
    "pupil_pd_frame_aux=pupil_pd_frame.merge(surfaces_pd_frame, on='gaze_timestamp',how='left',indicator=True)"
   ]
  },
  {
   "attachments": {},
   "cell_type": "markdown",
   "metadata": {},
   "source": [
    "### Cut all data by annotations of interest"
   ]
  },
  {
   "cell_type": "code",
   "execution_count": null,
   "metadata": {},
   "outputs": [],
   "source": [
    "from IPython.display import display\n",
    "\n",
    "event_initial=annotations_pd['label'].values[0]\n",
    "event_final=annotations_pd['label'].values[-1]\n",
    "\n",
    "initial_anotation,_,_=cm.extract_annotations_timestamps(event_initial,'label',annotations_pd)\n",
    "end_anotation=annotations_pd.iloc[-1]\n",
    "display(initial_anotation)\n",
    "display(end_anotation)\n",
    "\n",
    "pupil_pd_frame=cm.filter_rows_by_temporal_values(\n",
    "         dataframe=pupil_pd_frame,\n",
    "         time_column='pupil_timestamp',\n",
    "         ini_value=initial_anotation['timestamp'].values[0],\n",
    "         end_value=end_anotation['timestamp']\n",
    "         )"
   ]
  },
  {
   "attachments": {},
   "cell_type": "markdown",
   "metadata": {},
   "source": [
    "## Extract the data\n",
    "Extracting pupil 3d data for analysis"
   ]
  },
  {
   "cell_type": "code",
   "execution_count": null,
   "metadata": {},
   "outputs": [],
   "source": [
    "from IPython.display import display\n",
    "\n",
    "confidence_thr=1\n",
    " \n",
    "# filter for 3d data\n",
    "detector_3d_data = pupil_pd_frame[pupil_pd_frame.method == 'pye3d 0.3.0 real-time']\n",
    "\n",
    "pupil_left_eye_interpolated=detector_3d_data.loc[(pupil_pd_frame['eye_id']==1)]\n",
    "pupil_right_eye_interpolated=detector_3d_data.loc[(pupil_pd_frame['eye_id']==0)]\n",
    "left_conf_index=(pupil_left_eye_interpolated['confidence']>=confidence_thr).values\n",
    "right_conf_index=(pupil_right_eye_interpolated['confidence']>=confidence_thr).values\n",
    "\n",
    "pupil_left_eye=detector_3d_data.loc[(pupil_pd_frame['eye_id']==1) & (pupil_pd_frame['confidence']>=confidence_thr)]\n",
    "pupil_right_eye=detector_3d_data.loc[(pupil_pd_frame['eye_id']==0) & (pupil_pd_frame['confidence']>=confidence_thr)]\n",
    "blinks_left_eye=detector_3d_data.loc[(pupil_pd_frame['eye_id']==1) & (pupil_pd_frame['confidence']< confidence_thr)]\n",
    "blinks_right_eye=detector_3d_data.loc[(pupil_pd_frame['eye_id']==0) & (pupil_pd_frame['confidence']< confidence_thr)]\n",
    "\n",
    "\n"
   ]
  },
  {
   "cell_type": "code",
   "execution_count": null,
   "metadata": {},
   "outputs": [],
   "source": [
    "pupil_left_eye_interpolated['diameter_3d_cubic']=cm.cubic_siplne_interpolation(\n",
    "                                                x=pupil_left_eye_interpolated.loc[left_conf_index,['pupil_timestamp']].values.flatten(),\n",
    "                                                y= pupil_left_eye_interpolated.loc[left_conf_index,['diameter_3d']].values.flatten(),\n",
    "                                                x_interpolate=pupil_left_eye_interpolated['pupil_timestamp'].values.flatten()\n",
    "                                                )\n",
    "\n",
    "pupil_right_eye_interpolated['diameter_3d_cubic']=cm.cubic_siplne_interpolation(\n",
    "                                                x=pupil_right_eye_interpolated.loc[right_conf_index,['pupil_timestamp']].values.flatten(),\n",
    "                                                y= pupil_right_eye_interpolated.loc[right_conf_index,['diameter_3d']].values.flatten(),\n",
    "                                                x_interpolate=pupil_right_eye_interpolated['pupil_timestamp'].values.flatten()\n",
    "                                                )\n",
    "\n",
    "\n",
    "filter_events=annotations_pd['label'].str.contains('Asset') | annotations_pd['label'].str.contains('Control') | annotations_pd['label'].str.contains('Surprise')\n",
    "filter_assets=annotations_pd['label'].str.contains('Asset') \n",
    "\n",
    "filter_events_surprise= annotations_pd['label'].str.contains('Surprise')\n",
    "filter_events_blank= annotations_pd['label'].str.contains('blank')\n",
    "\n",
    "print(\"eye0 (right eye) data:\")\n",
    "display(pupil_right_eye[['pupil_timestamp', 'eye_id', 'confidence', 'norm_pos_x', 'norm_pos_y', 'diameter_3d']].head(10))\n",
    "\n",
    "print(\"eye1 data (left eye) data:\")\n",
    "display(pupil_left_eye[['pupil_timestamp', 'eye_id', 'confidence', 'norm_pos_x', 'norm_pos_y', 'diameter_3d']].head(10))\n"
   ]
  },
  {
   "cell_type": "code",
   "execution_count": null,
   "metadata": {},
   "outputs": [],
   "source": [
    "pupil_left_eye_interpolated.head()"
   ]
  },
  {
   "cell_type": "code",
   "execution_count": null,
   "metadata": {},
   "outputs": [],
   "source": [
    "import json\n",
    "f = open(recording_location+'/info.player.json')\n",
    "data = json.load(f)\n",
    "time_whole_recording=data['duration_s']\n",
    "time_roi_left=abs(pupil_left_eye['pupil_timestamp'].values[-1]-pupil_left_eye['pupil_timestamp'].values[0])\n",
    "time_roi_right=abs(pupil_right_eye['pupil_timestamp'].values[-1]-pupil_right_eye['pupil_timestamp'].values[0])\n",
    "\n",
    "pupil_sampling_freq_left=(pupil_left_eye.shape[0]+blinks_left_eye.shape[0])/time_roi_left\n",
    "pupil_sampling_freq_right=(pupil_right_eye.shape[0]+blinks_right_eye.shape[0])/time_roi_right \n",
    "print('sampling frequency for right eye is {}'.format(pupil_sampling_freq_right)) \n",
    "print('sampling frequency for left eye is {}'.format(pupil_sampling_freq_left)) \n",
    "\n",
    "# Closing file\n",
    "f.close()\n"
   ]
  },
  {
   "attachments": {},
   "cell_type": "markdown",
   "metadata": {},
   "source": [
    "##  Explore blinks and Asses data quality, are there many regions with data gaps? \n"
   ]
  },
  {
   "attachments": {},
   "cell_type": "markdown",
   "metadata": {},
   "source": [
    "### Asses data quality"
   ]
  },
  {
   "cell_type": "code",
   "execution_count": null,
   "metadata": {},
   "outputs": [],
   "source": [
    "total_blinks_left=blinks_left_eye.shape[0]/pupil_sampling_freq_left\n",
    "total_blinks_right=blinks_right_eye.shape[0]/pupil_sampling_freq_right\n",
    "print(f'Total blinks time left {total_blinks_left:.2f}s and right {total_blinks_right:.2f}s of a total of {time_roi_left:.2f}s left and {time_roi_right:.2f}s right')\n",
    "print(f'Total blinks time left {total_blinks_left/time_roi_left:.2%} ')\n",
    "print(f'Total blinks time right {total_blinks_right/time_roi_right:.2%} ')\n"
   ]
  },
  {
   "attachments": {},
   "cell_type": "markdown",
   "metadata": {},
   "source": [
    "## Put timestamp data in seconds\n"
   ]
  },
  {
   "cell_type": "code",
   "execution_count": null,
   "metadata": {},
   "outputs": [],
   "source": [
    "pupil_left_eye['timestamp_s']=pupil_left_eye['pupil_timestamp']-pupil_left_eye['pupil_timestamp'].values[0]\n",
    "pupil_left_eye['timestamp_s']\n",
    "\n",
    "pupil_right_eye['timestamp_s']=pupil_right_eye['pupil_timestamp']-pupil_right_eye['pupil_timestamp'].values[0]\n",
    "pupil_right_eye['timestamp_s']\n",
    "\n",
    "annotations_pd['timestamp_s']=annotations_pd['timestamp']-annotations_pd['timestamp'].values[0]\n"
   ]
  },
  {
   "attachments": {},
   "cell_type": "markdown",
   "metadata": {},
   "source": [
    "### View Raw data"
   ]
  },
  {
   "cell_type": "code",
   "execution_count": null,
   "metadata": {},
   "outputs": [],
   "source": [
    "%matplotlib inline\n",
    "#for left eye\n",
    "fig, ax=plt.subplots(1,1)\n",
    "ax.plot(blinks_left_eye['pupil_timestamp'],blinks_left_eye['diameter_3d'],'.',markersize=1)\n",
    "ax.plot(pupil_left_eye['pupil_timestamp'],pupil_left_eye['diameter_3d'],'.',markersize=1)\n",
    "ax.legend(['blinks','diameter'])    \n",
    "fig.set_size_inches((9.5, 5.5))\n",
    "ax.set_title('Left eye data')\n",
    "\n",
    "#for right eye\n",
    "fig, ax=plt.subplots(1,1)\n",
    "ax.plot(blinks_right_eye['pupil_timestamp'],blinks_right_eye['diameter_3d'],'.',markersize=1)\n",
    "ax.plot(pupil_right_eye['pupil_timestamp'],pupil_right_eye['diameter_3d'],'.',markersize=1)\n",
    "ax.legend(['blinks','diameter'])    \n",
    "fig.set_size_inches((9.5, 5.5))\n",
    "ax.set_title('Right eye data')\n",
    "\n",
    "fig, ax=plt.subplots(1,1)\n",
    "\n",
    "ax.plot(pupil_right_eye['pupil_timestamp'],pupil_right_eye['diameter_3d'],'.',markersize=1)\n",
    "ax.legend(['left eye','right eye'])    \n",
    "fig.set_size_inches((9.5, 5.5))\n",
    "ax.set_title('Both eyes')\n",
    "\n"
   ]
  },
  {
   "attachments": {},
   "cell_type": "markdown",
   "metadata": {},
   "source": [
    "### Do cubic splines aeasily, in the future use a better blink detection algorithm"
   ]
  },
  {
   "cell_type": "code",
   "execution_count": null,
   "metadata": {},
   "outputs": [],
   "source": [
    "%matplotlib qt\n",
    "\n",
    "\n",
    "fig, ax = plt.subplots(2,1,figsize=(15, 8))\n",
    "ax[0].plot(pupil_left_eye_interpolated['pupil_timestamp'], pupil_left_eye_interpolated['diameter_3d'], 'o', label='data')\n",
    "ax[0].plot(pupil_left_eye_interpolated['pupil_timestamp'], pupil_left_eye_interpolated['diameter_3d_cubic'],'.', label=\"interpolated\")\n",
    "ax[0].legend(loc='lower right', ncol=2)\n",
    "ax[0].set_title('left eye')\n",
    "ax[0].set_xlabel('sample')\n",
    "ax[0].set_ylabel('diameter (mm)')\n",
    "\n",
    "\n",
    "ax[1].plot(pupil_right_eye_interpolated['pupil_timestamp'], pupil_right_eye_interpolated['diameter_3d'], 'o', label='data')\n",
    "ax[1].plot(pupil_right_eye_interpolated['pupil_timestamp'], pupil_right_eye_interpolated['diameter_3d_cubic'],'.', label=\"interpolated\")\n",
    "ax[1].legend(loc='lower right', ncol=2)\n",
    "ax[1].set_title('right eye')\n",
    "ax[1].set_xlabel('sample')\n",
    "ax[1].set_ylabel('diameter (mm)')\n",
    "fig.tight_layout()"
   ]
  },
  {
   "attachments": {},
   "cell_type": "markdown",
   "metadata": {},
   "source": [
    "usaing smooting splines"
   ]
  },
  {
   "attachments": {},
   "cell_type": "markdown",
   "metadata": {},
   "source": [
    "## "
   ]
  },
  {
   "cell_type": "code",
   "execution_count": null,
   "metadata": {},
   "outputs": [],
   "source": [
    "time_col_str='timestamp_s'\n",
    "signal_str='diameter_3d'\n",
    "sns.set_theme()\n",
    "\n",
    "%matplotlib inline\n",
    "fig1, ax=plt.subplots(1,)\n",
    "ax.plot(pupil_left_eye[time_col_str],pupil_left_eye[signal_str],'.')\n",
    "for  index, row in annotations_pd[filter_events].iterrows():\n",
    "    plt.axvline(row[time_col_str], color='r', label='axvline - full height')\n",
    "    ax.text((row[time_col_str]),3,row['label'])\n",
    "ax.set_title('pupil diameter and events')    \n",
    "ax.set_xlabel(f'{time_col_str}')\n",
    "ax.set_ylabel(f'{signal_str}')\n",
    "fig1.set_size_inches((18, 5.5))\n",
    "\n",
    "fig2, ax=plt.subplots(1)\n",
    "ax.plot(pupil_left_eye[time_col_str],pupil_left_eye[signal_str],'.')\n",
    "for  index, row in annotations_pd[filter_events_surprise].iterrows():\n",
    "    plt.axvline(row[time_col_str], color='r', label='axvline - full height')\n",
    "    ax.text((row[time_col_str]),3,row['label'])\n",
    "ax.set_title('pupil diameter and events')    \n",
    "ax.set_xlabel(f'{time_col_str}')\n",
    "ax.set_ylabel(f'{signal_str}')\n",
    "fig2.set_size_inches((18, 5.5))\n",
    "\n",
    "# plt.tight_layout()"
   ]
  },
  {
   "attachments": {},
   "cell_type": "markdown",
   "metadata": {},
   "source": [
    "## Apply normalizations\n"
   ]
  },
  {
   "attachments": {},
   "cell_type": "markdown",
   "metadata": {},
   "source": [
    "### Create different normalization columns"
   ]
  },
  {
   "cell_type": "code",
   "execution_count": null,
   "metadata": {},
   "outputs": [],
   "source": [
    "pupil_left_eye_interpolated['diameter_3d_cubic_z_score']=nm.normalize(values=pupil_left_eye_interpolated['diameter_3d_cubic'],\n",
    "                                            type='z_score')\n",
    "\n",
    "pupil_right_eye_interpolated['diameter_3d_cubic_z_score']=nm.normalize(values=pupil_right_eye_interpolated['diameter_3d_cubic'],\n",
    "                                            type='z_score')\n",
    "\n",
    "pupil_left_eye['diameter_3d_z_score']=nm.normalize(values=pupil_left_eye['diameter_3d'],\n",
    "                                            type='z_score')\n",
    "\n",
    "pupil_right_eye['diameter_3d_z_score']=nm.normalize(values=pupil_right_eye['diameter_3d'],\n",
    "                                            type='z_score')\n",
    "pupil_left_eye.head()"
   ]
  },
  {
   "attachments": {},
   "cell_type": "markdown",
   "metadata": {},
   "source": [
    "### Filters"
   ]
  },
  {
   "cell_type": "code",
   "execution_count": null,
   "metadata": {},
   "outputs": [],
   "source": [
    "filter_events=annotations_pd['label'].str.contains('Asset') | annotations_pd['label'].str.contains('Control') | annotations_pd['label'].str.contains('Surprise')\n",
    "filter_assets=annotations_pd['label'].str.contains('Asset') \n",
    "\n",
    "filter_events_surprise= annotations_pd['label'].str.contains('Surprise')\n",
    "filter_events_blank= annotations_pd['label'].str.contains('blank')\n"
   ]
  },
  {
   "attachments": {},
   "cell_type": "markdown",
   "metadata": {},
   "source": [
    "### Asset normalization"
   ]
  },
  {
   "cell_type": "code",
   "execution_count": null,
   "metadata": {},
   "outputs": [],
   "source": [
    "#common variables for analysis\n",
    "pupil_df=pupil_left_eye\n",
    "signal_str='diameter_3d_z_score'\n",
    "secons_norm=0.05 # preestimulus frame to normalize\n",
    "window_s=3  # winsow of interest \n",
    "\n",
    "# pupil_df['speed']=abs(pupil_df['diameter_3d'].diff(periods=100).rolling(3).median())\n",
    "\n",
    "frames_norm=np.round(secons_norm*pupil_sampling_freq_left).astype(int)\n",
    "win_norm=range(frames_norm)\n",
    "print('Initial frames used for normalization = {} correspond to {}s'.format(frames_norm,secons_norm))\n",
    "\n",
    "window_s=3\n",
    "window_frames=np.round(window_s*pupil_sampling_freq_left).astype(int)\n",
    "print('Windows frames of interest   = {} correspond to {}s'.format(window_frames,window_s))\n",
    "window=range(0,window_frames)\n",
    "time_x=np.linspace(0,window_s,window_frames)\n",
    "\n"
   ]
  },
  {
   "cell_type": "code",
   "execution_count": null,
   "metadata": {},
   "outputs": [],
   "source": [
    "# For Assets\n",
    "event=annotations_pd.loc[filter_assets,['label']]\n",
    "pupil_events_matrix=np.zeros([pupil_df.shape[0],len(event)])\n",
    "\n",
    "for num,im in enumerate(event.values.flatten()):\n",
    "    initial_anotation,end_anotation,index_annotation=cm.extract_annotations_timestamps(im,'label',annotations_pd)\n",
    "   \n",
    "    segmented_df=cm.filter_rows_by_temporal_values(\n",
    "        dataframe=pupil_df,\n",
    "        time_column='pupil_timestamp',\n",
    "        ini_value=initial_anotation['timestamp'].values[0],\n",
    "        end_value=end_anotation['timestamp'].values[0]\n",
    "        )\n",
    "\n",
    "    win_blank=segmented_df.iloc[win_norm]\n",
    "\n",
    "    pupil_events_matrix[0:len(segmented_df),num]=(segmented_df[signal_str]-win_blank[signal_str].mean())\n"
   ]
  },
  {
   "cell_type": "code",
   "execution_count": null,
   "metadata": {},
   "outputs": [],
   "source": [
    "# For Surpriwe\n",
    "\n",
    "event=annotations_pd.loc[filter_events_surprise,['label']]\n",
    "pupil_surprise_matrix=np.zeros([pupil_df.shape[0],len(event)])\n",
    "\n",
    "for num,im in enumerate(event.values.flatten()):\n",
    "    initial_anotation,end_anotation,index_annotation=cm.extract_annotations_timestamps(im,'label',annotations_pd)\n",
    "   \n",
    "    segmented_df=cm.filter_rows_by_temporal_values(\n",
    "        dataframe=pupil_df,\n",
    "        time_column='pupil_timestamp',\n",
    "        ini_value=initial_anotation['timestamp'].values[0],\n",
    "        end_value=end_anotation['timestamp'].values[0]\n",
    "        )\n",
    "\n",
    "    win_blank=segmented_df.iloc[win_norm]\n",
    "\n",
    "    pupil_surprise_matrix[0:len(segmented_df),num]=(segmented_df[signal_str]-win_blank[signal_str].mean())"
   ]
  },
  {
   "attachments": {},
   "cell_type": "markdown",
   "metadata": {},
   "source": [
    "### Do the plots"
   ]
  },
  {
   "cell_type": "code",
   "execution_count": null,
   "metadata": {},
   "outputs": [],
   "source": [
    "%matplotlib inline\n",
    "\n",
    "\n",
    "mat=pupil_events_matrix\n",
    "fig, ax=plt.subplots(1,1)\n",
    "ax.plot(time_x,mat[window])\n",
    "ax.plot(time_x,np.median(mat[window,:],axis=1),linewidth=5,color='black')\n",
    "# ax.legend([images,'assets mean'])\n",
    "ax.set_title('Raw assets and mean pupilometry speed')\n",
    "ax.set_xlabel('time (s)')\n",
    "ax.set_ylabel('diameter(mm)')\n",
    "\n",
    "\n",
    "mat=pupil_surprise_matrix\n",
    "fig, ax=plt.subplots(1,1)\n",
    "ax.plot(time_x,mat[window,:])\n",
    "ax.plot(time_x,np.median(mat[window,:],axis=1),linewidth=5,color='black')\n",
    "ax.set_title('Raw surprise and mean pupilometry speed')\n",
    "ax.set_xlabel('time (s)')\n",
    "ax.set_ylabel('diameter (mm)')\n",
    "\n",
    "\n",
    "fig, ax=plt.subplots(1,1)\n",
    "ax.plot(time_x,np.median(pupil_surprise_matrix[window,:],axis=1),linewidth=2,color='blue')\n",
    "ax.plot(time_x,np.median(pupil_events_matrix[window,:],axis=1),linewidth=2,color='black')\n",
    "\n",
    "ax.legend(['surprise','assets'])\n",
    "ax.set_title('Mean pupilometry')\n",
    "ax.set_xlabel('time (s)')\n",
    "ax.set_ylabel('speed (s)')"
   ]
  },
  {
   "attachments": {},
   "cell_type": "markdown",
   "metadata": {},
   "source": [
    "## Now lets calculate the speed of change from the normalized data"
   ]
  },
  {
   "cell_type": "code",
   "execution_count": null,
   "metadata": {},
   "outputs": [],
   "source": [
    "\n",
    "pupil_events_speed=np.abs(np.diff(pupil_events_matrix))\n",
    "pupil_surprise_speed=np.abs(np.diff(pupil_surprise_matrix))"
   ]
  },
  {
   "cell_type": "code",
   "execution_count": null,
   "metadata": {},
   "outputs": [],
   "source": [
    "%matplotlib inline\n",
    "\n",
    "mat1=pupil_events_speed\n",
    "mat2=pupil_surprise_speed\n",
    "\n",
    "fig, ax=plt.subplots(1,1)\n",
    "ax.plot(time_x,mat1[window])\n",
    "ax.plot(time_x,np.mean(mat1[window,:],axis=1),linewidth=5,color='black')\n",
    "# ax.legend([images,'assets mean'])\n",
    "ax.set_title('Raw assets and mean pupilometry speed')\n",
    "ax.set_xlabel('time (s)')\n",
    "ax.set_ylabel('diameter(mm)')\n",
    "\n",
    "fig, ax=plt.subplots(1,1)\n",
    "ax.plot(time_x,mat2[window,:])\n",
    "ax.plot(time_x,np.mean(mat2[window,:],axis=1),linewidth=5,color='black')\n",
    "ax.set_title('Raw surprise and mean pupilometry speed')\n",
    "ax.set_xlabel('time (s)')\n",
    "ax.set_ylabel('diameter (mm)')\n",
    "\n",
    "\n",
    "fig, ax=plt.subplots(1,1)\n",
    "ax.plot(time_x,np.mean(mat2[window,:],axis=1),linewidth=2,color='blue')\n",
    "ax.plot(time_x,np.mean(mat1[window,:],axis=1),linewidth=2,color='black')\n",
    "\n",
    "ax.legend(['surprise','assets'])\n",
    "ax.set_title('Mean pupilometry')\n",
    "ax.set_xlabel('time (s)')\n",
    "ax.set_ylabel('speed (s)')"
   ]
  },
  {
   "attachments": {},
   "cell_type": "markdown",
   "metadata": {},
   "source": [
    "Exclude data that is over [2,-2] z scores\n"
   ]
  },
  {
   "cell_type": "code",
   "execution_count": null,
   "metadata": {},
   "outputs": [],
   "source": [
    "fig,ax=plt.subplots(1,2)\n",
    "sns.histplot(pupil_zscore[window,6],ax=ax[0])\n",
    "sns.histplot(pupil_events_matrix[window,6],ax=ax[1])"
   ]
  },
  {
   "cell_type": "code",
   "execution_count": null,
   "metadata": {},
   "outputs": [],
   "source": [
    "#test sfuntion\n",
    "sigma=1\n",
    "mu=10\n",
    "data_normal=sigma*np.random.randn(70,100) +mu\n",
    "data_norm=nm.normalize(values=data_normal.reshape(data_normal.size),\n",
    "                                            type='z_score').reshape(data_normal.shape)\n",
    "plt.plot(data_normal,'.',color='red')\n",
    "plt.plot(data_norm,'.',color='blue')\n",
    "plt.plot(data_normal-10,'.',color='green')\n"
   ]
  },
  {
   "cell_type": "code",
   "execution_count": null,
   "metadata": {},
   "outputs": [],
   "source": [
    "plt.hist(data_normal)\n"
   ]
  },
  {
   "cell_type": "code",
   "execution_count": null,
   "metadata": {},
   "outputs": [],
   "source": [
    "pupil_events_matrix.shape[0]"
   ]
  },
  {
   "cell_type": "code",
   "execution_count": null,
   "metadata": {},
   "outputs": [],
   "source": [
    "r=a.reshape(pupil_events_matrix.shape)"
   ]
  },
  {
   "cell_type": "code",
   "execution_count": null,
   "metadata": {},
   "outputs": [],
   "source": [
    "pupil_events_matrix.shape[0]*pupil_events_matrix.shape[1]"
   ]
  },
  {
   "cell_type": "code",
   "execution_count": null,
   "metadata": {},
   "outputs": [],
   "source": [
    "pupil_events_matrix.shape"
   ]
  },
  {
   "cell_type": "code",
   "execution_count": null,
   "metadata": {},
   "outputs": [],
   "source": []
  }
 ],
 "metadata": {
  "kernelspec": {
   "display_name": "bayes",
   "language": "python",
   "name": "python3"
  },
  "language_info": {
   "codemirror_mode": {
    "name": "ipython",
    "version": 3
   },
   "file_extension": ".py",
   "mimetype": "text/x-python",
   "name": "python",
   "nbconvert_exporter": "python",
   "pygments_lexer": "ipython3",
   "version": "3.11.0"
  },
  "orig_nbformat": 4
 },
 "nbformat": 4,
 "nbformat_minor": 2
}
