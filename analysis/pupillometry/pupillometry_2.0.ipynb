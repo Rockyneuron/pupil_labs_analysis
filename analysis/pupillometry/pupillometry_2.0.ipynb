{
 "cells": [
  {
   "attachments": {},
   "cell_type": "markdown",
   "metadata": {},
   "source": [
    "### Improvements \n",
    "## IMP: Fitrar por la surface--remove events that move out of the surface on the first 3 secons\n",
    "1) Remove blinks and interpolate values using cubic splines\n",
    "3) Frequency analysis of the signal??\n",
    "4) Remove trials with z scores over [2,-2]\n",
    "7) Statistics of signal ¿How to compare surprise signals?\n",
    "8) Amplitud, velocidad de cambio\n",
    "9) Cut the whole signal of interest from the beggining\n",
    "10) Fitrar por la surface\n",
    "\n",
    "\n"
   ]
  },
  {
   "attachments": {},
   "cell_type": "markdown",
   "metadata": {},
   "source": []
  },
  {
   "cell_type": "code",
   "execution_count": 29,
   "metadata": {},
   "outputs": [
    {
     "name": "stdout",
     "output_type": "stream",
     "text": [
      "['ES0001_S020_Script.txt', '001']\n",
      "Analixing session: ES0001_S020_PC_EM\n",
      "['ES0001_S022_Script.txt', '003']\n",
      "Analixing session: ES0001_S022_PC_EM\n"
     ]
    }
   ],
   "source": [
    "import pandas as pd \n",
    "import numpy as np\n",
    "from pathlib import Path\n",
    "import os\n",
    "import seaborn as sns\n",
    "import matplotlib.pyplot as plt\n",
    "from scipy import signal\n",
    "import sys\n",
    "sys.path.append('../')\n",
    "import commons as cm\n",
    "from data_curation import Normalization\n",
    "# from pandasql import sqldf\n",
    "import pupillometry_commons as cp\n",
    "from itertools import compress\n",
    "import json\n",
    "\n",
    "nm=Normalization()\n",
    "\n",
    "session_location = Path(r\"D:/sessions\")\n",
    "sessions=[]\n",
    "df_list=[]\n",
    "confidence_thr=0.95 #pupil condifedence for data cleaning\n",
    "windows_s=3      #Seconds od interest for the signal\n",
    "seconds_norm=0.05 #Baseline period for normalization\n",
    "\n",
    "# Columns to load for pupil data\n",
    "use_cols = ['confidence',\n",
    "            'method',\n",
    "            'pupil_timestamp',\n",
    "            'eye_id',\n",
    "            'diameter_3d',\n",
    "            'diameter']\n",
    "\n",
    "\n",
    "with open('session.txt','r') as f:\n",
    "    for session in f:\n",
    "            sessions.append(session.replace('\\n',''))\n",
    "f.close()\n",
    "\n",
    "session_loc_list=[session_location.joinpath(session,'01 Processing_data','pupil_labs') for session in sessions ]\n",
    "session_raw_list=[session_location.joinpath(session, '00 Raw_data','pupil_labs') for session in sessions ]\n",
    "\n",
    "image_loc_list=[session_location.joinpath(session,'images_order') for session in sessions ]\n",
    "\n",
    "for subject, recording_location in zip(sessions,session_loc_list):\n",
    "    recording_folder=[record for record in os.listdir(recording_location)  if '00' in record]\n",
    "    print(recording_folder)\n",
    "    index_aux = list(map(lambda x: not('_' in x), recording_folder))\n",
    "    recording_folder=list(compress(recording_folder,index_aux))\n",
    "    #Load data in folders\n",
    "    if len(recording_folder)>1:\n",
    "        ValueError('Ambiguty in folder of experiment')\n",
    "    recording_location=recording_location.joinpath(recording_folder[0],'exports')\n",
    "    recording_location_raw=recording_location.joinpath(recording_folder[0],'exports')\n",
    "    export_folder=[record for record in os.listdir(recording_location)  if '00' in record]\n",
    "    if len(export_folder)>1:\n",
    "        ValueError('Ambiguty in folder of exports')\n",
    "    recording_location=recording_location.joinpath(export_folder[0])\n",
    "\n",
    "    gaze_surf_csv=[record for record in os.listdir(recording_location.joinpath('surfaces'))  if 'gaze_positions' in record][0]\n",
    "\n",
    "    print(f'Analixing session: {subject}')\n",
    "\n",
    "    exported_pupil_csv = recording_location.joinpath('pupil_positions.csv')\n",
    "    pupil_pd_frame = pd.read_csv(exported_pupil_csv,usecols=use_cols)\n",
    "    exported_gaze_csv = os.path.join(recording_location,'gaze_positions.csv')\n",
    "    gaze_pd_frame = pd.read_csv(exported_gaze_csv)\n",
    "    annotations_csv = os.path.join(recording_location,'annotations.csv')\n",
    "    annotations_pd = pd.read_csv(annotations_csv)\n",
    "    surface_gaze_csv = os.path.join(recording_location, 'surfaces',gaze_surf_csv)\n",
    "    surfaces_pd_frame = pd.read_csv(surface_gaze_csv)\n"
   ]
  },
  {
   "attachments": {},
   "cell_type": "markdown",
   "metadata": {},
   "source": [
    "### Filter data that is inside the surface\n",
    "#### Due to the fact that te gaze timesatmp of the surface is obtained by combining data from both pupils we cant just merge by the timestamp. We have to read and duplicate values\n",
    "\n"
   ]
  },
  {
   "attachments": {},
   "cell_type": "markdown",
   "metadata": {},
   "source": [
    "### Cut all data by annotations of interest"
   ]
  },
  {
   "cell_type": "code",
   "execution_count": 30,
   "metadata": {},
   "outputs": [
    {
     "data": {
      "text/html": [
       "<div>\n",
       "<style scoped>\n",
       "    .dataframe tbody tr th:only-of-type {\n",
       "        vertical-align: middle;\n",
       "    }\n",
       "\n",
       "    .dataframe tbody tr th {\n",
       "        vertical-align: top;\n",
       "    }\n",
       "\n",
       "    .dataframe thead th {\n",
       "        text-align: right;\n",
       "    }\n",
       "</style>\n",
       "<table border=\"1\" class=\"dataframe\">\n",
       "  <thead>\n",
       "    <tr style=\"text-align: right;\">\n",
       "      <th></th>\n",
       "      <th>index</th>\n",
       "      <th>timestamp</th>\n",
       "      <th>label</th>\n",
       "      <th>duration</th>\n",
       "    </tr>\n",
       "  </thead>\n",
       "  <tbody>\n",
       "    <tr>\n",
       "      <th>0</th>\n",
       "      <td>6231</td>\n",
       "      <td>21605.402144</td>\n",
       "      <td>blank_0</td>\n",
       "      <td>NaN</td>\n",
       "    </tr>\n",
       "  </tbody>\n",
       "</table>\n",
       "</div>"
      ],
      "text/plain": [
       "   index     timestamp    label  duration\n",
       "0   6231  21605.402144  blank_0       NaN"
      ]
     },
     "metadata": {},
     "output_type": "display_data"
    },
    {
     "data": {
      "text/plain": [
       "index                  38467\n",
       "timestamp       22145.537089\n",
       "label        EndOfExperiment\n",
       "duration                 NaN\n",
       "Name: 162, dtype: object"
      ]
     },
     "metadata": {},
     "output_type": "display_data"
    }
   ],
   "source": [
    "# pupil_pd_frame=final_df\n",
    "\n",
    "from IPython.display import display\n",
    "\n",
    "event_initial=annotations_pd['label'].values[0]\n",
    "event_final=annotations_pd['label'].values[-1]\n",
    "\n",
    "initial_anotation,_,_=cm.extract_annotations_timestamps(event_initial,'label',annotations_pd)\n",
    "end_anotation=annotations_pd.iloc[-1]\n",
    "display(initial_anotation)\n",
    "display(end_anotation)\n",
    "\n",
    "pupil_pd_frame=cm.filter_rows_by_temporal_values(\n",
    "         dataframe=pupil_pd_frame,\n",
    "         time_column='pupil_timestamp',\n",
    "         ini_value=initial_anotation['timestamp'].values[0],\n",
    "         end_value=end_anotation['timestamp']\n",
    "         )"
   ]
  },
  {
   "attachments": {},
   "cell_type": "markdown",
   "metadata": {},
   "source": [
    "## Data cleaning\n",
    "Extracting pupil 3d data for analysis:\n",
    "1) Select eye that has a better signal\n",
    "2) Clean blinks from data\n",
    "3) Asses that quality"
   ]
  },
  {
   "attachments": {},
   "cell_type": "markdown",
   "metadata": {},
   "source": [
    "Now select eye with better data quality "
   ]
  },
  {
   "cell_type": "code",
   "execution_count": 58,
   "metadata": {},
   "outputs": [],
   "source": [
    "def extract_eye_data(pupil_df:pd.DataFrame,eye_id: str = 'best',\n",
    "               method: str = 'pye3d 0.3.0 real-time',confidence_thr: float=0.95)-> pd.DataFrame:\n",
    "    # TODO: Refactor function in smaller chunks-- clean code\n",
    "    \"\"\"Function to extract pupil data for eye of interest. \n",
    "    Left eye, right eye or best eye can be extracted for further analysis\n",
    "\n",
    "    Args:\n",
    "        pupil_df (pd.DataFrame): pupil pandas dataframe\n",
    "        eye_id (str, optional): _description_. Defaults to 'best'.\n",
    "        method (str, optional): _description_. Defaults to 'pye3d 0.3.0 real-time'.\n",
    "        confidence_thr: Confidence thershold for data qualiltu filtering. Deafults to 0.95\n",
    "\n",
    "    Raises:\n",
    "        ValueError: a string must be put to indicate if we are using left, right eye or best\n",
    "\n",
    "    Returns:\n",
    "        pd.DataFrame: pandas dataframe with pupil data of interest\n",
    "    \"\"\"\n",
    "    pupil_df = pupil_df.loc[pupil_df.method.str.contains(method)]\n",
    "\n",
    "    pupil_left_eye=pupil_df.loc[(pupil_pd_frame['eye_id']==1) & (pupil_pd_frame['confidence']>=confidence_thr)]\n",
    "    pupil_right_eye=pupil_df.loc[(pupil_pd_frame['eye_id']==0) & (pupil_pd_frame['confidence']>=confidence_thr)]\n",
    "\n",
    "    blinks_left_eye=pupil_df.loc[(pupil_pd_frame['eye_id']==1) & (pupil_pd_frame['confidence']< confidence_thr)]\n",
    "    blinks_right_eye=pupil_df.loc[(pupil_pd_frame['eye_id']==0) & (pupil_pd_frame['confidence']< confidence_thr)]\n",
    "\n",
    "\n",
    "    ##  Explore blinks and Asses data quality, are there many regions with data gaps? \n",
    "    parts = list(recording_location.parts)\n",
    "    parts=parts[0:-2]\n",
    "    parts=Path(*parts)\n",
    "    f = open(parts.joinpath('info.player.json'))\n",
    "    data = json.load(f)\n",
    "    time_whole_recording=data['duration_s']\n",
    "    time_roi_left=abs(pupil_left_eye['pupil_timestamp'].values[-1]-pupil_left_eye['pupil_timestamp'].values[0])\n",
    "    time_roi_right=abs(pupil_right_eye['pupil_timestamp'].values[-1]-pupil_right_eye['pupil_timestamp'].values[0])\n",
    "\n",
    "    pupil_sampling_freq_left=(pupil_left_eye.shape[0]+blinks_left_eye.shape[0])/time_roi_left\n",
    "    pupil_sampling_freq_right=(pupil_right_eye.shape[0]+blinks_right_eye.shape[0])/time_roi_right \n",
    "    print(f'time of the whole recording is {time_whole_recording}')\n",
    "    print(f'time after anottaion cutting {time_roi_left:.2f}s for left eye and {time_roi_right:.2f}s for right eye')\n",
    "    print('sampling frequency for right eye is {}'.format(pupil_sampling_freq_right)) \n",
    "    print('sampling frequency for left eye is {}'.format(pupil_sampling_freq_left)) \n",
    "    # Closing file\n",
    "    f.close()\n",
    "\n",
    "    ### Asses data quality\n",
    "    total_blinks_left=blinks_left_eye.shape[0]/pupil_sampling_freq_left\n",
    "    total_blinks_right=blinks_right_eye.shape[0]/pupil_sampling_freq_right\n",
    "    print(f'Total blinks time left {total_blinks_left:.2f}s and right {total_blinks_right:.2f}s of a total of {time_roi_left:.2f}s left and {time_roi_right:.2f}s right')\n",
    "    print(f'Total blinks time left {total_blinks_left/time_roi_left:.2%} ')\n",
    "    print(f'Total blinks time right {total_blinks_right/time_roi_right:.2%} ')\n",
    "\n",
    "    if eye_id == 'left':\n",
    "        pupil_df = pupil_df[pupil_df.eye_id == 1]\n",
    "    elif eye_id == 'right':\n",
    "        pupil_df = pupil_df[pupil_df.eye_id == 0]\n",
    "    elif eye_id == 'best':\n",
    "        best = pupil_df.groupby(['eye_id'])['confidence'].mean()\n",
    "        display(best)\n",
    "        best=best.idxmax()\n",
    "        pupil_df = pupil_df[pupil_df.eye_id == best]\n",
    "        eye='left'if best==1 else 'right'\n",
    "        print(f'data from {eye} eye was selected')\n",
    "    else:\n",
    "        raise ValueError('Eye must be \"left\", \"right\" or \"best\".')\n",
    "    print('Loaded {} samples'.format(len(pupil_df)))\n",
    "    return pupil_df\n"
   ]
  },
  {
   "cell_type": "code",
   "execution_count": 59,
   "metadata": {},
   "outputs": [
    {
     "name": "stdout",
     "output_type": "stream",
     "text": [
      "time of the whole recording is 668.9416070000007\n",
      "time after anottaion cutting 540.13s for left eye and 540.13s for right eye\n",
      "sampling frequency for right eye is 123.92823997814095\n",
      "sampling frequency for left eye is 123.93008313418737\n",
      "Total blinks time left 73.78s and right 62.46s of a total of 540.13s left and 540.13s right\n",
      "Total blinks time left 13.66% \n",
      "Total blinks time right 11.56% \n"
     ]
    },
    {
     "data": {
      "text/plain": [
       "eye_id\n",
       "0    0.931343\n",
       "1    0.923288\n",
       "Name: confidence, dtype: float64"
      ]
     },
     "metadata": {},
     "output_type": "display_data"
    },
    {
     "name": "stdout",
     "output_type": "stream",
     "text": [
      "data from right eye was selected\n",
      "Loaded 66937 samples\n"
     ]
    }
   ],
   "source": [
    "pupil_df=extract_eye_data(pupil_df=pupil_pd_frame,\n",
    "                          eye_id='best',\n",
    "                          method='pye3d 0.3.0 real-time')"
   ]
  },
  {
   "attachments": {},
   "cell_type": "markdown",
   "metadata": {},
   "source": []
  }
 ],
 "metadata": {
  "kernelspec": {
   "display_name": "bayes",
   "language": "python",
   "name": "python3"
  },
  "language_info": {
   "codemirror_mode": {
    "name": "ipython",
    "version": 3
   },
   "file_extension": ".py",
   "mimetype": "text/x-python",
   "name": "python",
   "nbconvert_exporter": "python",
   "pygments_lexer": "ipython3",
   "version": "3.11.0"
  },
  "orig_nbformat": 4
 },
 "nbformat": 4,
 "nbformat_minor": 2
}
