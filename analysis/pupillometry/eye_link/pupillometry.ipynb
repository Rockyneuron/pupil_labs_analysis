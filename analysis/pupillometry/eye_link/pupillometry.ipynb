{
 "cells": [
  {
   "cell_type": "markdown",
   "metadata": {},
   "source": [
    "## Pupillometry analysis for eye link"
   ]
  },
  {
   "cell_type": "markdown",
   "metadata": {},
   "source": [
    "Analysis of pupillometry for eye link, based on the previous analysis (pupillometry_2.0) done for pupil labs data."
   ]
  },
  {
   "cell_type": "markdown",
   "metadata": {},
   "source": [
    "First step, to open and clean eye link data"
   ]
  },
  {
   "cell_type": "markdown",
   "metadata": {},
   "source": [
    "## Data loading\n",
    "\n",
    "As usual we start by importing the modules we need and loading some\n",
    "`example data <eyelink-dataset>`: eye-tracking data recorded from SR research's\n",
    "``'.asc'`` file format, and EEG data recorded from EGI's ``'.mff'`` file format. We'll\n",
    "pass ``create_annotations=[\"blinks\"]`` to :func:`~mne.io.read_raw_eyelink` so that\n",
    "only blinks annotations are created (by default, annotations are created for blinks,\n",
    "saccades, fixations, and experiment messages).\n",
    "\n"
   ]
  },
  {
   "cell_type": "code",
   "execution_count": 1,
   "metadata": {},
   "outputs": [
    {
     "name": "stdout",
     "output_type": "stream",
     "text": [
      "Loading z:\\lab\\escritorio\\projects\\pupil_labs\\analysis\\pupil_labs_analysis\\analysis\\pupillometry\\eye_link\\data\\001_2023_07_19_12_46.asc\n",
      "Pixel coordinate data detected.Pass `scalings=dict(eyegaze=1e3)` when using plot method to make traces more legible.\n",
      "Pupil-size area detected.\n",
      "There are 57 recording blocks in this file. Times between  blocks will be annotated with BAD_ACQ_SKIP.\n"
     ]
    }
   ],
   "source": [
    "import mne\n",
    "from mne.datasets.eyelink import data_path\n",
    "from mne.preprocessing.eyetracking import read_eyelink_calibration\n",
    "from pathlib import Path\n",
    "import pandas as pd \n",
    "import numpy as np\n",
    "\n",
    "et_fpath = Path('data') / \"001_2023_07_19_12_46.asc\"\n",
    "\n",
    "\n",
    "raw_et = mne.io.read_raw_eyelink(et_fpath, preload=True, create_annotations=['blinks','messages'])\n"
   ]
  },
  {
   "cell_type": "code",
   "execution_count": 2,
   "metadata": {},
   "outputs": [
    {
     "data": {
      "text/plain": [
       "array(['Obj0183_Asset0007.tif', 'image_onset', 'BAD_blink', 'BAD_blink',\n",
       "       'BAD_blink', 'BAD_blink', 'image_offset', 'blank_screen',\n",
       "       'BAD_ACQ_SKIP', 'Obj0196_Asset0022.tif', 'image_onset',\n",
       "       'BAD_blink', 'BAD_blink', 'image_offset', 'blank_screen',\n",
       "       'BAD_ACQ_SKIP', 'Obj0208_Asset0036.tif', 'image_onset',\n",
       "       'BAD_blink', 'BAD_blink', 'BAD_blink', 'BAD_blink', 'image_offset',\n",
       "       'blank_screen', 'BAD_ACQ_SKIP', 'image_onset',\n",
       "       'Obj0205_Asset0033.tif', 'BAD_blink', 'BAD_blink', 'BAD_blink',\n",
       "       'BAD_blink', 'image_offset', 'blank_screen', 'BAD_blink',\n",
       "       'BAD_blink', 'BAD_ACQ_SKIP', 'Obj0108_Asset0046.tiff',\n",
       "       'image_onset', 'BAD_blink', 'BAD_blink', 'BAD_blink', 'BAD_blink',\n",
       "       'BAD_blink', 'BAD_blink', 'image_offset', 'blank_screen',\n",
       "       'BAD_ACQ_SKIP', 'BAD_blink', 'BAD_blink', 'Obj0185_Asset0009.tif',\n",
       "       'image_onset', 'BAD_blink', 'BAD_blink', 'BAD_blink', 'BAD_blink',\n",
       "       'image_offset', 'blank_screen', 'BAD_ACQ_SKIP', 'BAD_blink',\n",
       "       'BAD_blink', 'image_onset', 'Obj0214_Asset0042.tif', 'BAD_blink',\n",
       "       'BAD_blink', 'BAD_blink', 'BAD_blink', 'BAD_blink', 'BAD_blink',\n",
       "       'BAD_blink', 'BAD_blink', 'image_offset', 'blank_screen',\n",
       "       'BAD_ACQ_SKIP', 'Obj0177_Asset0001.tif', 'image_onset',\n",
       "       'BAD_blink', 'BAD_blink', 'BAD_blink', 'BAD_blink', 'BAD_blink',\n",
       "       'BAD_blink', 'BAD_blink', 'BAD_blink', 'BAD_blink', 'BAD_blink',\n",
       "       'image_offset', 'blank_screen', 'BAD_ACQ_SKIP', 'BAD_blink',\n",
       "       'BAD_blink', 'Obj0191_Asset0016.tif', 'image_onset', 'BAD_blink',\n",
       "       'BAD_blink', 'BAD_blink', 'BAD_blink', 'image_offset',\n",
       "       'blank_screen', 'BAD_ACQ_SKIP', 'Obj0175_Surprise08.tif',\n",
       "       'image_onset', 'BAD_blink', 'BAD_blink', 'BAD_blink', 'BAD_blink',\n",
       "       'image_offset', 'blank_screen', 'BAD_ACQ_SKIP', 'image_onset',\n",
       "       'Obj0206_Asset0034.tif', 'BAD_blink', 'BAD_blink', 'BAD_blink',\n",
       "       'BAD_blink', 'image_offset', 'blank_screen', 'BAD_ACQ_SKIP',\n",
       "       'Obj0184_Asset0008.tif', 'image_onset', 'BAD_blink', 'BAD_blink',\n",
       "       'BAD_blink', 'BAD_blink', 'BAD_blink', 'BAD_blink', 'BAD_blink',\n",
       "       'BAD_blink', 'BAD_blink', 'BAD_blink', 'image_offset',\n",
       "       'blank_screen', 'BAD_ACQ_SKIP', 'Obj0199_Asset0027.tif',\n",
       "       'image_onset', 'BAD_blink', 'BAD_blink', 'BAD_blink', 'BAD_blink',\n",
       "       'BAD_blink', 'BAD_blink', 'image_offset', 'blank_screen',\n",
       "       'BAD_ACQ_SKIP', 'image_onset', 'Obj0197_Asset0024.tif',\n",
       "       'BAD_blink', 'BAD_blink', 'BAD_blink', 'BAD_blink', 'image_offset',\n",
       "       'blank_screen', 'BAD_ACQ_SKIP', 'Obj0209_Asset0037.tif',\n",
       "       'image_onset', 'BAD_blink', 'BAD_blink', 'BAD_blink', 'BAD_blink',\n",
       "       'image_offset', 'blank_screen', 'BAD_blink', 'BAD_blink',\n",
       "       'BAD_ACQ_SKIP', 'Obj0110_Asset0048.tiff', 'image_onset',\n",
       "       'BAD_blink', 'BAD_blink', 'image_offset', 'blank_screen',\n",
       "       'BAD_ACQ_SKIP', 'Obj0187_Asset0011.tif', 'image_onset',\n",
       "       'BAD_blink', 'BAD_blink', 'image_offset', 'blank_screen',\n",
       "       'BAD_blink', 'BAD_blink', 'BAD_ACQ_SKIP', 'image_onset',\n",
       "       'Obj0194_Asset0020.tif', 'BAD_blink', 'BAD_blink', 'BAD_blink',\n",
       "       'BAD_blink', 'BAD_blink', 'BAD_blink', 'image_offset',\n",
       "       'blank_screen', 'BAD_ACQ_SKIP', 'BAD_blink', 'BAD_blink',\n",
       "       'Obj0201_Asset0029.tif', 'image_onset', 'BAD_blink', 'BAD_blink',\n",
       "       'BAD_blink', 'BAD_blink', 'BAD_blink', 'BAD_blink', 'BAD_blink',\n",
       "       'BAD_blink', 'BAD_blink', 'BAD_blink', 'BAD_blink', 'BAD_blink',\n",
       "       'image_offset', 'blank_screen', 'BAD_ACQ_SKIP',\n",
       "       'Obj0176_Surprise09.tif', 'image_onset', 'BAD_blink', 'BAD_blink',\n",
       "       'BAD_blink', 'BAD_blink', 'BAD_blink', 'BAD_blink', 'image_offset',\n",
       "       'blank_screen', 'BAD_ACQ_SKIP', 'image_onset',\n",
       "       'Obj0216_Asset0044.tif', 'BAD_blink', 'BAD_blink', 'BAD_blink',\n",
       "       'BAD_blink', 'image_offset', 'blank_screen', 'BAD_ACQ_SKIP',\n",
       "       'Obj0173_Surprise06.tiff', 'image_onset', 'BAD_blink', 'BAD_blink',\n",
       "       'BAD_blink', 'BAD_blink', 'image_offset', 'blank_screen',\n",
       "       'BAD_ACQ_SKIP', 'Obj0188_Asset0012.tif', 'image_onset',\n",
       "       'BAD_blink', 'BAD_blink', 'BAD_blink', 'BAD_blink', 'image_offset',\n",
       "       'blank_screen', 'BAD_blink', 'BAD_blink', 'BAD_ACQ_SKIP',\n",
       "       'BAD_blink', 'BAD_blink', 'Obj0109_Asset0047.tiff', 'image_onset',\n",
       "       'BAD_blink', 'BAD_blink', 'image_offset', 'blank_screen',\n",
       "       'BAD_ACQ_SKIP', 'image_onset', 'Obj0213_Asset0041.tif',\n",
       "       'BAD_blink', 'BAD_blink', 'BAD_blink', 'BAD_blink', 'BAD_blink',\n",
       "       'BAD_blink', 'image_offset', 'blank_screen', 'BAD_ACQ_SKIP',\n",
       "       'BAD_blink', 'BAD_blink', 'Obj0204_Asset0032.tif', 'image_onset',\n",
       "       'BAD_blink', 'BAD_blink', 'BAD_blink', 'BAD_blink', 'BAD_blink',\n",
       "       'BAD_blink', 'image_offset', 'blank_screen', 'BAD_ACQ_SKIP',\n",
       "       'Obj0190_Asset0015.tif', 'image_onset', 'BAD_blink', 'BAD_blink',\n",
       "       'BAD_blink', 'BAD_blink', 'BAD_blink', 'BAD_blink', 'BAD_blink',\n",
       "       'BAD_blink', 'BAD_blink', 'BAD_blink', 'image_offset',\n",
       "       'blank_screen', 'BAD_ACQ_SKIP', 'Obj0215_Asset0043.tif',\n",
       "       'image_onset', 'BAD_blink', 'BAD_blink', 'BAD_blink', 'BAD_blink',\n",
       "       'BAD_blink', 'BAD_blink', 'BAD_blink', 'BAD_blink', 'BAD_blink',\n",
       "       'BAD_blink', 'image_offset', 'blank_screen', 'BAD_ACQ_SKIP',\n",
       "       'image_onset', 'Obj0112_Asset0050.tiff', 'BAD_blink', 'BAD_blink',\n",
       "       'BAD_blink', 'BAD_blink', 'BAD_blink', 'BAD_blink', 'image_offset',\n",
       "       'blank_screen', 'BAD_ACQ_SKIP', 'Obj0171_Surprise02.tiff',\n",
       "       'image_onset', 'BAD_blink', 'BAD_blink', 'BAD_blink', 'BAD_blink',\n",
       "       'BAD_blink', 'BAD_blink', 'image_offset', 'blank_screen',\n",
       "       'BAD_ACQ_SKIP', 'Obj0111_Asset0049.tiff', 'image_onset',\n",
       "       'BAD_blink', 'BAD_blink', 'BAD_blink', 'BAD_blink', 'BAD_blink',\n",
       "       'BAD_blink', 'BAD_blink', 'BAD_blink', 'image_offset',\n",
       "       'blank_screen', 'BAD_ACQ_SKIP', 'BAD_blink', 'BAD_blink',\n",
       "       'Obj0174_Surprise07.tif', 'image_onset', 'BAD_blink', 'BAD_blink',\n",
       "       'BAD_blink', 'BAD_blink', 'BAD_blink', 'BAD_blink', 'BAD_blink',\n",
       "       'BAD_blink', 'image_offset', 'blank_screen', 'BAD_ACQ_SKIP',\n",
       "       'Obj0182_Asset0006.tif', 'image_onset', 'BAD_blink', 'BAD_blink',\n",
       "       'BAD_blink', 'BAD_blink', 'image_offset', 'blank_screen',\n",
       "       'BAD_ACQ_SKIP', 'Obj0181_Asset0005.tif', 'image_onset',\n",
       "       'BAD_blink', 'BAD_blink', 'image_offset', 'blank_screen',\n",
       "       'BAD_ACQ_SKIP', 'Obj0178_Asset0002.tif', 'image_onset',\n",
       "       'BAD_blink', 'BAD_blink', 'BAD_blink', 'BAD_blink', 'BAD_blink',\n",
       "       'BAD_blink', 'image_offset', 'blank_screen', 'BAD_ACQ_SKIP',\n",
       "       'image_onset', 'Obj0192_Asset0017.tif', 'BAD_blink', 'BAD_blink',\n",
       "       'BAD_blink', 'BAD_blink', 'BAD_blink', 'BAD_blink', 'image_offset',\n",
       "       'blank_screen', 'BAD_ACQ_SKIP', 'Obj0195_Asset0021.tif',\n",
       "       'image_onset', 'BAD_blink', 'BAD_blink', 'BAD_blink', 'BAD_blink',\n",
       "       'BAD_blink', 'BAD_blink', 'image_offset', 'blank_screen',\n",
       "       'BAD_ACQ_SKIP', 'Obj0200_Asset0028.tif', 'image_onset',\n",
       "       'BAD_blink', 'BAD_blink', 'BAD_blink', 'BAD_blink', 'BAD_blink',\n",
       "       'BAD_blink', 'BAD_blink', 'BAD_blink', 'image_offset',\n",
       "       'blank_screen', 'BAD_ACQ_SKIP', 'Obj0118_Asset0046.tif',\n",
       "       'image_onset', 'BAD_blink', 'BAD_blink', 'BAD_blink', 'BAD_blink',\n",
       "       'image_offset', 'blank_screen', 'BAD_ACQ_SKIP',\n",
       "       'Obj0179_Asset0003.tif', 'image_onset', 'BAD_blink', 'BAD_blink',\n",
       "       'BAD_blink', 'BAD_blink', 'BAD_blink', 'BAD_blink', 'BAD_blink',\n",
       "       'BAD_blink', 'image_offset', 'blank_screen', 'BAD_ACQ_SKIP',\n",
       "       'BAD_blink', 'BAD_blink', 'Obj0212_Asset0040.tif', 'image_onset',\n",
       "       'BAD_blink', 'BAD_blink', 'BAD_blink', 'BAD_blink', 'BAD_blink',\n",
       "       'BAD_blink', 'image_offset', 'blank_screen', 'BAD_ACQ_SKIP',\n",
       "       'Obj0210_Asset0038.tif', 'image_onset', 'BAD_blink', 'BAD_blink',\n",
       "       'BAD_blink', 'BAD_blink', 'BAD_blink', 'BAD_blink', 'BAD_blink',\n",
       "       'BAD_blink', 'image_offset', 'blank_screen', 'BAD_blink',\n",
       "       'BAD_blink', 'BAD_ACQ_SKIP', 'BAD_blink', 'BAD_blink',\n",
       "       'Obj0207_Asset0035.tif', 'image_onset', 'BAD_blink', 'BAD_blink',\n",
       "       'BAD_blink', 'BAD_blink', 'BAD_blink', 'BAD_blink', 'BAD_blink',\n",
       "       'BAD_blink', 'BAD_blink', 'BAD_blink', 'image_offset',\n",
       "       'blank_screen', 'BAD_ACQ_SKIP', 'BAD_blink', 'BAD_blink',\n",
       "       'Obj0202_Asset0030.tif', 'image_onset', 'BAD_blink', 'BAD_blink',\n",
       "       'BAD_blink', 'BAD_blink', 'BAD_blink', 'BAD_blink', 'image_offset',\n",
       "       'blank_screen', 'BAD_ACQ_SKIP', 'Obj0186_Asset0010.tif',\n",
       "       'image_onset', 'BAD_blink', 'BAD_blink', 'BAD_blink', 'BAD_blink',\n",
       "       'image_offset', 'blank_screen', 'BAD_ACQ_SKIP',\n",
       "       'Obj0203_Asset0031.tif', 'image_onset', 'BAD_blink', 'BAD_blink',\n",
       "       'BAD_blink', 'BAD_blink', 'BAD_blink', 'BAD_blink', 'image_offset',\n",
       "       'blank_screen', 'BAD_ACQ_SKIP', 'image_onset',\n",
       "       'Obj0128_Asset0048.tif', 'BAD_blink', 'BAD_blink', 'BAD_blink',\n",
       "       'BAD_blink', 'image_offset', 'blank_screen', 'BAD_ACQ_SKIP',\n",
       "       'Obj0124_Asset0047.tif', 'image_onset', 'BAD_blink', 'BAD_blink',\n",
       "       'BAD_blink', 'BAD_blink', 'BAD_blink', 'BAD_blink', 'BAD_blink',\n",
       "       'BAD_blink', 'image_offset', 'blank_screen', 'BAD_ACQ_SKIP',\n",
       "       'Obj0180_Asset0004.tif', 'image_onset', 'BAD_blink', 'BAD_blink',\n",
       "       'BAD_blink', 'BAD_blink', 'image_offset', 'blank_screen',\n",
       "       'BAD_ACQ_SKIP', 'Obj0155_Asset0050.tif', 'image_onset',\n",
       "       'BAD_blink', 'BAD_blink', 'BAD_blink', 'BAD_blink', 'BAD_blink',\n",
       "       'BAD_blink', 'image_offset', 'blank_screen', 'BAD_ACQ_SKIP',\n",
       "       'Obj0172_Surprise05.tiff', 'image_onset', 'BAD_blink', 'BAD_blink',\n",
       "       'image_offset', 'blank_screen', 'BAD_ACQ_SKIP',\n",
       "       'Obj0193_Asset0018.tif', 'image_onset', 'BAD_blink', 'BAD_blink',\n",
       "       'BAD_blink', 'BAD_blink', 'BAD_blink', 'BAD_blink', 'BAD_blink',\n",
       "       'BAD_blink', 'image_offset', 'blank_screen', 'BAD_ACQ_SKIP',\n",
       "       'Obj0217_Asset0045.tif', 'image_onset', 'BAD_blink', 'BAD_blink',\n",
       "       'BAD_blink', 'BAD_blink', 'image_offset', 'blank_screen',\n",
       "       'BAD_ACQ_SKIP', 'image_onset', 'Obj0198_Asset0026.tif',\n",
       "       'BAD_blink', 'BAD_blink', 'BAD_blink', 'BAD_blink', 'BAD_blink',\n",
       "       'BAD_blink', 'BAD_blink', 'BAD_blink', 'image_offset',\n",
       "       'blank_screen', 'BAD_ACQ_SKIP', 'Obj0189_Asset0014.tif',\n",
       "       'image_onset', 'BAD_blink', 'BAD_blink', 'BAD_blink', 'BAD_blink',\n",
       "       'BAD_blink', 'BAD_blink', 'image_offset', 'blank_screen',\n",
       "       'BAD_blink', 'BAD_blink', 'BAD_ACQ_SKIP', 'BAD_blink', 'BAD_blink',\n",
       "       'Obj0211_Asset0039.tif', 'image_onset', 'BAD_blink', 'BAD_blink',\n",
       "       'image_offset', 'blank_screen', 'BAD_blink', 'BAD_blink',\n",
       "       'BAD_ACQ_SKIP', 'Obj0152_Asset0049.tif', 'image_onset',\n",
       "       'BAD_blink', 'BAD_blink', 'BAD_blink', 'BAD_blink', 'BAD_blink',\n",
       "       'BAD_blink', 'image_offset', 'blank_screen'], dtype='<U23')"
      ]
     },
     "execution_count": 2,
     "metadata": {},
     "output_type": "execute_result"
    }
   ],
   "source": [
    "raw_et.annotations.description"
   ]
  },
  {
   "cell_type": "code",
   "execution_count": 3,
   "metadata": {},
   "outputs": [
    {
     "data": {
      "text/plain": [
       "array([1.08000e-01, 1.08000e-01, 1.63200e+00, 1.63200e+00, 4.85000e+00,\n",
       "       4.85400e+00, 6.10000e+00, 6.10400e+00, 6.20500e+00, 7.79200e+00,\n",
       "       7.79200e+00, 1.14500e+01, 1.14520e+01, 1.37810e+01, 1.37880e+01,\n",
       "       1.38910e+01, 1.62100e+01, 1.62100e+01, 1.83660e+01, 1.83660e+01,\n",
       "       2.13460e+01, 2.13560e+01, 2.21970e+01, 2.22060e+01, 2.23070e+01,\n",
       "       2.41760e+01, 2.41760e+01, 2.57980e+01, 2.58060e+01, 2.91300e+01,\n",
       "       2.91360e+01, 3.01640e+01, 3.01710e+01, 3.02600e+01, 3.02680e+01,\n",
       "       3.02730e+01, 3.34750e+01, 3.34750e+01, 3.57380e+01, 3.57440e+01,\n",
       "       3.68480e+01, 3.68540e+01, 3.77560e+01, 3.77600e+01, 3.94640e+01,\n",
       "       3.94710e+01, 3.95730e+01, 4.15360e+01, 4.15360e+01, 4.16600e+01,\n",
       "       4.16600e+01, 4.53420e+01, 4.53440e+01, 4.66960e+01, 4.66960e+01,\n",
       "       4.76470e+01, 4.76540e+01, 4.77550e+01, 5.02360e+01, 5.02360e+01,\n",
       "       5.03610e+01, 5.03610e+01, 5.16800e+01, 5.16880e+01, 5.39560e+01,\n",
       "       5.39620e+01, 5.49240e+01, 5.49660e+01, 5.60020e+01, 5.60140e+01,\n",
       "       5.63490e+01, 5.63550e+01, 5.64570e+01, 5.91580e+01, 5.91580e+01,\n",
       "       5.92920e+01, 5.93060e+01, 6.18160e+01, 6.18200e+01, 6.26920e+01,\n",
       "       6.26920e+01, 6.34980e+01, 6.35080e+01, 6.50180e+01, 6.50300e+01,\n",
       "       6.51470e+01, 6.51540e+01, 6.52550e+01, 6.77980e+01, 6.78060e+01,\n",
       "       6.78940e+01, 6.78940e+01, 7.09960e+01, 7.09980e+01, 7.23400e+01,\n",
       "       7.23480e+01, 7.38820e+01, 7.38890e+01, 7.39910e+01, 7.64260e+01,\n",
       "       7.64260e+01, 7.66560e+01, 7.66660e+01, 8.14140e+01, 8.14160e+01,\n",
       "       8.24160e+01, 8.24210e+01, 8.25230e+01, 8.50110e+01, 8.50110e+01,\n",
       "       8.80720e+01, 8.80820e+01, 9.09460e+01, 9.09540e+01, 9.09970e+01,\n",
       "       9.10040e+01, 9.11050e+01, 9.36630e+01, 9.36630e+01, 9.38400e+01,\n",
       "       9.38500e+01, 9.50940e+01, 9.51000e+01, 9.76180e+01, 9.76300e+01,\n",
       "       9.87480e+01, 9.87560e+01, 9.95580e+01, 9.95720e+01, 9.96480e+01,\n",
       "       9.96540e+01, 9.97550e+01, 1.01475e+02, 1.01475e+02, 1.02368e+02,\n",
       "       1.02378e+02, 1.04178e+02, 1.04192e+02, 1.06870e+02, 1.06880e+02,\n",
       "       1.07464e+02, 1.07471e+02, 1.07573e+02, 1.09685e+02, 1.09685e+02,\n",
       "       1.13114e+02, 1.13114e+02, 1.14804e+02, 1.14812e+02, 1.15665e+02,\n",
       "       1.15671e+02, 1.15773e+02, 1.17561e+02, 1.17561e+02, 1.19442e+02,\n",
       "       1.19450e+02, 1.22284e+02, 1.22288e+02, 1.23547e+02, 1.23554e+02,\n",
       "       1.23624e+02, 1.23626e+02, 1.23655e+02, 1.25881e+02, 1.25881e+02,\n",
       "       1.28084e+02, 1.28094e+02, 1.31864e+02, 1.31871e+02, 1.31973e+02,\n",
       "       1.34115e+02, 1.34115e+02, 1.34530e+02, 1.34532e+02, 1.40098e+02,\n",
       "       1.40104e+02, 1.40142e+02, 1.40150e+02, 1.40205e+02, 1.42263e+02,\n",
       "       1.42263e+02, 1.44824e+02, 1.44832e+02, 1.46754e+02, 1.46760e+02,\n",
       "       1.47980e+02, 1.47990e+02, 1.48248e+02, 1.48254e+02, 1.48355e+02,\n",
       "       1.50700e+02, 1.50700e+02, 1.50828e+02, 1.50828e+02, 1.52238e+02,\n",
       "       1.52240e+02, 1.53350e+02, 1.53364e+02, 1.54606e+02, 1.54614e+02,\n",
       "       1.55284e+02, 1.55284e+02, 1.55948e+02, 1.55958e+02, 1.56414e+02,\n",
       "       1.56426e+02, 1.56816e+02, 1.56823e+02, 1.56925e+02, 1.60428e+02,\n",
       "       1.60428e+02, 1.61292e+02, 1.61304e+02, 1.63756e+02, 1.63770e+02,\n",
       "       1.66064e+02, 1.66066e+02, 1.66414e+02, 1.66421e+02, 1.66523e+02,\n",
       "       1.68830e+02, 1.68830e+02, 1.72286e+02, 1.72288e+02, 1.73478e+02,\n",
       "       1.73478e+02, 1.74814e+02, 1.74821e+02, 1.74923e+02, 1.77736e+02,\n",
       "       1.77736e+02, 1.77818e+02, 1.77828e+02, 1.80878e+02, 1.80878e+02,\n",
       "       1.83714e+02, 1.83721e+02, 1.83823e+02, 1.86838e+02, 1.86838e+02,\n",
       "       1.89148e+02, 1.89156e+02, 1.90054e+02, 1.90064e+02, 1.92831e+02,\n",
       "       1.92837e+02, 1.92900e+02, 1.92916e+02, 1.92939e+02, 1.96724e+02,\n",
       "       1.96724e+02, 1.96833e+02, 1.96833e+02, 2.00370e+02, 2.00380e+02,\n",
       "       2.02814e+02, 2.02820e+02, 2.02923e+02, 2.04563e+02, 2.04563e+02,\n",
       "       2.07588e+02, 2.07596e+02, 2.08816e+02, 2.08830e+02, 2.10252e+02,\n",
       "       2.10260e+02, 2.10550e+02, 2.10554e+02, 2.10655e+02, 2.12418e+02,\n",
       "       2.12418e+02, 2.12547e+02, 2.12547e+02, 2.14688e+02, 2.14700e+02,\n",
       "       2.16790e+02, 2.16804e+02, 2.18390e+02, 2.18400e+02, 2.18532e+02,\n",
       "       2.18537e+02, 2.18639e+02, 2.20465e+02, 2.20465e+02, 2.21412e+02,\n",
       "       2.21420e+02, 2.22688e+02, 2.22696e+02, 2.23982e+02, 2.23982e+02,\n",
       "       2.24756e+02, 2.24764e+02, 2.26084e+02, 2.26092e+02, 2.26450e+02,\n",
       "       2.26454e+02, 2.26555e+02, 2.28344e+02, 2.28344e+02, 2.29140e+02,\n",
       "       2.29144e+02, 2.30148e+02, 2.30154e+02, 2.31102e+02, 2.31110e+02,\n",
       "       2.32014e+02, 2.32022e+02, 2.33946e+02, 2.33954e+02, 2.34331e+02,\n",
       "       2.34338e+02, 2.34439e+02, 2.36126e+02, 2.36126e+02, 2.37232e+02,\n",
       "       2.37236e+02, 2.39854e+02, 2.39856e+02, 2.40612e+02, 2.40622e+02,\n",
       "       2.42114e+02, 2.42120e+02, 2.42223e+02, 2.44127e+02, 2.44127e+02,\n",
       "       2.44138e+02, 2.44144e+02, 2.47014e+02, 2.47028e+02, 2.48368e+02,\n",
       "       2.48368e+02, 2.50114e+02, 2.50121e+02, 2.50223e+02, 2.52494e+02,\n",
       "       2.52495e+02, 2.52612e+02, 2.52624e+02, 2.55478e+02, 2.55488e+02,\n",
       "       2.56632e+02, 2.56634e+02, 2.57752e+02, 2.57760e+02, 2.58480e+02,\n",
       "       2.58490e+02, 2.58591e+02, 2.60774e+02, 2.60786e+02, 2.60792e+02,\n",
       "       2.60792e+02, 2.62052e+02, 2.62062e+02, 2.63248e+02, 2.63256e+02,\n",
       "       2.64590e+02, 2.64602e+02, 2.65598e+02, 2.65608e+02, 2.66780e+02,\n",
       "       2.66787e+02, 2.66889e+02, 2.68560e+02, 2.68560e+02, 2.70936e+02,\n",
       "       2.70936e+02, 2.73974e+02, 2.73984e+02, 2.74547e+02, 2.74554e+02,\n",
       "       2.74655e+02, 2.76444e+02, 2.76444e+02, 2.77972e+02, 2.77976e+02,\n",
       "       2.82432e+02, 2.82437e+02, 2.82539e+02, 2.88245e+02, 2.88245e+02,\n",
       "       2.88268e+02, 2.88276e+02, 2.91124e+02, 2.91126e+02, 2.92704e+02,\n",
       "       2.92720e+02, 2.94231e+02, 2.94239e+02, 2.94341e+02, 2.96130e+02,\n",
       "       2.96130e+02, 2.97842e+02, 2.97850e+02, 3.00358e+02, 3.00366e+02,\n",
       "       3.01652e+02, 3.01664e+02, 3.02131e+02, 3.02132e+02, 3.02235e+02,\n",
       "       3.03900e+02, 3.03900e+02, 3.03970e+02, 3.03980e+02, 3.06098e+02,\n",
       "       3.06104e+02, 3.08836e+02, 3.08844e+02, 3.09885e+02, 3.09887e+02,\n",
       "       3.09989e+02, 3.12261e+02, 3.12261e+02, 3.12460e+02, 3.12480e+02,\n",
       "       3.13450e+02, 3.13460e+02, 3.14290e+02, 3.14296e+02, 3.17340e+02,\n",
       "       3.17346e+02, 3.18247e+02, 3.18255e+02, 3.18357e+02, 3.19942e+02,\n",
       "       3.19942e+02, 3.21114e+02, 3.21122e+02, 3.23826e+02, 3.23828e+02,\n",
       "       3.25932e+02, 3.25937e+02, 3.26039e+02, 3.29977e+02, 3.29977e+02,\n",
       "       3.30062e+02, 3.30070e+02, 3.31798e+02, 3.31802e+02, 3.33686e+02,\n",
       "       3.33690e+02, 3.35666e+02, 3.35674e+02, 3.35964e+02, 3.35970e+02,\n",
       "       3.36073e+02, 3.41870e+02, 3.41882e+02, 3.41897e+02, 3.41897e+02,\n",
       "       3.44382e+02, 3.44392e+02, 3.46372e+02, 3.46384e+02, 3.47312e+02,\n",
       "       3.47322e+02, 3.47880e+02, 3.47887e+02, 3.47989e+02, 3.52080e+02,\n",
       "       3.52080e+02, 3.54058e+02, 3.54066e+02, 3.55622e+02, 3.55630e+02,\n",
       "       3.56556e+02, 3.56568e+02, 3.57272e+02, 3.57286e+02, 3.58068e+02,\n",
       "       3.58070e+02, 3.58076e+02, 3.58088e+02, 3.58173e+02, 3.59908e+02,\n",
       "       3.59920e+02, 3.59924e+02, 3.59924e+02, 3.61376e+02, 3.61382e+02,\n",
       "       3.62572e+02, 3.62582e+02, 3.63650e+02, 3.63660e+02, 3.64820e+02,\n",
       "       3.64830e+02, 3.65870e+02, 3.65880e+02, 3.65916e+02, 3.65920e+02,\n",
       "       3.66023e+02, 3.68044e+02, 3.68056e+02, 3.68127e+02, 3.68127e+02,\n",
       "       3.69464e+02, 3.69472e+02, 3.70928e+02, 3.70940e+02, 3.72758e+02,\n",
       "       3.72762e+02, 3.74113e+02, 3.74120e+02, 3.74223e+02, 3.76377e+02,\n",
       "       3.76377e+02, 3.77288e+02, 3.77296e+02, 3.80148e+02, 3.80156e+02,\n",
       "       3.82364e+02, 3.82371e+02, 3.82473e+02, 3.84729e+02, 3.84729e+02,\n",
       "       3.85452e+02, 3.85462e+02, 3.86632e+02, 3.86634e+02, 3.89170e+02,\n",
       "       3.89174e+02, 3.90715e+02, 3.90720e+02, 3.90823e+02, 3.92378e+02,\n",
       "       3.92378e+02, 3.93366e+02, 3.93374e+02, 3.97394e+02, 3.97400e+02,\n",
       "       3.98364e+02, 3.98370e+02, 3.98473e+02, 4.00065e+02, 4.00065e+02,\n",
       "       4.00252e+02, 4.00266e+02, 4.01774e+02, 4.01776e+02, 4.03582e+02,\n",
       "       4.03590e+02, 4.04488e+02, 4.04488e+02, 4.06047e+02, 4.06054e+02,\n",
       "       4.06155e+02, 4.07943e+02, 4.07943e+02, 4.10526e+02, 4.10538e+02,\n",
       "       4.12264e+02, 4.12274e+02, 4.13931e+02, 4.13940e+02, 4.14041e+02,\n",
       "       4.16745e+02, 4.16745e+02, 4.16962e+02, 4.16968e+02, 4.20436e+02,\n",
       "       4.20442e+02, 4.22374e+02, 4.22386e+02, 4.22730e+02, 4.22737e+02,\n",
       "       4.22839e+02, 4.25396e+02, 4.25396e+02, 4.28340e+02, 4.28346e+02,\n",
       "       4.31382e+02, 4.31387e+02, 4.31489e+02, 4.34177e+02, 4.34177e+02,\n",
       "       4.34764e+02, 4.34770e+02, 4.35858e+02, 4.35868e+02, 4.36686e+02,\n",
       "       4.36698e+02, 4.38846e+02, 4.38852e+02, 4.40164e+02, 4.40172e+02,\n",
       "       4.40273e+02, 4.41993e+02, 4.41993e+02, 4.43464e+02, 4.43466e+02,\n",
       "       4.46198e+02, 4.46212e+02, 4.47982e+02, 4.47990e+02, 4.48091e+02,\n",
       "       4.49945e+02, 4.49945e+02, 4.50938e+02, 4.50950e+02, 4.53096e+02,\n",
       "       4.53106e+02, 4.54344e+02, 4.54348e+02, 4.55508e+02, 4.55522e+02,\n",
       "       4.55931e+02, 4.55937e+02, 4.56039e+02, 4.58528e+02, 4.58528e+02,\n",
       "       4.58610e+02, 4.58620e+02, 4.61540e+02, 4.61550e+02, 4.63796e+02,\n",
       "       4.63808e+02, 4.64514e+02, 4.64520e+02, 4.64520e+02, 4.64534e+02,\n",
       "       4.64623e+02, 4.66254e+02, 4.66262e+02, 4.66296e+02, 4.66296e+02,\n",
       "       4.69274e+02, 4.69282e+02, 4.72281e+02, 4.72287e+02, 4.72366e+02,\n",
       "       4.72374e+02, 4.72389e+02, 4.74176e+02, 4.74176e+02, 4.75766e+02,\n",
       "       4.75772e+02, 4.78026e+02, 4.78034e+02, 4.79656e+02, 4.79670e+02,\n",
       "       4.80164e+02, 4.80170e+02])"
      ]
     },
     "execution_count": 3,
     "metadata": {},
     "output_type": "execute_result"
    }
   ],
   "source": [
    "raw_et.annotations.onset"
   ]
  },
  {
   "cell_type": "markdown",
   "metadata": {},
   "source": [
    "The info structure of the eye-tracking data "
   ]
  },
  {
   "cell_type": "code",
   "execution_count": 4,
   "metadata": {},
   "outputs": [
    {
     "data": {
      "text/html": [
       "<table class=\"table table-hover table-striped table-sm table-responsive small\">\n",
       "    <tr>\n",
       "        <th>Measurement date</th>\n",
       "        \n",
       "        <td>July 19, 2023  01:51:07 GMT</td>\n",
       "        \n",
       "    </tr>\n",
       "    <tr>\n",
       "        <th>Experimenter</th>\n",
       "        \n",
       "        <td>Unknown</td>\n",
       "        \n",
       "    </tr>\n",
       "        <th>Participant</th>\n",
       "        \n",
       "        <td>Unknown</td>\n",
       "        \n",
       "    </tr>\n",
       "    <tr>\n",
       "        <th>Digitized points</th>\n",
       "        \n",
       "        <td>Not available</td>\n",
       "        \n",
       "    </tr>\n",
       "    <tr>\n",
       "        <th>Good channels</th>\n",
       "        <td>4 Eye-tracking (Gaze position), 2 Eye-tracking (Pupil size)</td>\n",
       "    </tr>\n",
       "    <tr>\n",
       "        <th>Bad channels</th>\n",
       "        <td>None</td>\n",
       "    </tr>\n",
       "    <tr>\n",
       "        <th>EOG channels</th>\n",
       "        <td>Not available</td>\n",
       "    </tr>\n",
       "    <tr>\n",
       "        <th>ECG channels</th>\n",
       "        <td>Not available</td>\n",
       "    \n",
       "    <tr>\n",
       "        <th>Sampling frequency</th>\n",
       "        <td>500.00 Hz</td>\n",
       "    </tr>\n",
       "    \n",
       "    \n",
       "    <tr>\n",
       "        <th>Highpass</th>\n",
       "        <td>0.00 Hz</td>\n",
       "    </tr>\n",
       "    \n",
       "    \n",
       "    <tr>\n",
       "        <th>Lowpass</th>\n",
       "        <td>250.00 Hz</td>\n",
       "    </tr>\n",
       "    \n",
       "    \n",
       "</table>"
      ],
      "text/plain": [
       "<Info | 7 non-empty values\n",
       " bads: []\n",
       " ch_names: xpos_left, ypos_left, pupil_left, xpos_right, ypos_right, ...\n",
       " chs: 4 Eye-tracking (Gaze position), 2 Eye-tracking (Pupil size)\n",
       " custom_ref_applied: False\n",
       " highpass: 0.0 Hz\n",
       " lowpass: 250.0 Hz\n",
       " meas_date: 2023-07-19 01:51:07 UTC\n",
       " nchan: 6\n",
       " projs: []\n",
       " sfreq: 500.0 Hz\n",
       ">"
      ]
     },
     "execution_count": 4,
     "metadata": {},
     "output_type": "execute_result"
    }
   ],
   "source": [
    "raw_et.info"
   ]
  },
  {
   "cell_type": "code",
   "execution_count": 5,
   "metadata": {},
   "outputs": [
    {
     "name": "stdout",
     "output_type": "stream",
     "text": [
      "Using qt as 2D backend.\n"
     ]
    },
    {
     "data": {
      "text/plain": [
       "<mne_qt_browser._pg_figure.MNEQtBrowser at 0x2037f45c670>"
      ]
     },
     "execution_count": 5,
     "metadata": {},
     "output_type": "execute_result"
    }
   ],
   "source": [
    "raw_et.plot()"
   ]
  },
  {
   "cell_type": "code",
   "execution_count": 6,
   "metadata": {},
   "outputs": [
    {
     "name": "stdout",
     "output_type": "stream",
     "text": [
      "()\n"
     ]
    }
   ],
   "source": [
    "print(raw_et.annotations[0][\"ch_names\"])  # a blink in the right eye\n"
   ]
  },
  {
   "cell_type": "markdown",
   "metadata": {},
   "source": [
    "## Checking the calibration\n",
    "\n",
    "EyeLink ``.asc`` files can also include calibration information.\n",
    "MNE-Python can load and visualize those eye-tracking calibrations, which\n",
    "is a useful first step in assessing the quality of the eye-tracking data.\n",
    ":func:`~mne.preprocessing.eyetracking.read_eyelink_calibration`\n",
    "will return a list of :class:`~mne.preprocessing.eyetracking.Calibration` instances,\n",
    "one for each calibration. We can index that list to access a specific calibration."
   ]
  },
  {
   "cell_type": "code",
   "execution_count": 7,
   "metadata": {},
   "outputs": [
    {
     "name": "stdout",
     "output_type": "stream",
     "text": [
      "Reading calibration data from z:\\lab\\escritorio\\projects\\pupil_labs\\analysis\\pupil_labs_analysis\\analysis\\pupillometry\\eye_link\\data\\001_2023_07_19_12_46.asc\n",
      "number of calibrations: 2\n",
      "Calibration |\n",
      "  onset: -31.303 seconds\n",
      "  model: HV9\n",
      "  eye: left\n",
      "  average error: 0.62 degrees\n",
      "  max error: 1.36 degrees\n",
      "  screen size: None meters\n",
      "  screen distance: None meters\n",
      "  screen resolution: None pixels\n",
      "\n"
     ]
    }
   ],
   "source": [
    "cals = read_eyelink_calibration(et_fpath)\n",
    "print(f\"number of calibrations: {len(cals)}\")\n",
    "first_cal = cals[0]  # let's access the first (and only in this case) calibration\n",
    "print(first_cal)"
   ]
  },
  {
   "cell_type": "markdown",
   "metadata": {},
   "source": [
    "Calibrations have dict-like attribute access; in addition to the attributes shown in\n",
    "the output above, additional attributes are ``'positions'`` (the x and y coordinates\n",
    "of each calibration point), ``'gaze'`` (the x and y coordinates of the actual gaze\n",
    "position to each calibration point), and ``'offsets'`` (the offset in visual degrees\n",
    "between the calibration position and the actual gaze position for each calibration\n",
    "point). Below is an example of how to access these data:"
   ]
  },
  {
   "cell_type": "code",
   "execution_count": 8,
   "metadata": {},
   "outputs": [
    {
     "name": "stdout",
     "output_type": "stream",
     "text": [
      "offset of the first calibration point: 0.49\n",
      "offset for each calibration point: [0.49 0.82 0.44 0.63 0.64 0.68 1.36 0.26 0.47]\n",
      "x-coordinate for each calibration point: [ 960.  960.  960.  115. 1804.  216. 1703.  216. 1703.]\n"
     ]
    }
   ],
   "source": [
    "print(f\"offset of the first calibration point: {first_cal['offsets'][0]}\")\n",
    "print(f\"offset for each calibration point: {first_cal['offsets']}\")\n",
    "print(f\"x-coordinate for each calibration point: {first_cal['positions'].T[0]}\")"
   ]
  },
  {
   "cell_type": "markdown",
   "metadata": {},
   "source": [
    "Let's plot the calibration to get a better look. Below we see the location that each\n",
    "calibration point was displayed (gray dots), the positions of the actual gaze (red),\n",
    "and the offsets (in visual degrees) between the calibration position and the actual\n",
    "gaze position of each calibration point.\n"
   ]
  },
  {
   "cell_type": "code",
   "execution_count": 9,
   "metadata": {},
   "outputs": [
    {
     "data": {
      "image/png": "[encoded data removed]",
      "text/plain": [
       "<Figure size 640x480 with 1 Axes>"
      ]
     },
     "metadata": {},
     "output_type": "display_data"
    },
    {
     "data": {
      "image/png": "[encoded data removed]",
      "text/plain": [
       "<Figure size 640x480 with 1 Axes>"
      ]
     },
     "execution_count": 9,
     "metadata": {},
     "output_type": "execute_result"
    }
   ],
   "source": [
    "first_cal.plot()"
   ]
  },
  {
   "cell_type": "markdown",
   "metadata": {},
   "source": [
    "## Plot the raw eye-tracking data\n",
    "\n",
    "Let's plot the raw eye-tracking data. We'll pass a custom `dict` into\n",
    "the scalings argument to make the eyegaze channel traces legible when plotting,\n",
    "since this file contains pixel position data (as opposed to eye angles,\n",
    "which are reported in radians)."
   ]
  },
  {
   "cell_type": "code",
   "execution_count": 10,
   "metadata": {},
   "outputs": [
    {
     "data": {
      "text/plain": [
       "<mne_qt_browser._pg_figure.MNEQtBrowser at 0x2008dce72e0>"
      ]
     },
     "execution_count": 10,
     "metadata": {},
     "output_type": "execute_result"
    }
   ],
   "source": [
    "raw_et.plot(scalings=dict(eyegaze=1e3))"
   ]
  },
  {
   "cell_type": "markdown",
   "metadata": {},
   "source": [
    "## Handling blink artifacts\n",
    "\n",
    "Naturally, there are blinks in our data, which occur within ``\"BAD_blink\"``\n",
    "annotations. During blink periods, eyegaze coordinates are not reported, and pupil\n",
    "size data are ``0``. We don't want these blink artifacts biasing our analysis, so we\n",
    "have two options: Drop the blink periods from our data during epoching, or interpolate\n",
    "the missing data during the blink periods. For this tutorial, let's interpolate the\n",
    "blink samples. We'll pass ``(0.05, 0.2)`` to\n",
    ":func:`~mne.preprocessing.eyetracking.interpolate_blinks`, expanding the interpolation\n",
    "window 50 ms before and 200 ms after the blink, so that the noisy data surrounding\n",
    "the blink is also interpolated.\n"
   ]
  },
  {
   "cell_type": "code",
   "execution_count": 11,
   "metadata": {},
   "outputs": [
    {
     "name": "stdout",
     "output_type": "stream",
     "text": [
      "Interpolating missing data during blinks...\n",
      "Removing 'BAD_' from BAD_blink.\n"
     ]
    },
    {
     "data": {
      "text/html": [
       "<table class=\"table table-hover table-striped table-sm table-responsive small\">\n",
       "    <tr>\n",
       "        <th>Measurement date</th>\n",
       "        \n",
       "        <td>July 19, 2023  01:51:07 GMT</td>\n",
       "        \n",
       "    </tr>\n",
       "    <tr>\n",
       "        <th>Experimenter</th>\n",
       "        \n",
       "        <td>Unknown</td>\n",
       "        \n",
       "    </tr>\n",
       "        <th>Participant</th>\n",
       "        \n",
       "        <td>Unknown</td>\n",
       "        \n",
       "    </tr>\n",
       "    <tr>\n",
       "        <th>Digitized points</th>\n",
       "        \n",
       "        <td>Not available</td>\n",
       "        \n",
       "    </tr>\n",
       "    <tr>\n",
       "        <th>Good channels</th>\n",
       "        <td>4 Eye-tracking (Gaze position), 2 Eye-tracking (Pupil size)</td>\n",
       "    </tr>\n",
       "    <tr>\n",
       "        <th>Bad channels</th>\n",
       "        <td>None</td>\n",
       "    </tr>\n",
       "    <tr>\n",
       "        <th>EOG channels</th>\n",
       "        <td>Not available</td>\n",
       "    </tr>\n",
       "    <tr>\n",
       "        <th>ECG channels</th>\n",
       "        <td>Not available</td>\n",
       "    \n",
       "    <tr>\n",
       "        <th>Sampling frequency</th>\n",
       "        <td>500.00 Hz</td>\n",
       "    </tr>\n",
       "    \n",
       "    \n",
       "    <tr>\n",
       "        <th>Highpass</th>\n",
       "        <td>0.00 Hz</td>\n",
       "    </tr>\n",
       "    \n",
       "    \n",
       "    <tr>\n",
       "        <th>Lowpass</th>\n",
       "        <td>250.00 Hz</td>\n",
       "    </tr>\n",
       "    \n",
       "    \n",
       "    \n",
       "    <tr>\n",
       "        <th>Filenames</th>\n",
       "        <td>001_2023_07_19_12_46.asc</td>\n",
       "    </tr>\n",
       "    \n",
       "    <tr>\n",
       "        <th>Duration</th>\n",
       "        <td>00:08:01 (HH:MM:SS)</td>\n",
       "    </tr>\n",
       "</table>"
      ],
      "text/plain": [
       "<RawEyelink | 001_2023_07_19_12_46.asc, 6 x 240136 (480.3 s), ~11.0 MB, data loaded>"
      ]
     },
     "execution_count": 11,
     "metadata": {},
     "output_type": "execute_result"
    }
   ],
   "source": [
    "mne.preprocessing.eyetracking.interpolate_blinks(raw_et, buffer=(0.05, 0.2))"
   ]
  },
  {
   "cell_type": "markdown",
   "metadata": {},
   "source": [
    ".. important:: By default, :func:`~mne.preprocessing.eyetracking.interpolate_blinks`,\n",
    "          will only interpolate blinks in pupil channels. Passing\n",
    "          ``interpolate_gaze=True`` will also interpolate the blink periods of the\n",
    "          eyegaze channels. Be aware, however, that eye movements can occur\n",
    "          during blinks which makes the gaze data less suitable for interpolation."
   ]
  },
  {
   "cell_type": "code",
   "execution_count": 12,
   "metadata": {},
   "outputs": [
    {
     "data": {
      "text/plain": [
       "<mne_qt_browser._pg_figure.MNEQtBrowser at 0x2037ce952d0>"
      ]
     },
     "execution_count": 12,
     "metadata": {},
     "output_type": "execute_result"
    }
   ],
   "source": [
    "raw_et.plot(scalings=dict(eyegaze=1e3))"
   ]
  },
  {
   "cell_type": "markdown",
   "metadata": {},
   "source": [
    "## Extract common stimulus events from the data\n",
    "\n",
    "In this experiment, a photodiode attached to the display screen was connected to both\n",
    "the EEG and eye-tracking systems. The photodiode was triggered by the the light flash\n",
    "stimuli, causing a signal to be sent to both systems simultaneously, signifying the\n",
    "onset of the flash. The photodiode signal was recorded as a digital input channel in\n",
    "the EEG and eye-tracking data. MNE loads these data as a :term:`stim channel`.\n",
    "\n",
    "We'll extract the flash event onsets from both the EEG and eye-tracking data, as they\n",
    "are necessary for aligning the data from the two recordings."
   ]
  },
  {
   "cell_type": "markdown",
   "metadata": {},
   "source": [
    "## Create the dataframe with temporal values"
   ]
  },
  {
   "cell_type": "code",
   "execution_count": 14,
   "metadata": {},
   "outputs": [],
   "source": [
    "data_raw=raw_et.get_data(return_times=True)\n",
    "timestamps=data_raw[1].reshape(len(data_raw[1]),1)\n",
    "data_raw_values=data_raw[0].T\n",
    "data_rew_time=np.append(data_raw_values,timestamps,axis=1)\n",
    "col_n=raw_et.ch_names\n",
    "col_n.append('time')\n",
    "data_pd=pd.DataFrame(data_rew_time,\n",
    "                     columns=col_n\n",
    "                     )\n",
    "\n",
    "\n"
   ]
  },
  {
   "cell_type": "markdown",
   "metadata": {},
   "source": [
    "### Create dataframe for annotations"
   ]
  },
  {
   "cell_type": "code",
   "execution_count": null,
   "metadata": {},
   "outputs": [
    {
     "ename": "ValueError",
     "evalue": "All picks must be < n_channels (6), got None",
     "output_type": "error",
     "traceback": [
      "\u001b[1;31m---------------------------------------------------------------------------\u001b[0m",
      "\u001b[1;31mValueError\u001b[0m                                Traceback (most recent call last)",
      "\u001b[1;32mz:\\lab\\escritorio\\projects\\pupil_labs\\analysis\\pupil_labs_analysis\\analysis\\pupillometry\\eye_link\\pupillometry.ipynb Cell 28\u001b[0m line \u001b[0;36m1\n\u001b[1;32m----> <a href='vscode-notebook-cell:/z%3A/lab/escritorio/projects/pupil_labs/analysis/pupil_labs_analysis/analysis/pupillometry/eye_link/pupillometry.ipynb#Y111sZmlsZQ%3D%3D?line=0'>1</a>\u001b[0m data_raw\u001b[39m=\u001b[39mraw_et\u001b[39m.\u001b[39;49mget_data()\n",
      "File \u001b[1;32m<decorator-gen-234>:12\u001b[0m, in \u001b[0;36mget_data\u001b[1;34m(self, picks, start, stop, reject_by_annotation, return_times, units, tmin, tmax, verbose)\u001b[0m\n",
      "File \u001b[1;32mc:\\Users\\arturoV\\AppData\\Local\\miniconda3\\envs\\mne\\Lib\\site-packages\\mne\\io\\base.py:929\u001b[0m, in \u001b[0;36mBaseRaw.get_data\u001b[1;34m(self, picks, start, stop, reject_by_annotation, return_times, units, tmin, tmax, verbose)\u001b[0m\n\u001b[0;32m    924\u001b[0m _validate_type(start, types\u001b[39m=\u001b[39m(\u001b[39m\"\u001b[39m\u001b[39mint-like\u001b[39m\u001b[39m\"\u001b[39m), item_name\u001b[39m=\u001b[39m\u001b[39m\"\u001b[39m\u001b[39mstart\u001b[39m\u001b[39m\"\u001b[39m, type_name\u001b[39m=\u001b[39m\u001b[39m\"\u001b[39m\u001b[39mint\u001b[39m\u001b[39m\"\u001b[39m)\n\u001b[0;32m    925\u001b[0m _validate_type(\n\u001b[0;32m    926\u001b[0m     stop, types\u001b[39m=\u001b[39m(\u001b[39m\"\u001b[39m\u001b[39mint-like\u001b[39m\u001b[39m\"\u001b[39m, \u001b[39mNone\u001b[39;00m), item_name\u001b[39m=\u001b[39m\u001b[39m\"\u001b[39m\u001b[39mstop\u001b[39m\u001b[39m\"\u001b[39m, type_name\u001b[39m=\u001b[39m\u001b[39m\"\u001b[39m\u001b[39mint, None\u001b[39m\u001b[39m\"\u001b[39m\n\u001b[0;32m    927\u001b[0m )\n\u001b[1;32m--> 929\u001b[0m picks \u001b[39m=\u001b[39m _picks_to_idx(\u001b[39mself\u001b[39;49m\u001b[39m.\u001b[39;49minfo, picks, \u001b[39m\"\u001b[39;49m\u001b[39mall\u001b[39;49m\u001b[39m\"\u001b[39;49m, exclude\u001b[39m=\u001b[39;49m())\n\u001b[0;32m    931\u001b[0m \u001b[39m# Get channel factors for conversion into specified unit\u001b[39;00m\n\u001b[0;32m    932\u001b[0m \u001b[39m# (vector of ones if no conversion needed)\u001b[39;00m\n\u001b[0;32m    933\u001b[0m \u001b[39mif\u001b[39;00m units \u001b[39mis\u001b[39;00m \u001b[39mnot\u001b[39;00m \u001b[39mNone\u001b[39;00m:\n",
      "File \u001b[1;32mc:\\Users\\arturoV\\AppData\\Local\\miniconda3\\envs\\mne\\Lib\\site-packages\\mne\\io\\pick.py:1304\u001b[0m, in \u001b[0;36m_picks_to_idx\u001b[1;34m(info, picks, none, exclude, allow_empty, with_ref_meg, return_kind, picks_on)\u001b[0m\n\u001b[0;32m   1302\u001b[0m     \u001b[39mraise\u001b[39;00m \u001b[39mValueError\u001b[39;00m(\u001b[39m\"\u001b[39m\u001b[39mAll picks must be >= \u001b[39m\u001b[39m%d\u001b[39;00m\u001b[39m, got \u001b[39m\u001b[39m%r\u001b[39;00m\u001b[39m\"\u001b[39m \u001b[39m%\u001b[39m (\u001b[39m-\u001b[39mn_chan, orig_picks))\n\u001b[0;32m   1303\u001b[0m \u001b[39mif\u001b[39;00m (picks \u001b[39m>\u001b[39m\u001b[39m=\u001b[39m n_chan)\u001b[39m.\u001b[39many():\n\u001b[1;32m-> 1304\u001b[0m     \u001b[39mraise\u001b[39;00m \u001b[39mValueError\u001b[39;00m(\n\u001b[0;32m   1305\u001b[0m         \u001b[39m\"\u001b[39m\u001b[39mAll picks must be < n_\u001b[39m\u001b[39m%s\u001b[39;00m\u001b[39m (\u001b[39m\u001b[39m%d\u001b[39;00m\u001b[39m), got \u001b[39m\u001b[39m%r\u001b[39;00m\u001b[39m\"\u001b[39m \u001b[39m%\u001b[39m (picks_on, n_chan, orig_picks)\n\u001b[0;32m   1306\u001b[0m     )\n\u001b[0;32m   1307\u001b[0m picks \u001b[39m%\u001b[39m\u001b[39m=\u001b[39m n_chan  \u001b[39m# ensure positive\u001b[39;00m\n\u001b[0;32m   1308\u001b[0m \u001b[39mif\u001b[39;00m return_kind:\n",
      "\u001b[1;31mValueError\u001b[0m: All picks must be < n_channels (6), got None"
     ]
    }
   ],
   "source": [
    "data_raw=raw_et.get_data()\n"
   ]
  },
  {
   "cell_type": "code",
   "execution_count": 24,
   "metadata": {},
   "outputs": [],
   "source": [
    "raw_et.annotations.description\n",
    "# raw_et.annotations.onset\n",
    "annotations_pd=pd.DataFrame({'time':raw_et.annotations.onset,\n",
    "                             'label': raw_et.annotations.description})"
   ]
  },
  {
   "cell_type": "markdown",
   "metadata": {},
   "source": [
    "### Cut all data by annotations of interest"
   ]
  },
  {
   "cell_type": "code",
   "execution_count": 68,
   "metadata": {},
   "outputs": [
    {
     "data": {
      "text/html": [
       "<div>\n",
       "<style scoped>\n",
       "    .dataframe tbody tr th:only-of-type {\n",
       "        vertical-align: middle;\n",
       "    }\n",
       "\n",
       "    .dataframe tbody tr th {\n",
       "        vertical-align: top;\n",
       "    }\n",
       "\n",
       "    .dataframe thead th {\n",
       "        text-align: right;\n",
       "    }\n",
       "</style>\n",
       "<table border=\"1\" class=\"dataframe\">\n",
       "  <thead>\n",
       "    <tr style=\"text-align: right;\">\n",
       "      <th></th>\n",
       "      <th>time</th>\n",
       "      <th>label</th>\n",
       "    </tr>\n",
       "  </thead>\n",
       "  <tbody>\n",
       "    <tr>\n",
       "      <th>0</th>\n",
       "      <td>0.108</td>\n",
       "      <td>Obj0183_Asset0007.tif</td>\n",
       "    </tr>\n",
       "  </tbody>\n",
       "</table>\n",
       "</div>"
      ],
      "text/plain": [
       "    time                  label\n",
       "0  0.108  Obj0183_Asset0007.tif"
      ]
     },
     "metadata": {},
     "output_type": "display_data"
    },
    {
     "data": {
      "text/plain": [
       "time           480.17\n",
       "label    blank_screen\n",
       "Name: 641, dtype: object"
      ]
     },
     "metadata": {},
     "output_type": "display_data"
    }
   ],
   "source": [
    "# pupil_pd_frame=final_df\n",
    "import sys\n",
    "from IPython.display import display\n",
    "sys.path.append('../../')\n",
    "sys.path.append('../')\n",
    "import importlib \n",
    "import commons as cm\n",
    "from pyeyemo import pupillometry2_0_commons as pc \n",
    "importlib.reload(pc)\n",
    "\n",
    "\n",
    "event_initial=annotations_pd['label'].values[0]\n",
    "event_final=annotations_pd['label'].values[-1]\n",
    "\n",
    "initial_anotation,_,_=cm.extract_annotations_timestamps(event_initial,'label',annotations_pd)\n",
    "end_anotation=annotations_pd.iloc[-1]\n",
    "display(initial_anotation)\n",
    "display(end_anotation)\n",
    "\n",
    "pupil_pd_frame=cm.filter_rows_by_temporal_values(\n",
    "         dataframe=data_pd,\n",
    "         time_column='time',\n",
    "         ini_value=initial_anotation['time'].values[0],\n",
    "         end_value=end_anotation['time']\n",
    "         )"
   ]
  },
  {
   "cell_type": "code",
   "execution_count": 69,
   "metadata": {},
   "outputs": [],
   "source": [
    "%matplotlib qt\n",
    "filter_events=annotations_pd['label'].str.contains('.tif') | annotations_pd['label'].str.contains('Control') | annotations_pd['label'].str.contains('Surprise')\n",
    "\n",
    "fig,ax=pc.plot_signal_with_events(signal_df=pupil_pd_frame,\n",
    "                           annotattion_df=annotations_pd[filter_events],\n",
    "                           time_col='time',\n",
    "                           signal_col='pupil_left')\n",
    "# ax.set_title(f'raw data for subject: {subject}')\n",
    "\n",
    "# fig.savefig(f'figures/{subject}_Raw.png', dpi=300)"
   ]
  },
  {
   "cell_type": "code",
   "execution_count": 65,
   "metadata": {},
   "outputs": [
    {
     "data": {
      "text/html": [
       "<div>\n",
       "<style scoped>\n",
       "    .dataframe tbody tr th:only-of-type {\n",
       "        vertical-align: middle;\n",
       "    }\n",
       "\n",
       "    .dataframe tbody tr th {\n",
       "        vertical-align: top;\n",
       "    }\n",
       "\n",
       "    .dataframe thead th {\n",
       "        text-align: right;\n",
       "    }\n",
       "</style>\n",
       "<table border=\"1\" class=\"dataframe\">\n",
       "  <thead>\n",
       "    <tr style=\"text-align: right;\">\n",
       "      <th></th>\n",
       "      <th>xpos_left</th>\n",
       "      <th>ypos_left</th>\n",
       "      <th>pupil_left</th>\n",
       "      <th>xpos_right</th>\n",
       "      <th>ypos_right</th>\n",
       "      <th>pupil_right</th>\n",
       "      <th>time</th>\n",
       "    </tr>\n",
       "  </thead>\n",
       "  <tbody>\n",
       "    <tr>\n",
       "      <th>54</th>\n",
       "      <td>934.6</td>\n",
       "      <td>566.9</td>\n",
       "      <td>601.0</td>\n",
       "      <td>973.2</td>\n",
       "      <td>553.6</td>\n",
       "      <td>738.0</td>\n",
       "      <td>0.108</td>\n",
       "    </tr>\n",
       "    <tr>\n",
       "      <th>55</th>\n",
       "      <td>934.4</td>\n",
       "      <td>567.8</td>\n",
       "      <td>599.0</td>\n",
       "      <td>974.3</td>\n",
       "      <td>553.4</td>\n",
       "      <td>738.0</td>\n",
       "      <td>0.110</td>\n",
       "    </tr>\n",
       "    <tr>\n",
       "      <th>56</th>\n",
       "      <td>935.1</td>\n",
       "      <td>568.0</td>\n",
       "      <td>598.0</td>\n",
       "      <td>975.2</td>\n",
       "      <td>554.3</td>\n",
       "      <td>739.0</td>\n",
       "      <td>0.112</td>\n",
       "    </tr>\n",
       "    <tr>\n",
       "      <th>57</th>\n",
       "      <td>936.0</td>\n",
       "      <td>568.4</td>\n",
       "      <td>600.0</td>\n",
       "      <td>973.9</td>\n",
       "      <td>554.7</td>\n",
       "      <td>739.0</td>\n",
       "      <td>0.114</td>\n",
       "    </tr>\n",
       "    <tr>\n",
       "      <th>58</th>\n",
       "      <td>935.8</td>\n",
       "      <td>568.5</td>\n",
       "      <td>600.0</td>\n",
       "      <td>972.1</td>\n",
       "      <td>554.2</td>\n",
       "      <td>738.0</td>\n",
       "      <td>0.116</td>\n",
       "    </tr>\n",
       "    <tr>\n",
       "      <th>...</th>\n",
       "      <td>...</td>\n",
       "      <td>...</td>\n",
       "      <td>...</td>\n",
       "      <td>...</td>\n",
       "      <td>...</td>\n",
       "      <td>...</td>\n",
       "      <td>...</td>\n",
       "    </tr>\n",
       "    <tr>\n",
       "      <th>240080</th>\n",
       "      <td>644.5</td>\n",
       "      <td>395.8</td>\n",
       "      <td>707.0</td>\n",
       "      <td>622.3</td>\n",
       "      <td>368.3</td>\n",
       "      <td>827.0</td>\n",
       "      <td>480.160</td>\n",
       "    </tr>\n",
       "    <tr>\n",
       "      <th>240081</th>\n",
       "      <td>645.1</td>\n",
       "      <td>395.9</td>\n",
       "      <td>709.0</td>\n",
       "      <td>622.2</td>\n",
       "      <td>368.3</td>\n",
       "      <td>828.0</td>\n",
       "      <td>480.162</td>\n",
       "    </tr>\n",
       "    <tr>\n",
       "      <th>240082</th>\n",
       "      <td>645.8</td>\n",
       "      <td>396.4</td>\n",
       "      <td>710.0</td>\n",
       "      <td>622.3</td>\n",
       "      <td>368.2</td>\n",
       "      <td>827.0</td>\n",
       "      <td>480.164</td>\n",
       "    </tr>\n",
       "    <tr>\n",
       "      <th>240083</th>\n",
       "      <td>644.8</td>\n",
       "      <td>395.5</td>\n",
       "      <td>707.0</td>\n",
       "      <td>622.2</td>\n",
       "      <td>369.5</td>\n",
       "      <td>824.0</td>\n",
       "      <td>480.166</td>\n",
       "    </tr>\n",
       "    <tr>\n",
       "      <th>240084</th>\n",
       "      <td>644.5</td>\n",
       "      <td>396.6</td>\n",
       "      <td>708.0</td>\n",
       "      <td>621.6</td>\n",
       "      <td>370.8</td>\n",
       "      <td>824.0</td>\n",
       "      <td>480.168</td>\n",
       "    </tr>\n",
       "  </tbody>\n",
       "</table>\n",
       "<p>240031 rows × 7 columns</p>\n",
       "</div>"
      ],
      "text/plain": [
       "        xpos_left  ypos_left  pupil_left  xpos_right  ypos_right  pupil_right  \\\n",
       "54          934.6      566.9       601.0       973.2       553.6        738.0   \n",
       "55          934.4      567.8       599.0       974.3       553.4        738.0   \n",
       "56          935.1      568.0       598.0       975.2       554.3        739.0   \n",
       "57          936.0      568.4       600.0       973.9       554.7        739.0   \n",
       "58          935.8      568.5       600.0       972.1       554.2        738.0   \n",
       "...           ...        ...         ...         ...         ...          ...   \n",
       "240080      644.5      395.8       707.0       622.3       368.3        827.0   \n",
       "240081      645.1      395.9       709.0       622.2       368.3        828.0   \n",
       "240082      645.8      396.4       710.0       622.3       368.2        827.0   \n",
       "240083      644.8      395.5       707.0       622.2       369.5        824.0   \n",
       "240084      644.5      396.6       708.0       621.6       370.8        824.0   \n",
       "\n",
       "           time  \n",
       "54        0.108  \n",
       "55        0.110  \n",
       "56        0.112  \n",
       "57        0.114  \n",
       "58        0.116  \n",
       "...         ...  \n",
       "240080  480.160  \n",
       "240081  480.162  \n",
       "240082  480.164  \n",
       "240083  480.166  \n",
       "240084  480.168  \n",
       "\n",
       "[240031 rows x 7 columns]"
      ]
     },
     "execution_count": 65,
     "metadata": {},
     "output_type": "execute_result"
    }
   ],
   "source": [
    "pupil_pd_frame"
   ]
  },
  {
   "cell_type": "code",
   "execution_count": null,
   "metadata": {},
   "outputs": [
    {
     "ename": "TypeError",
     "evalue": "string indices must be integers, not 'str'",
     "output_type": "error",
     "traceback": [
      "\u001b[1;31m---------------------------------------------------------------------------\u001b[0m",
      "\u001b[1;31mTypeError\u001b[0m                                 Traceback (most recent call last)",
      "\u001b[1;32mz:\\lab\\escritorio\\projects\\pupil_labs\\analysis\\pupil_labs_analysis\\analysis\\pupillometry\\eye_link\\pupillometry.ipynb Cell 33\u001b[0m line \u001b[0;36m1\n\u001b[1;32m----> <a href='vscode-notebook-cell:/z%3A/lab/escritorio/projects/pupil_labs/analysis/pupil_labs_analysis/analysis/pupillometry/eye_link/pupillometry.ipynb#X54sZmlsZQ%3D%3D?line=0'>1</a>\u001b[0m raw_et\u001b[39m.\u001b[39;49mcrop_by_annotations(annotations\u001b[39m=\u001b[39;49mannotations_pd)\n",
      "File \u001b[1;32m<decorator-gen-239>:12\u001b[0m, in \u001b[0;36mcrop_by_annotations\u001b[1;34m(self, annotations, verbose)\u001b[0m\n",
      "File \u001b[1;32mc:\\Users\\arturoV\\AppData\\Local\\miniconda3\\envs\\mne\\Lib\\site-packages\\mne\\io\\base.py:1544\u001b[0m, in \u001b[0;36mBaseRaw.crop_by_annotations\u001b[1;34m(self, annotations, verbose)\u001b[0m\n\u001b[0;32m   1542\u001b[0m raws \u001b[39m=\u001b[39m []\n\u001b[0;32m   1543\u001b[0m \u001b[39mfor\u001b[39;00m annot \u001b[39min\u001b[39;00m annotations:\n\u001b[1;32m-> 1544\u001b[0m     onset \u001b[39m=\u001b[39m annot[\u001b[39m\"\u001b[39;49m\u001b[39monset\u001b[39;49m\u001b[39m\"\u001b[39;49m] \u001b[39m-\u001b[39m \u001b[39mself\u001b[39m\u001b[39m.\u001b[39mfirst_time\n\u001b[0;32m   1545\u001b[0m     \u001b[39m# be careful about near-zero errors (crop is very picky about this,\u001b[39;00m\n\u001b[0;32m   1546\u001b[0m     \u001b[39m# e.g., -1e-8 is an error)\u001b[39;00m\n\u001b[0;32m   1547\u001b[0m     \u001b[39mif\u001b[39;00m \u001b[39m-\u001b[39m\u001b[39mself\u001b[39m\u001b[39m.\u001b[39minfo[\u001b[39m\"\u001b[39m\u001b[39msfreq\u001b[39m\u001b[39m\"\u001b[39m] \u001b[39m/\u001b[39m \u001b[39m2\u001b[39m \u001b[39m<\u001b[39m onset \u001b[39m<\u001b[39m \u001b[39m0\u001b[39m:\n",
      "\u001b[1;31mTypeError\u001b[0m: string indices must be integers, not 'str'"
     ]
    }
   ],
   "source": [
    "raw_et.crop_by_annotations(annotations=annotations_pd)\n",
    "mne.Annotations"
   ]
  },
  {
   "cell_type": "markdown",
   "metadata": {},
   "source": []
  }
 ],
 "metadata": {
  "kernelspec": {
   "display_name": "analysis",
   "language": "python",
   "name": "python3"
  },
  "language_info": {
   "codemirror_mode": {
    "name": "ipython",
    "version": 3
   },
   "file_extension": ".py",
   "mimetype": "text/x-python",
   "name": "python",
   "nbconvert_exporter": "python",
   "pygments_lexer": "ipython3",
   "version": "3.11.6"
  },
  "orig_nbformat": 4
 },
 "nbformat": 4,
 "nbformat_minor": 2
}
