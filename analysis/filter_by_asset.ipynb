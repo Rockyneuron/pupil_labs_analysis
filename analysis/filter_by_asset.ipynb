{
 "cells": [
  {
   "cell_type": "code",
   "execution_count": 2,
   "metadata": {},
   "outputs": [
    {
     "name": "stdout",
     "output_type": "stream",
     "text": [
      "002/\n",
      "    annotation.pldata\n",
      "    annotation_timestamps.npy\n",
      "    blinks.pldata\n",
      "    blinks_timestamps.npy\n",
      "    eye0.intrinsics\n",
      "    eye0.mp4\n",
      "    eye0_lookup.npy\n",
      "    eye0_timestamps.npy\n",
      "    eye1.intrinsics\n",
      "    eye1.mp4\n",
      "    eye1_lookup.npy\n",
      "    eye1_timestamps.npy\n",
      "    fixations.pldata\n",
      "    fixations_timestamps.npy\n",
      "    gaze.pldata\n",
      "    gaze_timestamps.npy\n",
      "    info.player.json\n",
      "    notify.pldata\n",
      "    notify_timestamps.npy\n",
      "    pupil.pldata\n",
      "    pupil_timestamps.npy\n",
      "    square_marker_cache\n",
      "    surface_definitions_v01\n",
      "    user_info.csv\n",
      "    world.intrinsics\n",
      "    world.mp4\n",
      "    world_lookup.npy\n",
      "    world_timestamps.npy\n",
      "    exports/\n",
      "        000/\n",
      "            annotations.csv\n",
      "            blink_detection_report.csv\n",
      "            blinks.csv\n",
      "            export_info.csv\n",
      "            fixation_report.csv\n",
      "            fixations.csv\n",
      "            gaze_positions.csv\n",
      "            pupil_gaze_positions_info.txt\n",
      "            pupil_positions.csv\n",
      "            world.mp4\n",
      "            world_timestamps.csv\n",
      "            world_timestamps.npy\n",
      "            surfaces/\n",
      "                fixations_on_surface_Surface 1.csv\n",
      "                gaze_positions_on_surface_Surface_1.csv\n",
      "                heatmap_Surface 1.png\n",
      "                marker_detections.csv\n",
      "                surf_positions_Surface 1.csv\n",
      "                surface_events.csv\n",
      "                surface_gaze_distribution.csv\n",
      "                surface_visibility.csv\n",
      "    offline_data/\n",
      "        fixations.meta\n",
      "        fixations.pldata\n",
      "        fixations_stop_timestamps.npy\n",
      "        fixations_timestamps.npy\n",
      "        tokens/\n",
      "            fixations_producer_Offline_Fixation_Detector.token\n",
      "            gaze_positions_consumer_Offline_Fixation_Detector.token\n",
      "            gaze_positions_consumer_Surface_Tracker_Offline.token\n",
      "            gaze_positions_consumer_Vis_Polyline.token\n",
      "            gaze_positions_producer_GazeFromRecording.token\n",
      "            pupil_positions_consumer_Offline_Blink_Detection.token\n",
      "            pupil_positions_consumer_Pupil_From_Recording.token\n",
      "            pupil_positions_consumer_System_Timelines.token\n",
      "            pupil_positions_producer_Pupil_From_Recording.token\n"
     ]
    },
    {
     "name": "stderr",
     "output_type": "stream",
     "text": [
      "C:\\Users\\Bolo\\AppData\\Local\\Temp\\ipykernel_22056\\213765242.py:1: DeprecationWarning: Please use `gaussian_filter` from the `scipy.ndimage` namespace, the `scipy.ndimage.filters` namespace is deprecated.\n",
      "  from scipy.ndimage.filters import gaussian_filter\n"
     ]
    }
   ],
   "source": [
    "from scipy.ndimage.filters import gaussian_filter\n",
    "import pandas as pd \n",
    "import numpy as np\n",
    "from pathlib import Path\n",
    "import os\n",
    "import seaborn as sns\n",
    "import matplotlib.pyplot as plt\n",
    "from scipy import signal\n",
    "import pyxdf\n",
    "\n",
    "recording_location = r\"C:\\Users\\Bolo\\Desktop\\Laboratorio\\incipit\\data\\pupil_emotibit\\ES0001_S002_PC_EM\\data\\pupil_labs\\002\"\n",
    "\n",
    "def print_file_structure(startpath):\n",
    "    for root, dirs, files in os.walk(startpath):\n",
    "        level = root.replace(startpath, '').count(os.sep)\n",
    "        indent = ' ' * 4 * (level)\n",
    "        print(f'{indent}{os.path.basename(root)}/')\n",
    "        subindent = ' ' * 4 * (level + 1)\n",
    "        for f in sorted(files):\n",
    "            print(f'{subindent}{f}')\n",
    "print_file_structure(recording_location)\n"
   ]
  },
  {
   "cell_type": "code",
   "execution_count": 3,
   "metadata": {},
   "outputs": [],
   "source": [
    "exported_gaze_csv = os.path.join(recording_location, 'exports', '000', 'surfaces','gaze_positions_on_surface_Surface_1.csv')\n",
    "gaze_pd_frame = pd.read_csv(exported_gaze_csv)\n",
    "annotations_csv = os.path.join(recording_location, 'exports', '000', 'annotations.csv')\n",
    "annotations_pd = pd.read_csv(annotations_csv)\n",
    "\n"
   ]
  },
  {
   "cell_type": "code",
   "execution_count": 4,
   "metadata": {},
   "outputs": [
    {
     "name": "stdout",
     "output_type": "stream",
     "text": [
      "images_order/\n",
      "    Asset0001_24.tif\n",
      "    Asset0002_37.tif\n",
      "    Asset0003_43.tif\n",
      "    Asset0004_15.tif\n",
      "    Asset0005_01.tif\n",
      "    Asset0006_20.tif\n",
      "    Asset0007_19.tif\n",
      "    Asset0008_35.tif\n",
      "    Asset0009_16.tif\n",
      "    Asset0010_49.tif\n",
      "    Asset0011_12.tif\n",
      "    Asset0012_25.tif\n",
      "    Asset0014_48.tif\n",
      "    Asset0015_46.tif\n",
      "    Asset0016_18.tif\n",
      "    Asset0017_34.tif\n",
      "    Asset0018_28.tif\n",
      "    Asset0020_45.tif\n",
      "    Asset0021_08.tif\n",
      "    Asset0022_17.tif\n",
      "    Asset0024_40.tif\n",
      "    Asset0026_38.tif\n",
      "    Asset0027_39.tif\n",
      "    Asset0028_33.tif\n",
      "    Asset0029_44.tif\n",
      "    Asset0030_04.tif\n",
      "    Asset0031_22.tif\n",
      "    Asset0032_03.tif\n",
      "    Asset0033_05.tif\n",
      "    Asset0034_32.tif\n",
      "    Asset0035_13.tif\n",
      "    Asset0036_26.tif\n",
      "    Asset0037_36.tif\n",
      "    Asset0039_09.tif\n",
      "    Asset0040_47.tif\n",
      "    Asset0041_06.tif\n",
      "    Asset0042_07.tif\n",
      "    Asset0043_27.tif\n",
      "    Asset0044_02.tif\n",
      "    Asset0045_31.tif\n",
      "    Asset0046_11.tif\n",
      "    Asset0047_29.tif\n",
      "    Asset0048_23.tif\n",
      "    Asset0049_41.tif\n",
      "    Asset0050_14.tif\n",
      "    Surprise01_42.tif\n",
      "    Surprise02_21.tif\n",
      "    Surprise03_10.tif\n",
      "    Surprise04_30.tif\n",
      "    assets.txt\n"
     ]
    }
   ],
   "source": [
    "image_location=\"../../../../data/pupil_emotibit/ES0001_S002_PC_EM/images_order\"\n",
    "print_file_structure(image_location)\n"
   ]
  },
  {
   "cell_type": "code",
   "execution_count": 4,
   "metadata": {},
   "outputs": [],
   "source": [
    "images=[]\n",
    "with open(image_location+'/assets.txt','r') as f:\n",
    "    for image in f:\n",
    "        images.append(image.replace('\\n',''))\n",
    "    f.close()"
   ]
  },
  {
   "cell_type": "code",
   "execution_count": 5,
   "metadata": {},
   "outputs": [
    {
     "data": {
      "text/plain": [
       "'Asset0005_01.tif'"
      ]
     },
     "execution_count": 5,
     "metadata": {},
     "output_type": "execute_result"
    }
   ],
   "source": [
    "image_order=os.listdir(image_location)\n",
    "image_order.remove('assets.txt')\n",
    "image_order.sort(key=lambda x: int(x[x.index('_')+1:x.index('.tif')]))\n",
    "image_order[0]"
   ]
  },
  {
   "cell_type": "code",
   "execution_count": 6,
   "metadata": {},
   "outputs": [],
   "source": [
    "def do_heatmap(image,gaze_on_surf_x,gaze_on_surf_y):\n",
    "    grid = image.shape[0:2] # height, width of the loaded image\n",
    "    heatmap_detail = 0.02 # this will determine the gaussian blur kerner of the image (higher number = more blur)\n",
    "\n",
    "    # flip the fixation points\n",
    "    # from the original coordinate system,\n",
    "    # where the origin is at botton left,\n",
    "    # to the image coordinate system,\n",
    "    # where the origin is at top left\n",
    "    gaze_on_surf_y = 1 - gaze_on_surf_y\n",
    "\n",
    "    # make the histogram\n",
    "    hist, x_edges, y_edges = np.histogram2d(\n",
    "        gaze_on_surf_y,\n",
    "        gaze_on_surf_x,\n",
    "        range=[[0, 1.0], [0, 1.0]],\n",
    "        bins=grid\n",
    "    )\n",
    "\n",
    "\n",
    "    # gaussian blur kernel as a function of grid/surface size\n",
    "    filter_h = int(heatmap_detail * grid[0]) // 2 * 2 + 1\n",
    "    filter_w = int(heatmap_detail * grid[1]) // 2 * 2 + 1\n",
    "    heatmap = gaussian_filter(hist, sigma=(filter_w, filter_h), order=0)\n",
    "\n",
    "    # display the histogram and reference image\n",
    "    print(\"Cover image with heatmap overlay\")\n",
    "    plt.figure(figsize=(8,8))\n",
    "    plt.imshow(image)\n",
    "    plt.imshow(heatmap, cmap='jet', alpha=0.5)\n",
    "    plt.axis('off');\n"
   ]
  },
  {
   "cell_type": "code",
   "execution_count": null,
   "metadata": {},
   "outputs": [],
   "source": []
  },
  {
   "attachments": {},
   "cell_type": "markdown",
   "metadata": {},
   "source": [
    "lets filter properly by asset"
   ]
  },
  {
   "cell_type": "code",
   "execution_count": 7,
   "metadata": {},
   "outputs": [],
   "source": [
    "\n",
    "conf_thr=0.95\n",
    "gaze_on_surf=gaze_pd_frame[(gaze_pd_frame.on_surf==True)&(gaze_pd_frame.confidence >conf_thr)]"
   ]
  },
  {
   "cell_type": "code",
   "execution_count": 8,
   "metadata": {},
   "outputs": [
    {
     "data": {
      "text/html": [
       "<div>\n",
       "<style scoped>\n",
       "    .dataframe tbody tr th:only-of-type {\n",
       "        vertical-align: middle;\n",
       "    }\n",
       "\n",
       "    .dataframe tbody tr th {\n",
       "        vertical-align: top;\n",
       "    }\n",
       "\n",
       "    .dataframe thead th {\n",
       "        text-align: right;\n",
       "    }\n",
       "</style>\n",
       "<table border=\"1\" class=\"dataframe\">\n",
       "  <thead>\n",
       "    <tr style=\"text-align: right;\">\n",
       "      <th></th>\n",
       "      <th>world_timestamp</th>\n",
       "      <th>world_index</th>\n",
       "      <th>gaze_timestamp</th>\n",
       "      <th>x_norm</th>\n",
       "      <th>y_norm</th>\n",
       "      <th>x_scaled</th>\n",
       "      <th>y_scaled</th>\n",
       "      <th>on_surf</th>\n",
       "      <th>confidence</th>\n",
       "    </tr>\n",
       "  </thead>\n",
       "  <tbody>\n",
       "    <tr>\n",
       "      <th>126</th>\n",
       "      <td>14963.965010</td>\n",
       "      <td>26</td>\n",
       "      <td>14963.972059</td>\n",
       "      <td>0.235153</td>\n",
       "      <td>0.028235</td>\n",
       "      <td>0.235153</td>\n",
       "      <td>0.028235</td>\n",
       "      <td>True</td>\n",
       "      <td>0.995</td>\n",
       "    </tr>\n",
       "    <tr>\n",
       "      <th>127</th>\n",
       "      <td>14963.985129</td>\n",
       "      <td>27</td>\n",
       "      <td>14963.976082</td>\n",
       "      <td>0.231901</td>\n",
       "      <td>0.055803</td>\n",
       "      <td>0.231901</td>\n",
       "      <td>0.055803</td>\n",
       "      <td>True</td>\n",
       "      <td>0.995</td>\n",
       "    </tr>\n",
       "    <tr>\n",
       "      <th>128</th>\n",
       "      <td>14963.985129</td>\n",
       "      <td>27</td>\n",
       "      <td>14963.980072</td>\n",
       "      <td>0.224674</td>\n",
       "      <td>0.135685</td>\n",
       "      <td>0.224674</td>\n",
       "      <td>0.135685</td>\n",
       "      <td>True</td>\n",
       "      <td>0.995</td>\n",
       "    </tr>\n",
       "    <tr>\n",
       "      <th>129</th>\n",
       "      <td>14963.985129</td>\n",
       "      <td>27</td>\n",
       "      <td>14963.984049</td>\n",
       "      <td>0.211314</td>\n",
       "      <td>0.187131</td>\n",
       "      <td>0.211314</td>\n",
       "      <td>0.187131</td>\n",
       "      <td>True</td>\n",
       "      <td>0.990</td>\n",
       "    </tr>\n",
       "    <tr>\n",
       "      <th>130</th>\n",
       "      <td>14963.985129</td>\n",
       "      <td>27</td>\n",
       "      <td>14963.988105</td>\n",
       "      <td>0.202950</td>\n",
       "      <td>0.256136</td>\n",
       "      <td>0.202950</td>\n",
       "      <td>0.256136</td>\n",
       "      <td>True</td>\n",
       "      <td>0.990</td>\n",
       "    </tr>\n",
       "  </tbody>\n",
       "</table>\n",
       "</div>"
      ],
      "text/plain": [
       "     world_timestamp  world_index  gaze_timestamp    x_norm    y_norm  \\\n",
       "126     14963.965010           26    14963.972059  0.235153  0.028235   \n",
       "127     14963.985129           27    14963.976082  0.231901  0.055803   \n",
       "128     14963.985129           27    14963.980072  0.224674  0.135685   \n",
       "129     14963.985129           27    14963.984049  0.211314  0.187131   \n",
       "130     14963.985129           27    14963.988105  0.202950  0.256136   \n",
       "\n",
       "     x_scaled  y_scaled  on_surf  confidence  \n",
       "126  0.235153  0.028235     True       0.995  \n",
       "127  0.231901  0.055803     True       0.995  \n",
       "128  0.224674  0.135685     True       0.995  \n",
       "129  0.211314  0.187131     True       0.990  \n",
       "130  0.202950  0.256136     True       0.990  "
      ]
     },
     "execution_count": 8,
     "metadata": {},
     "output_type": "execute_result"
    }
   ],
   "source": [
    "gaze_on_surf.head()"
   ]
  },
  {
   "cell_type": "code",
   "execution_count": 8,
   "metadata": {},
   "outputs": [
    {
     "ename": "NameError",
     "evalue": "name 'images' is not defined",
     "output_type": "error",
     "traceback": [
      "\u001b[1;31m---------------------------------------------------------------------------\u001b[0m",
      "\u001b[1;31mNameError\u001b[0m                                 Traceback (most recent call last)",
      "Cell \u001b[1;32mIn[8], line 1\u001b[0m\n\u001b[1;32m----> 1\u001b[0m index_stim\u001b[39m=\u001b[39mannotations_pd[\u001b[39m'\u001b[39m\u001b[39mlabel\u001b[39m\u001b[39m'\u001b[39m]\u001b[39m==\u001b[39mimages[\u001b[39m41\u001b[39m]\n\u001b[0;32m      2\u001b[0m index_final\u001b[39m=\u001b[39mannotations_pd\u001b[39m.\u001b[39mindex[index_stim]\u001b[39m+\u001b[39m\u001b[39m1\u001b[39m\n\u001b[0;32m      4\u001b[0m value\u001b[39m=\u001b[39mannotations_pd[index_stim][\u001b[39m'\u001b[39m\u001b[39mtimestamp\u001b[39m\u001b[39m'\u001b[39m]\u001b[39m.\u001b[39mvalues[\u001b[39m0\u001b[39m]\n",
      "\u001b[1;31mNameError\u001b[0m: name 'images' is not defined"
     ]
    }
   ],
   "source": [
    "index_stim=annotations_pd['label']==images[41]\n",
    "index_final=annotations_pd.index[index_stim]+1\n",
    "\n",
    "value=annotations_pd[index_stim]['timestamp'].values[0]\n",
    "value_final=annotations_pd.iloc[index_final]['timestamp'].values[0]\n",
    " \n",
    "gaze_on_surf=gaze_on_surf[\n",
    "    (gaze_on_surf['gaze_timestamp']>value)&\n",
    "    (gaze_on_surf['gaze_timestamp']<value_final)\n",
    "\n",
    "]\n",
    "\n",
    "\n",
    "\n",
    "\n"
   ]
  },
  {
   "cell_type": "code",
   "execution_count": 9,
   "metadata": {},
   "outputs": [
    {
     "name": "stdout",
     "output_type": "stream",
     "text": [
      "Cover image with heatmap overlay\n"
     ]
    },
    {
     "data": {
      "image/png": "[encoded data removed]",
      "text/plain": [
       "<Figure size 800x800 with 1 Axes>"
      ]
     },
     "metadata": {},
     "output_type": "display_data"
    }
   ],
   "source": [
    "%matplotlib inline\n",
    "image=plt.imread(image_location+'/'+image_order[41])\n",
    "do_heatmap(image,gaze_on_surf['x_norm'],gaze_on_surf['y_norm'])"
   ]
  },
  {
   "cell_type": "code",
   "execution_count": 46,
   "metadata": {},
   "outputs": [
    {
     "name": "stdout",
     "output_type": "stream",
     "text": [
      "Asset0044.tif Asset0044_02.tif\n"
     ]
    }
   ],
   "source": [
    "print(images[1],image_order[1]) \n"
   ]
  },
  {
   "cell_type": "code",
   "execution_count": 50,
   "metadata": {},
   "outputs": [
    {
     "data": {
      "text/plain": [
       "str"
      ]
     },
     "execution_count": 50,
     "metadata": {},
     "output_type": "execute_result"
    }
   ],
   "source": [
    "type(images[1])"
   ]
  },
  {
   "cell_type": "code",
   "execution_count": 61,
   "metadata": {},
   "outputs": [
    {
     "data": {
      "text/plain": [
       "'Surprise01_42.tif'"
      ]
     },
     "execution_count": 61,
     "metadata": {},
     "output_type": "execute_result"
    }
   ],
   "source": [
    "image_order[41]"
   ]
  },
  {
   "cell_type": "code",
   "execution_count": 66,
   "metadata": {},
   "outputs": [
    {
     "data": {
      "text/plain": [
       "Int64Index([126], dtype='int64')"
      ]
     },
     "execution_count": 66,
     "metadata": {},
     "output_type": "execute_result"
    }
   ],
   "source": [
    "index_stim=annotations_pd['label']==images[41]\n",
    "index_final=annotations_pd.index[index_stim]+1\n",
    "index_final\n"
   ]
  },
  {
   "cell_type": "code",
   "execution_count": 44,
   "metadata": {},
   "outputs": [
    {
     "name": "stdout",
     "output_type": "stream",
     "text": [
      "Asset0005.tif Asset0005_01.tif\n",
      "Cover image with heatmap overlay\n",
      "Asset0044.tif Asset0044_02.tif\n",
      "Cover image with heatmap overlay\n",
      "Asset0032.tif Asset0032_03.tif\n",
      "Cover image with heatmap overlay\n"
     ]
    }
   ],
   "source": [
    "%matplotlib qt\n",
    "\n",
    "for im,im_order in zip(images[0:3], image_order[0:3]):\n",
    "    print(im,im_order)\n",
    "    index_stim=annotations_pd['label']==im\n",
    "    index_final=annotations_pd.index[index_stim]+1\n",
    "\n",
    "    value=annotations_pd[index_stim]['timestamp'].values[0]\n",
    "    value_final=annotations_pd.iloc[index_final]['timestamp'].values[0]\n",
    "    gaze_on_surf_im=gaze_on_surf[\n",
    "        (gaze_on_surf['gaze_timestamp']>value)&\n",
    "        (gaze_on_surf['gaze_timestamp']<value_final)\n",
    "    ]\n",
    "    image=plt.imread(image_location+'/'+im_order)\n",
    "    do_heatmap(image,gaze_on_surf_im['x_norm'],gaze_on_surf_im['y_norm'])\n",
    "    plt.savefig('heatmaps/'+im_order)\n",
    "    # plt.close()\n",
    "\n"
   ]
  },
  {
   "cell_type": "code",
   "execution_count": 24,
   "metadata": {},
   "outputs": [
    {
     "name": "stdout",
     "output_type": "stream",
     "text": [
      "Cover image with heatmap overlay\n"
     ]
    }
   ],
   "source": [
    "    index_stim=annotations_pd['label']==images[1]\n",
    "    index_final=annotations_pd.index[index_stim]+1\n",
    "\n",
    "    value=annotations_pd[index_stim]['timestamp'].values[0]\n",
    "    \n",
    "    value_final=annotations_pd.iloc[index_final]['timestamp'].values[0]\n",
    " \n",
    "    gaze_on_surf_im=gaze_on_surf[\n",
    "        (gaze_on_surf['gaze_timestamp']>value)&\n",
    "        (gaze_on_surf['gaze_timestamp']<value_final)\n",
    "\n",
    "    ]\n",
    "    image=plt.imread(image_location+'/'+image_order[1])\n",
    "    do_heatmap(image,gaze_on_surf_im['x_norm'],gaze_on_surf_im['y_norm'])\n"
   ]
  },
  {
   "cell_type": "code",
   "execution_count": 29,
   "metadata": {},
   "outputs": [
    {
     "data": {
      "text/plain": [
       "['Asset0005_01.tif', 'Asset0044_02.tif', 'Asset0032_03.tif']"
      ]
     },
     "execution_count": 29,
     "metadata": {},
     "output_type": "execute_result"
    }
   ],
   "source": [
    "image_order[0:3]"
   ]
  },
  {
   "cell_type": "code",
   "execution_count": null,
   "metadata": {},
   "outputs": [],
   "source": []
  }
 ],
 "metadata": {
  "kernelspec": {
   "display_name": "bayes",
   "language": "python",
   "name": "python3"
  },
  "language_info": {
   "codemirror_mode": {
    "name": "ipython",
    "version": 3
   },
   "file_extension": ".py",
   "mimetype": "text/x-python",
   "name": "python",
   "nbconvert_exporter": "python",
   "pygments_lexer": "ipython3",
   "version": "3.11.0"
  },
  "orig_nbformat": 4
 },
 "nbformat": 4,
 "nbformat_minor": 2
}
