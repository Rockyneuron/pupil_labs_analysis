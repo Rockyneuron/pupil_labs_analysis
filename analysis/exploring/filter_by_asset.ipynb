{
 "cells": [
  {
   "cell_type": "code",
   "execution_count": 41,
   "metadata": {},
   "outputs": [
    {
     "name": "stdout",
     "output_type": "stream",
     "text": [
      "002/\n",
      "    annotation.pldata\n",
      "    annotation_timestamps.npy\n",
      "    blinks.pldata\n",
      "    blinks_timestamps.npy\n",
      "    eye0.intrinsics\n",
      "    eye0.mp4\n",
      "    eye0_lookup.npy\n",
      "    eye0_timestamps.npy\n",
      "    eye1.intrinsics\n",
      "    eye1.mp4\n",
      "    eye1_lookup.npy\n",
      "    eye1_timestamps.npy\n",
      "    fixations.pldata\n",
      "    fixations_timestamps.npy\n",
      "    gaze.pldata\n",
      "    gaze_timestamps.npy\n",
      "    info.player.json\n",
      "    notify.pldata\n",
      "    notify_timestamps.npy\n",
      "    pupil.pldata\n",
      "    pupil_timestamps.npy\n",
      "    square_marker_cache\n",
      "    surface_definitions_v01\n",
      "    user_info.csv\n",
      "    world.intrinsics\n",
      "    world.mp4\n",
      "    world_lookup.npy\n",
      "    world_timestamps.npy\n",
      "    exports/\n",
      "        000/\n",
      "            annotations.csv\n",
      "            blink_detection_report.csv\n",
      "            blinks.csv\n",
      "            export_info.csv\n",
      "            fixation_report.csv\n",
      "            fixations.csv\n",
      "            gaze_positions.csv\n",
      "            pupil_gaze_positions_info.txt\n",
      "            pupil_positions.csv\n",
      "            world.mp4\n",
      "            world_timestamps.csv\n",
      "            world_timestamps.npy\n",
      "            surfaces/\n",
      "                fixations_on_surface_Surface 1.csv\n",
      "                gaze_positions_on_surface_Surface_1.csv\n",
      "                heatmap_Surface 1.png\n",
      "                marker_detections.csv\n",
      "                surf_positions_Surface 1.csv\n",
      "                surface_events.csv\n",
      "                surface_gaze_distribution.csv\n",
      "                surface_visibility.csv\n",
      "    offline_data/\n",
      "        fixations.meta\n",
      "        fixations.pldata\n",
      "        fixations_stop_timestamps.npy\n",
      "        fixations_timestamps.npy\n",
      "        tokens/\n",
      "            fixations_producer_Offline_Fixation_Detector.token\n",
      "            gaze_positions_consumer_Offline_Fixation_Detector.token\n",
      "            gaze_positions_consumer_Surface_Tracker_Offline.token\n",
      "            gaze_positions_consumer_Vis_Polyline.token\n",
      "            gaze_positions_producer_GazeFromRecording.token\n",
      "            pupil_positions_consumer_Offline_Blink_Detection.token\n",
      "            pupil_positions_consumer_Pupil_From_Recording.token\n",
      "            pupil_positions_consumer_System_Timelines.token\n",
      "            pupil_positions_producer_Pupil_From_Recording.token\n"
     ]
    },
    {
     "name": "stderr",
     "output_type": "stream",
     "text": [
      "C:\\Users\\Bolo\\AppData\\Local\\Temp\\ipykernel_20576\\2334470469.py:1: DeprecationWarning: Please use `gaussian_filter` from the `scipy.ndimage` namespace, the `scipy.ndimage.filters` namespace is deprecated.\n",
      "  from scipy.ndimage.filters import gaussian_filter\n"
     ]
    }
   ],
   "source": [
    "from scipy.ndimage.filters import gaussian_filter\n",
    "import pandas as pd \n",
    "import numpy as np\n",
    "from pathlib import Path\n",
    "import os\n",
    "import seaborn as sns\n",
    "import matplotlib.pyplot as plt\n",
    "from scipy import signal\n",
    "import pyxdf\n",
    "import commons as cm\n",
    "\n",
    "recording_location = r\"C:\\Users\\Bolo\\Desktop\\Laboratorio\\incipit\\data\\pupil_emotibit\\ES0001_S002_PC_EM\\data\\pupil_labs\\002\"\n",
    "\n",
    "def print_file_structure(startpath):\n",
    "    for root, dirs, files in os.walk(startpath):\n",
    "        level = root.replace(startpath, '').count(os.sep)\n",
    "        indent = ' ' * 4 * (level)\n",
    "        print(f'{indent}{os.path.basename(root)}/')\n",
    "        subindent = ' ' * 4 * (level + 1)\n",
    "        for f in sorted(files):\n",
    "            print(f'{subindent}{f}')\n",
    "print_file_structure(recording_location)\n"
   ]
  },
  {
   "cell_type": "code",
   "execution_count": 42,
   "metadata": {},
   "outputs": [],
   "source": [
    "exported_gaze_csv = os.path.join(recording_location, 'exports', '000', 'surfaces','gaze_positions_on_surface_Surface_1.csv')\n",
    "gaze_pd_frame = pd.read_csv(exported_gaze_csv)\n",
    "annotations_csv = os.path.join(recording_location, 'exports', '000', 'annotations.csv')\n",
    "annotations_pd = pd.read_csv(annotations_csv)\n",
    "\n"
   ]
  },
  {
   "cell_type": "code",
   "execution_count": 43,
   "metadata": {},
   "outputs": [
    {
     "name": "stdout",
     "output_type": "stream",
     "text": [
      "images_order/\n",
      "    Asset0001_24.tif\n",
      "    Asset0002_37.tif\n",
      "    Asset0003_43.tif\n",
      "    Asset0004_15.tif\n",
      "    Asset0005_01.tif\n",
      "    Asset0006_20.tif\n",
      "    Asset0007_19.tif\n",
      "    Asset0008_35.tif\n",
      "    Asset0009_16.tif\n",
      "    Asset0010_49.tif\n",
      "    Asset0011_12.tif\n",
      "    Asset0012_25.tif\n",
      "    Asset0014_48.tif\n",
      "    Asset0015_46.tif\n",
      "    Asset0016_18.tif\n",
      "    Asset0017_34.tif\n",
      "    Asset0018_28.tif\n",
      "    Asset0020_45.tif\n",
      "    Asset0021_08.tif\n",
      "    Asset0022_17.tif\n",
      "    Asset0024_40.tif\n",
      "    Asset0026_38.tif\n",
      "    Asset0027_39.tif\n",
      "    Asset0028_33.tif\n",
      "    Asset0029_44.tif\n",
      "    Asset0030_04.tif\n",
      "    Asset0031_22.tif\n",
      "    Asset0032_03.tif\n",
      "    Asset0033_05.tif\n",
      "    Asset0034_32.tif\n",
      "    Asset0035_13.tif\n",
      "    Asset0036_26.tif\n",
      "    Asset0037_36.tif\n",
      "    Asset0039_09.tif\n",
      "    Asset0040_47.tif\n",
      "    Asset0041_06.tif\n",
      "    Asset0042_07.tif\n",
      "    Asset0043_27.tif\n",
      "    Asset0044_02.tif\n",
      "    Asset0045_31.tif\n",
      "    Asset0046_11.tif\n",
      "    Asset0047_29.tif\n",
      "    Asset0048_23.tif\n",
      "    Asset0049_41.tif\n",
      "    Asset0050_14.tif\n",
      "    Surprise01_42.tif\n",
      "    Surprise02_21.tif\n",
      "    Surprise03_10.tif\n",
      "    Surprise04_30.tif\n",
      "    assets.txt\n"
     ]
    }
   ],
   "source": [
    "image_location=\"../../../../data/pupil_emotibit/ES0001_S002_PC_EM/images_order\"\n",
    "print_file_structure(image_location)\n"
   ]
  },
  {
   "cell_type": "code",
   "execution_count": 44,
   "metadata": {},
   "outputs": [],
   "source": [
    "images=[]\n",
    "with open(image_location+'/assets.txt','r') as f:\n",
    "    for image in f:\n",
    "        images.append(image.replace('\\n',''))\n",
    "    f.close()"
   ]
  },
  {
   "cell_type": "code",
   "execution_count": 45,
   "metadata": {},
   "outputs": [
    {
     "data": {
      "text/plain": [
       "'Asset0005_01.tif'"
      ]
     },
     "execution_count": 45,
     "metadata": {},
     "output_type": "execute_result"
    }
   ],
   "source": [
    "image_order=os.listdir(image_location)\n",
    "image_order.remove('assets.txt')\n",
    "image_order.sort(key=lambda x: int(x[x.index('_')+1:x.index('.tif')]))\n",
    "image_order[0]"
   ]
  },
  {
   "cell_type": "code",
   "execution_count": 46,
   "metadata": {},
   "outputs": [],
   "source": [
    "def do_heatmap(image,gaze_on_surf_x,gaze_on_surf_y):\n",
    "    grid = image.shape[0:2] # height, width of the loaded image\n",
    "    heatmap_detail = 0.02 # this will determine the gaussian blur kerner of the image (higher number = more blur)\n",
    "\n",
    "    # flip the fixation points\n",
    "    # from the original coordinate system,\n",
    "    # where the origin is at botton left,\n",
    "    # to the image coordinate system,\n",
    "    # where the origin is at top left\n",
    "    gaze_on_surf_y = 1 - gaze_on_surf_y\n",
    "\n",
    "    # make the histogram\n",
    "    hist, x_edges, y_edges = np.histogram2d(\n",
    "        gaze_on_surf_y,\n",
    "        gaze_on_surf_x,\n",
    "        range=[[0, 1.0], [0, 1.0]],\n",
    "        bins=grid\n",
    "    )\n",
    "\n",
    "\n",
    "    # gaussian blur kernel as a function of grid/surface size\n",
    "    filter_h = int(heatmap_detail * grid[0]) // 2 * 2 + 1\n",
    "    filter_w = int(heatmap_detail * grid[1]) // 2 * 2 + 1\n",
    "    heatmap = gaussian_filter(hist, sigma=(filter_w, filter_h), order=0)\n",
    "\n",
    "    # display the histogram and reference image\n",
    "    print(\"Cover image with heatmap overlay\")\n",
    "    plt.figure(figsize=(8,8))\n",
    "    plt.imshow(image)\n",
    "    plt.imshow(heatmap, cmap='jet', alpha=0.5)\n",
    "    plt.axis('off');\n"
   ]
  },
  {
   "cell_type": "code",
   "execution_count": null,
   "metadata": {},
   "outputs": [],
   "source": []
  },
  {
   "attachments": {},
   "cell_type": "markdown",
   "metadata": {},
   "source": [
    "lets filter properly by asset"
   ]
  },
  {
   "cell_type": "code",
   "execution_count": 47,
   "metadata": {},
   "outputs": [],
   "source": [
    "\n",
    "conf_thr=0.95\n",
    "gaze_on_surf=gaze_pd_frame[(gaze_pd_frame.on_surf==True)&(gaze_pd_frame.confidence >conf_thr)]"
   ]
  },
  {
   "cell_type": "code",
   "execution_count": 8,
   "metadata": {},
   "outputs": [
    {
     "ename": "NameError",
     "evalue": "name 'index_stim' is not defined",
     "output_type": "error",
     "traceback": [
      "\u001b[1;31m---------------------------------------------------------------------------\u001b[0m",
      "\u001b[1;31mNameError\u001b[0m                                 Traceback (most recent call last)",
      "Cell \u001b[1;32mIn[8], line 1\u001b[0m\n\u001b[1;32m----> 1\u001b[0m np\u001b[39m.\u001b[39mwhere(index_stim\u001b[39m==\u001b[39m\u001b[39mTrue\u001b[39;00m)\n",
      "\u001b[1;31mNameError\u001b[0m: name 'index_stim' is not defined"
     ]
    }
   ],
   "source": [
    "np.where(index_stim==True)"
   ]
  },
  {
   "cell_type": "code",
   "execution_count": 9,
   "metadata": {},
   "outputs": [
    {
     "ename": "NameError",
     "evalue": "name 'index_stim' is not defined",
     "output_type": "error",
     "traceback": [
      "\u001b[1;31m---------------------------------------------------------------------------\u001b[0m",
      "\u001b[1;31mNameError\u001b[0m                                 Traceback (most recent call last)",
      "Cell \u001b[1;32mIn[9], line 1\u001b[0m\n\u001b[1;32m----> 1\u001b[0m annotations_pd\u001b[39m.\u001b[39mindex[index_stim]\u001b[39m+\u001b[39m\u001b[39m1\u001b[39m\n\u001b[0;32m      2\u001b[0m annotations_pd\u001b[39m.\u001b[39miloc[annotations_pd\u001b[39m.\u001b[39mindex[index_stim]\u001b[39m+\u001b[39m\u001b[39m1\u001b[39m]\n",
      "\u001b[1;31mNameError\u001b[0m: name 'index_stim' is not defined"
     ]
    }
   ],
   "source": [
    "annotations_pd.index[index_stim]+1\n",
    "annotations_pd.iloc[annotations_pd.index[index_stim]+1]"
   ]
  },
  {
   "cell_type": "code",
   "execution_count": 10,
   "metadata": {},
   "outputs": [],
   "source": [
    "index_stim=annotations_pd['label']==images[41]\n",
    "index_final=annotations_pd.index[index_stim]+1\n",
    "\n",
    "value=annotations_pd[index_stim]['timestamp'].values[0]\n",
    "value_final=annotations_pd.iloc[index_final]['timestamp'].values[0]\n",
    " \n",
    "gaze_on_surf=gaze_on_surf[\n",
    "    (gaze_on_surf['gaze_timestamp']>=value)&\n",
    "    (gaze_on_surf['gaze_timestamp']<value_final)\n",
    "\n",
    "]\n",
    "\n",
    "\n",
    "\n",
    "\n"
   ]
  },
  {
   "cell_type": "code",
   "execution_count": 48,
   "metadata": {},
   "outputs": [],
   "source": [
    "def extract_annotations_timestamps(annotation,annotation_col,dataframe):\n",
    "    \"\"\"Function to extract timesatmps from annotations table of pupil core\n",
    "       It basically serches for the annotation field in a datraframe and returns\n",
    "       the rows of the annotation and of the next event\n",
    "\n",
    "    Args:\n",
    "        annotation (_str_): string of the annotation of interest\n",
    "        annotation_col(_str_): column name of the annotation\n",
    "\n",
    "    \"\"\"\n",
    "    index_stim=dataframe[annotation_col]==annotation\n",
    "    index_final=dataframe.index[index_stim]+1\n",
    "\n",
    "    start_row=dataframe[index_stim]\n",
    "    end_row=dataframe.iloc[index_final]\n",
    "\n",
    "    return start_row, end_row"
   ]
  },
  {
   "cell_type": "code",
   "execution_count": 49,
   "metadata": {},
   "outputs": [],
   "source": [
    "initial_anotation,end_anotation=cm.extract_annotations_timestamps(images[41],'label',annotations_pd)"
   ]
  },
  {
   "cell_type": "code",
   "execution_count": 13,
   "metadata": {},
   "outputs": [
    {
     "data": {
      "text/plain": [
       "15469.020865400002"
      ]
     },
     "execution_count": 13,
     "metadata": {},
     "output_type": "execute_result"
    }
   ],
   "source": [
    "initial_anotation['timestamp'].values[0]"
   ]
  },
  {
   "cell_type": "code",
   "execution_count": 47,
   "metadata": {},
   "outputs": [
    {
     "data": {
      "text/plain": [
       "array([15469.0208654])"
      ]
     },
     "execution_count": 47,
     "metadata": {},
     "output_type": "execute_result"
    }
   ],
   "source": [
    "(ini['timestamp'].values)"
   ]
  },
  {
   "cell_type": "code",
   "execution_count": 14,
   "metadata": {},
   "outputs": [
    {
     "name": "stdout",
     "output_type": "stream",
     "text": [
      "Cover image with heatmap overlay\n"
     ]
    },
    {
     "data": {
      "image/png": "[encoded data removed]",
      "text/plain": [
       "<Figure size 800x800 with 1 Axes>"
      ]
     },
     "metadata": {},
     "output_type": "display_data"
    }
   ],
   "source": [
    "%matplotlib inline\n",
    "image=plt.imread(image_location+'/'+image_order[41])\n",
    "do_heatmap(image,gaze_on_surf['x_norm'],gaze_on_surf['y_norm'])"
   ]
  },
  {
   "cell_type": "code",
   "execution_count": null,
   "metadata": {},
   "outputs": [],
   "source": [
    "print(images[1],image_order[1]) \n"
   ]
  },
  {
   "cell_type": "code",
   "execution_count": 52,
   "metadata": {},
   "outputs": [
    {
     "ename": "IndexError",
     "evalue": "index 0 is out of bounds for axis 0 with size 0",
     "output_type": "error",
     "traceback": [
      "\u001b[1;31m---------------------------------------------------------------------------\u001b[0m",
      "\u001b[1;31mIndexError\u001b[0m                                Traceback (most recent call last)",
      "Cell \u001b[1;32mIn[52], line 1\u001b[0m\n\u001b[1;32m----> 1\u001b[0m end_anotation[\u001b[39m'\u001b[39;49m\u001b[39mtimestamp\u001b[39;49m\u001b[39m'\u001b[39;49m]\u001b[39m.\u001b[39;49mvalues[\u001b[39m0\u001b[39;49m]\n",
      "\u001b[1;31mIndexError\u001b[0m: index 0 is out of bounds for axis 0 with size 0"
     ]
    }
   ],
   "source": [
    "end_anotation['timestamp'].values[0]"
   ]
  },
  {
   "cell_type": "code",
   "execution_count": null,
   "metadata": {},
   "outputs": [],
   "source": [
    "image_order[41]"
   ]
  },
  {
   "cell_type": "code",
   "execution_count": null,
   "metadata": {},
   "outputs": [],
   "source": [
    "index_stim=annotations_pd['label']==images[41]\n",
    "index_final=annotations_pd.index[index_stim]+1\n",
    "index_final\n"
   ]
  },
  {
   "cell_type": "code",
   "execution_count": 23,
   "metadata": {},
   "outputs": [],
   "source": [
    "    gaze_on_surf_im=gaze_on_surf[\n",
    "        (gaze_on_surf['gaze_timestamp']>=initial_anotation['timestamp'].values[0])&\n",
    "        (gaze_on_surf['gaze_timestamp']<end_anotation['timestamp'].values[0])\n",
    "    ]"
   ]
  },
  {
   "cell_type": "code",
   "execution_count": 32,
   "metadata": {},
   "outputs": [
    {
     "data": {
      "text/plain": [
       "False"
      ]
     },
     "execution_count": 32,
     "metadata": {},
     "output_type": "execute_result"
    }
   ],
   "source": [
    "any(gaze_on_surf['gaze_timestamp']<end_anotation['timestamp'].values[0])\n"
   ]
  },
  {
   "cell_type": "code",
   "execution_count": 55,
   "metadata": {},
   "outputs": [],
   "source": [
    "def filter_rows_by_temporal_values(dataframe,time_column,ini_value,end_value):\n",
    "    \"\"\"Common funtion to return a segment of a dataframe filtered by the timestamps\n",
    "      greater than or equal to a column value and less than another timestamp values.\n",
    "\n",
    "    Args:\n",
    "        dataframe (_pandas dataframe_): dataframe of interest \n",
    "        time_column (_type_): column to use for filtering\n",
    "        ini_value (_type_): initial temporal value\n",
    "        end_value (_type_): final temporal value\n",
    "    \"\"\"\n",
    "        \n",
    "    segmented_df=dataframe[\n",
    "        (dataframe[time_column]>=ini_value)&\n",
    "        (dataframe[time_column]< end_value)\n",
    "    ]\n",
    "    return segmented_df"
   ]
  },
  {
   "cell_type": "code",
   "execution_count": 57,
   "metadata": {},
   "outputs": [
    {
     "name": "stdout",
     "output_type": "stream",
     "text": [
      "Asset0005.tif Asset0005_01.tif\n",
      "<class 'str'>\n",
      "   index     timestamp          label  duration\n",
      "2   5615  15058.336109  Asset0005.tif       NaN\n",
      "   index     timestamp    label  duration\n",
      "3   5974  15064.356769  blank_1       NaN\n",
      "Cover image with heatmap overlay\n",
      "Asset0044.tif Asset0044_02.tif\n",
      "<class 'str'>\n",
      "   index     timestamp          label  duration\n",
      "5   6213  15068.352719  Asset0044.tif       NaN\n",
      "   index     timestamp    label  duration\n",
      "6   6573  15074.377335  blank_2       NaN\n",
      "Cover image with heatmap overlay\n",
      "Asset0032.tif Asset0032_03.tif\n",
      "<class 'str'>\n",
      "   index     timestamp          label  duration\n",
      "8   6811  15078.369366  Asset0032.tif       NaN\n",
      "   index     timestamp    label  duration\n",
      "9   7170  15084.393327  blank_3       NaN\n",
      "Cover image with heatmap overlay\n",
      "Asset0030.tif Asset0030_04.tif\n",
      "<class 'str'>\n",
      "    index     timestamp          label  duration\n",
      "11   7409  15088.386081  Asset0030.tif       NaN\n",
      "    index     timestamp    label  duration\n",
      "12   7767  15094.400903  blank_4       NaN\n",
      "Cover image with heatmap overlay\n",
      "Asset0033.tif Asset0033_05.tif\n",
      "<class 'str'>\n",
      "    index     timestamp          label  duration\n",
      "14   8005  15098.386203  Asset0033.tif       NaN\n",
      "    index     timestamp    label  duration\n",
      "15   8365  15104.410398  blank_5       NaN\n",
      "Cover image with heatmap overlay\n",
      "Asset0041.tif Asset0041_06.tif\n",
      "<class 'str'>\n",
      "    index    timestamp          label  duration\n",
      "17   8603  15108.40279  Asset0041.tif       NaN\n",
      "    index     timestamp    label  duration\n",
      "18   8963  15114.429097  blank_6       NaN\n",
      "Cover image with heatmap overlay\n",
      "Asset0042.tif Asset0042_07.tif\n",
      "<class 'str'>\n",
      "    index     timestamp          label  duration\n",
      "20   9201  15118.419533  Asset0042.tif       NaN\n",
      "    index     timestamp    label  duration\n",
      "21   9561  15124.445613  blank_7       NaN\n"
     ]
    },
    {
     "ename": "KeyboardInterrupt",
     "evalue": "",
     "output_type": "error",
     "traceback": [
      "\u001b[1;31m---------------------------------------------------------------------------\u001b[0m",
      "\u001b[1;31mKeyboardInterrupt\u001b[0m                         Traceback (most recent call last)",
      "Cell \u001b[1;32mIn[57], line 21\u001b[0m\n\u001b[0;32m     13\u001b[0m gaze_on_surf_im\u001b[39m=\u001b[39mfilter_rows_by_temporal_values(\n\u001b[0;32m     14\u001b[0m     dataframe\u001b[39m=\u001b[39mgaze_on_surf,\n\u001b[0;32m     15\u001b[0m     column_name\u001b[39m=\u001b[39m\u001b[39m'\u001b[39m\u001b[39mgaze_timestamp\u001b[39m\u001b[39m'\u001b[39m,\n\u001b[0;32m     16\u001b[0m     ini_value\u001b[39m=\u001b[39minitial_anotation[\u001b[39m'\u001b[39m\u001b[39mtimestamp\u001b[39m\u001b[39m'\u001b[39m]\u001b[39m.\u001b[39mvalues[\u001b[39m0\u001b[39m],\n\u001b[0;32m     17\u001b[0m     end_value\u001b[39m=\u001b[39mend_anotation[\u001b[39m'\u001b[39m\u001b[39mtimestamp\u001b[39m\u001b[39m'\u001b[39m]\u001b[39m.\u001b[39mvalues[\u001b[39m0\u001b[39m]\n\u001b[0;32m     18\u001b[0m )\n\u001b[0;32m     20\u001b[0m image\u001b[39m=\u001b[39mplt\u001b[39m.\u001b[39mimread(image_location\u001b[39m+\u001b[39m\u001b[39m'\u001b[39m\u001b[39m/\u001b[39m\u001b[39m'\u001b[39m\u001b[39m+\u001b[39mim_order)\n\u001b[1;32m---> 21\u001b[0m do_heatmap(image,gaze_on_surf_im[\u001b[39m'\u001b[39;49m\u001b[39mx_norm\u001b[39;49m\u001b[39m'\u001b[39;49m],gaze_on_surf_im[\u001b[39m'\u001b[39;49m\u001b[39my_norm\u001b[39;49m\u001b[39m'\u001b[39;49m])\n\u001b[0;32m     22\u001b[0m plt\u001b[39m.\u001b[39msavefig(\u001b[39m'\u001b[39m\u001b[39mheatmaps/\u001b[39m\u001b[39m'\u001b[39m\u001b[39m+\u001b[39mim_order)\n\u001b[0;32m     23\u001b[0m plt\u001b[39m.\u001b[39mclose()\n",
      "Cell \u001b[1;32mIn[46], line 24\u001b[0m, in \u001b[0;36mdo_heatmap\u001b[1;34m(image, gaze_on_surf_x, gaze_on_surf_y)\u001b[0m\n\u001b[0;32m     22\u001b[0m filter_h \u001b[39m=\u001b[39m \u001b[39mint\u001b[39m(heatmap_detail \u001b[39m*\u001b[39m grid[\u001b[39m0\u001b[39m]) \u001b[39m/\u001b[39m\u001b[39m/\u001b[39m \u001b[39m2\u001b[39m \u001b[39m*\u001b[39m \u001b[39m2\u001b[39m \u001b[39m+\u001b[39m \u001b[39m1\u001b[39m\n\u001b[0;32m     23\u001b[0m filter_w \u001b[39m=\u001b[39m \u001b[39mint\u001b[39m(heatmap_detail \u001b[39m*\u001b[39m grid[\u001b[39m1\u001b[39m]) \u001b[39m/\u001b[39m\u001b[39m/\u001b[39m \u001b[39m2\u001b[39m \u001b[39m*\u001b[39m \u001b[39m2\u001b[39m \u001b[39m+\u001b[39m \u001b[39m1\u001b[39m\n\u001b[1;32m---> 24\u001b[0m heatmap \u001b[39m=\u001b[39m gaussian_filter(hist, sigma\u001b[39m=\u001b[39;49m(filter_w, filter_h), order\u001b[39m=\u001b[39;49m\u001b[39m0\u001b[39;49m)\n\u001b[0;32m     26\u001b[0m \u001b[39m# display the histogram and reference image\u001b[39;00m\n\u001b[0;32m     27\u001b[0m \u001b[39mprint\u001b[39m(\u001b[39m\"\u001b[39m\u001b[39mCover image with heatmap overlay\u001b[39m\u001b[39m\"\u001b[39m)\n",
      "File \u001b[1;32mc:\\Users\\Bolo\\.conda\\envs\\bayes\\Lib\\site-packages\\scipy\\ndimage\\_filters.py:368\u001b[0m, in \u001b[0;36mgaussian_filter\u001b[1;34m(input, sigma, order, output, mode, cval, truncate, radius)\u001b[0m\n\u001b[0;32m    366\u001b[0m \u001b[39mif\u001b[39;00m \u001b[39mlen\u001b[39m(axes) \u001b[39m>\u001b[39m \u001b[39m0\u001b[39m:\n\u001b[0;32m    367\u001b[0m     \u001b[39mfor\u001b[39;00m axis, sigma, order, mode, radius \u001b[39min\u001b[39;00m axes:\n\u001b[1;32m--> 368\u001b[0m         gaussian_filter1d(\u001b[39minput\u001b[39;49m, sigma, axis, order, output,\n\u001b[0;32m    369\u001b[0m                           mode, cval, truncate, radius\u001b[39m=\u001b[39;49mradius)\n\u001b[0;32m    370\u001b[0m         \u001b[39minput\u001b[39m \u001b[39m=\u001b[39m output\n\u001b[0;32m    371\u001b[0m \u001b[39melse\u001b[39;00m:\n",
      "File \u001b[1;32mc:\\Users\\Bolo\\.conda\\envs\\bayes\\Lib\\site-packages\\scipy\\ndimage\\_filters.py:276\u001b[0m, in \u001b[0;36mgaussian_filter1d\u001b[1;34m(input, sigma, axis, order, output, mode, cval, truncate, radius)\u001b[0m\n\u001b[0;32m    274\u001b[0m \u001b[39m# Since we are calling correlate, not convolve, revert the kernel\u001b[39;00m\n\u001b[0;32m    275\u001b[0m weights \u001b[39m=\u001b[39m _gaussian_kernel1d(sigma, order, lw)[::\u001b[39m-\u001b[39m\u001b[39m1\u001b[39m]\n\u001b[1;32m--> 276\u001b[0m \u001b[39mreturn\u001b[39;00m correlate1d(\u001b[39minput\u001b[39;49m, weights, axis, output, mode, cval, \u001b[39m0\u001b[39;49m)\n",
      "File \u001b[1;32mc:\\Users\\Bolo\\.conda\\envs\\bayes\\Lib\\site-packages\\scipy\\ndimage\\_filters.py:134\u001b[0m, in \u001b[0;36mcorrelate1d\u001b[1;34m(input, weights, axis, output, mode, cval, origin)\u001b[0m\n\u001b[0;32m    130\u001b[0m     \u001b[39mraise\u001b[39;00m \u001b[39mValueError\u001b[39;00m(\u001b[39m'\u001b[39m\u001b[39mInvalid origin; origin must satisfy \u001b[39m\u001b[39m'\u001b[39m\n\u001b[0;32m    131\u001b[0m                      \u001b[39m'\u001b[39m\u001b[39m-(len(weights) // 2) <= origin <= \u001b[39m\u001b[39m'\u001b[39m\n\u001b[0;32m    132\u001b[0m                      \u001b[39m'\u001b[39m\u001b[39m(len(weights)-1) // 2\u001b[39m\u001b[39m'\u001b[39m)\n\u001b[0;32m    133\u001b[0m mode \u001b[39m=\u001b[39m _ni_support\u001b[39m.\u001b[39m_extend_mode_to_code(mode)\n\u001b[1;32m--> 134\u001b[0m _nd_image\u001b[39m.\u001b[39;49mcorrelate1d(\u001b[39minput\u001b[39;49m, weights, axis, output, mode, cval,\n\u001b[0;32m    135\u001b[0m                       origin)\n\u001b[0;32m    136\u001b[0m \u001b[39mreturn\u001b[39;00m output\n",
      "\u001b[1;31mKeyboardInterrupt\u001b[0m: "
     ]
    }
   ],
   "source": [
    "%matplotlib inline\n",
    "\n",
    "for im,im_order in zip(images, image_order):\n",
    "    \n",
    "    print(im,im_order)\n",
    "    initial_anotation,end_anotation=cm.extract_annotations_timestamps(im,'label',annotations_pd)\n",
    "    print(initial_anotation)\n",
    "    print(end_anotation)\n",
    "\n",
    "    # value=annotations_pd[index_stim]['timestamp'].values[0]\n",
    "    # value_final=annotations_pd.iloc[index_final]['timestamp'].values[0]\n",
    "    gaze_on_surf_im=filter_rows_by_temporal_values(\n",
    "        dataframe=gaze_on_surf,\n",
    "        time_column='gaze_timestamp',\n",
    "        ini_value=initial_anotation['timestamp'].values[0],\n",
    "        end_value=end_anotation['timestamp'].values[0]\n",
    "    )\n",
    "    \n",
    "    image=plt.imread(image_location+'/'+im_order)\n",
    "    do_heatmap(image,gaze_on_surf_im['x_norm'],gaze_on_surf_im['y_norm'])\n",
    "    plt.savefig('heatmaps/'+im_order)\n",
    "    plt.close()\n",
    "\n"
   ]
  },
  {
   "cell_type": "code",
   "execution_count": 34,
   "metadata": {},
   "outputs": [
    {
     "name": "stdout",
     "output_type": "stream",
     "text": [
      "Cover image with heatmap overlay\n"
     ]
    }
   ],
   "source": [
    "    index_stim=annotations_pd['label']==images[1]\n",
    "    index_final=annotations_pd.index[index_stim]+1\n",
    "\n",
    "    value=annotations_pd[index_stim]['timestamp'].values[0]\n",
    "    \n",
    "    value_final=annotations_pd.iloc[index_final]['timestamp'].values[0]\n",
    " \n",
    "    gaze_on_surf_im=gaze_on_surf[\n",
    "        (gaze_on_surf['gaze_timestamp']>value)&\n",
    "        (gaze_on_surf['gaze_timestamp']<value_final)\n",
    "\n",
    "    ]\n",
    "    image=plt.imread(image_location+'/'+image_order[1])\n",
    "    do_heatmap(image,gaze_on_surf_im['x_norm'],gaze_on_surf_im['y_norm'])\n"
   ]
  },
  {
   "cell_type": "code",
   "execution_count": 35,
   "metadata": {},
   "outputs": [
    {
     "data": {
      "text/plain": [
       "['Asset0005_01.tif', 'Asset0044_02.tif', 'Asset0032_03.tif']"
      ]
     },
     "execution_count": 35,
     "metadata": {},
     "output_type": "execute_result"
    }
   ],
   "source": [
    "image_order[0:3]"
   ]
  },
  {
   "cell_type": "code",
   "execution_count": null,
   "metadata": {},
   "outputs": [],
   "source": []
  }
 ],
 "metadata": {
  "kernelspec": {
   "display_name": "bayes",
   "language": "python",
   "name": "python3"
  },
  "language_info": {
   "codemirror_mode": {
    "name": "ipython",
    "version": 3
   },
   "file_extension": ".py",
   "mimetype": "text/x-python",
   "name": "python",
   "nbconvert_exporter": "python",
   "pygments_lexer": "ipython3",
   "version": "3.11.0"
  },
  "orig_nbformat": 4
 },
 "nbformat": 4,
 "nbformat_minor": 2
}
