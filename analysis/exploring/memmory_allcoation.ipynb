{
 "cells": [
  {
   "attachments": {},
   "cell_type": "markdown",
   "metadata": {},
   "source": [
    "### tips and tricks for spped and memory usga pandas"
   ]
  },
  {
   "cell_type": "code",
   "execution_count": 9,
   "metadata": {},
   "outputs": [],
   "source": [
    "import pandas as pd \n",
    "import numpy as np\n",
    "from pathlib import Path\n",
    "import os\n",
    "import seaborn as sns\n",
    "import matplotlib.pyplot as plt\n",
    "from scipy import signal\n",
    "import sys\n",
    "sys.path.append('../')\n",
    "import commons as cm\n",
    "from data_curation import Normalization\n",
    "nm=Normalization()\n",
    "\n",
    "recording_location = r\"C:\\Users\\Bolo\\Desktop\\Laboratorio\\incipit\\data\\pupil_emotibit\\ES0001_S002_PC_EM\\data\\pupil_labs\\002\"\n",
    "image_location=r\"../../../../data/pupil_emotibit/ES0001_S002_PC_EM/images_order\"\n",
    "\n",
    "def print_file_structure(startpath):\n",
    "    for root, dirs, files in os.walk(startpath):\n",
    "        level = root.replace(startpath, '').count(os.sep)\n",
    "        indent = ' ' * 4 * (level)\n",
    "        print(f'{indent}{os.path.basename(root)}/')\n",
    "        subindent = ' ' * 4 * (level + 1)\n",
    "        for f in sorted(files):\n",
    "            print(f'{subindent}{f}')\n",
    "# print_file_structure(recording_location)\n",
    "\n",
    "\n",
    "exported_pupil_csv = os.path.join(recording_location, 'exports', '000', 'pupil_positions.csv')\n",
    "pupil_pd_frame = pd.read_csv(exported_pupil_csv)\n",
    "exported_gaze_csv = os.path.join(recording_location, 'exports', '000', 'gaze_positions.csv')\n",
    "gaze_pd_frame = pd.read_csv(exported_gaze_csv)\n",
    "annotations_csv = os.path.join(recording_location, 'exports', '000', 'annotations.csv')\n",
    "annotations_pd = pd.read_csv(annotations_csv)\n",
    "surface_gaze_csv = os.path.join(recording_location, 'exports', '000', 'surfaces','gaze_positions_on_surface_Surface_1.csv')\n",
    "surfaces_pd_frame = pd.read_csv(surface_gaze_csv)"
   ]
  },
  {
   "attachments": {},
   "cell_type": "markdown",
   "metadata": {},
   "source": [
    "Do not used nested function to return values, instead use iat or at, or loc and iloc"
   ]
  },
  {
   "cell_type": "code",
   "execution_count": 10,
   "metadata": {},
   "outputs": [],
   "source": [
    "row=30"
   ]
  },
  {
   "cell_type": "code",
   "execution_count": 32,
   "metadata": {},
   "outputs": [
    {
     "name": "stdout",
     "output_type": "stream",
     "text": [
      "Elapsed time: 0.001003 seconds.\n",
      "\n"
     ]
    }
   ],
   "source": [
    "cm.tic()\n",
    "ini_val=surfaces_pd_frame.iloc[row]['gaze_timestamp']\n",
    "end_value=surfaces_pd_frame.iloc[row+1]['gaze_timestamp']\n",
    "cm.toc()"
   ]
  },
  {
   "cell_type": "code",
   "execution_count": 23,
   "metadata": {},
   "outputs": [
    {
     "name": "stdout",
     "output_type": "stream",
     "text": [
      "Elapsed time: 0.000000 seconds.\n",
      "\n"
     ]
    }
   ],
   "source": [
    "cm.tic()\n",
    "ini_val=surfaces_pd_frame.iat[row,2]\n",
    "end_value=surfaces_pd_frame.iat[row+1,2]\n",
    "cm.toc()"
   ]
  },
  {
   "cell_type": "code",
   "execution_count": 40,
   "metadata": {},
   "outputs": [
    {
     "name": "stdout",
     "output_type": "stream",
     "text": [
      "Elapsed time: 0.000000 seconds.\n",
      "\n"
     ]
    }
   ],
   "source": [
    "cm.tic()\n",
    "ini_val=surfaces_pd_frame.loc[row,'gaze_timestamp']\n",
    "end_value=surfaces_pd_frame.loc[row+1,'gaze_timestamp']\n",
    "cm.toc()\n"
   ]
  },
  {
   "cell_type": "code",
   "execution_count": 43,
   "metadata": {},
   "outputs": [
    {
     "name": "stdout",
     "output_type": "stream",
     "text": [
      "Elapsed time: 0.000000 seconds.\n",
      "\n"
     ]
    }
   ],
   "source": [
    "cm.tic()\n",
    "ini_val=surfaces_pd_frame.iloc[row,0]\n",
    "end_value=surfaces_pd_frame.iloc[row+1,0]\n",
    "cm.toc()\n"
   ]
  },
  {
   "cell_type": "code",
   "execution_count": null,
   "metadata": {},
   "outputs": [],
   "source": []
  }
 ],
 "metadata": {
  "kernelspec": {
   "display_name": "bayes",
   "language": "python",
   "name": "python3"
  },
  "language_info": {
   "codemirror_mode": {
    "name": "ipython",
    "version": 3
   },
   "file_extension": ".py",
   "mimetype": "text/x-python",
   "name": "python",
   "nbconvert_exporter": "python",
   "pygments_lexer": "ipython3",
   "version": "3.11.0"
  },
  "orig_nbformat": 4
 },
 "nbformat": 4,
 "nbformat_minor": 2
}
