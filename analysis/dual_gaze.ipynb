{
 "cells": [
  {
   "attachments": {},
   "cell_type": "markdown",
   "metadata": {},
   "source": [
    "Lets try and join surface and gazse tables."
   ]
  },
  {
   "cell_type": "code",
   "execution_count": 2,
   "metadata": {},
   "outputs": [
    {
     "name": "stdout",
     "output_type": "stream",
     "text": [
      "002/\n",
      "    annotation.pldata\n",
      "    annotation_timestamps.npy\n",
      "    blinks.pldata\n",
      "    blinks_timestamps.npy\n",
      "    eye0.intrinsics\n",
      "    eye0.mp4\n",
      "    eye0_lookup.npy\n",
      "    eye0_timestamps.npy\n",
      "    eye1.intrinsics\n",
      "    eye1.mp4\n",
      "    eye1_lookup.npy\n",
      "    eye1_timestamps.npy\n",
      "    fixations.pldata\n",
      "    fixations_timestamps.npy\n",
      "    gaze.pldata\n",
      "    gaze_timestamps.npy\n",
      "    info.player.json\n",
      "    notify.pldata\n",
      "    notify_timestamps.npy\n",
      "    pupil.pldata\n",
      "    pupil_timestamps.npy\n",
      "    square_marker_cache\n",
      "    surface_definitions_v01\n",
      "    user_info.csv\n",
      "    world.intrinsics\n",
      "    world.mp4\n",
      "    world_lookup.npy\n",
      "    world_timestamps.npy\n",
      "    exports/\n",
      "        000/\n",
      "            annotations.csv\n",
      "            blink_detection_report.csv\n",
      "            blinks.csv\n",
      "            export_info.csv\n",
      "            fixation_report.csv\n",
      "            fixations.csv\n",
      "            gaze_positions.csv\n",
      "            pupil_gaze_positions_info.txt\n",
      "            pupil_positions.csv\n",
      "            world.mp4\n",
      "            world_timestamps.csv\n",
      "            world_timestamps.npy\n",
      "            surfaces/\n",
      "                fixations_on_surface_Surface 1.csv\n",
      "                gaze_positions_on_surface_Surface_1.csv\n",
      "                heatmap_Surface 1.png\n",
      "                marker_detections.csv\n",
      "                surf_positions_Surface 1.csv\n",
      "                surface_events.csv\n",
      "                surface_gaze_distribution.csv\n",
      "                surface_visibility.csv\n",
      "    offline_data/\n",
      "        fixations.meta\n",
      "        fixations.pldata\n",
      "        fixations_stop_timestamps.npy\n",
      "        fixations_timestamps.npy\n",
      "        tokens/\n",
      "            fixations_producer_Offline_Fixation_Detector.token\n",
      "            gaze_positions_consumer_Offline_Fixation_Detector.token\n",
      "            gaze_positions_consumer_Surface_Tracker_Offline.token\n",
      "            gaze_positions_consumer_Vis_Polyline.token\n",
      "            gaze_positions_producer_GazeFromRecording.token\n",
      "            pupil_positions_consumer_Offline_Blink_Detection.token\n",
      "            pupil_positions_consumer_Pupil_From_Recording.token\n",
      "            pupil_positions_consumer_System_Timelines.token\n",
      "            pupil_positions_producer_Pupil_From_Recording.token\n"
     ]
    }
   ],
   "source": [
    "import pandas as pd \n",
    "import numpy as np\n",
    "from pathlib import Path\n",
    "import os\n",
    "import seaborn as sns\n",
    "import matplotlib.pyplot as plt \n",
    "from scipy import signal\n",
    "import pyxdf\n",
    "\n",
    "recording_location = r\"C:\\Users\\Bolo\\Desktop\\Laboratorio\\incipit\\data\\pupil_emotibit\\ES0001_S002_PC_EM\\data\\pupil_labs\\002\"\n",
    "\n",
    "def print_file_structure(startpath):\n",
    "    for root, dirs, files in os.walk(startpath):\n",
    "        level = root.replace(startpath, '').count(os.sep)\n",
    "        indent = ' ' * 4 * (level)\n",
    "        print(f'{indent}{os.path.basename(root)}/')\n",
    "        subindent = ' ' * 4 * (level + 1)\n",
    "        for f in sorted(files):\n",
    "            print(f'{subindent}{f}')\n",
    "print_file_structure(recording_location)"
   ]
  }
 ],
 "metadata": {
  "kernelspec": {
   "display_name": "bayes",
   "language": "python",
   "name": "python3"
  },
  "language_info": {
   "codemirror_mode": {
    "name": "ipython",
    "version": 3
   },
   "file_extension": ".py",
   "mimetype": "text/x-python",
   "name": "python",
   "nbconvert_exporter": "python",
   "pygments_lexer": "ipython3",
   "version": "3.11.0"
  },
  "orig_nbformat": 4
 },
 "nbformat": 4,
 "nbformat_minor": 2
}
