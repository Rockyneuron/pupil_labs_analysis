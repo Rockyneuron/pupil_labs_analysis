{
 "cells": [
  {
   "cell_type": "code",
   "execution_count": 1,
   "metadata": {},
   "outputs": [
    {
     "ename": "Exception",
     "evalue": "file emotibit_data\\LSL_recording_timestamps\\06032023\\exp001\\block_Default.xdf does not exist.",
     "output_type": "error",
     "traceback": [
      "\u001b[1;31m---------------------------------------------------------------------------\u001b[0m",
      "\u001b[1;31mException\u001b[0m                                 Traceback (most recent call last)",
      "Cell \u001b[1;32mIn[1], line 6\u001b[0m\n\u001b[0;32m      3\u001b[0m \u001b[39mimport\u001b[39;00m \u001b[39mmatplotlib\u001b[39;00m\u001b[39m.\u001b[39;00m\u001b[39mpyplot\u001b[39;00m \u001b[39mas\u001b[39;00m \u001b[39mplt\u001b[39;00m\n\u001b[0;32m      4\u001b[0m \u001b[39mimport\u001b[39;00m \u001b[39mnumpy\u001b[39;00m \u001b[39mas\u001b[39;00m \u001b[39mnp\u001b[39;00m\n\u001b[1;32m----> 6\u001b[0m data, header \u001b[39m=\u001b[39m pyxdf\u001b[39m.\u001b[39;49mload_xdf(\u001b[39m'\u001b[39;49m\u001b[39memotibit_data/LSL_recording_timestamps/06032023/exp001/block_Default.xdf\u001b[39;49m\u001b[39m'\u001b[39;49m)\n\u001b[0;32m      7\u001b[0m \u001b[39mfor\u001b[39;00m stream \u001b[39min\u001b[39;00m data:\n\u001b[0;32m      8\u001b[0m     y \u001b[39m=\u001b[39m stream[\u001b[39m'\u001b[39m\u001b[39mtime_series\u001b[39m\u001b[39m'\u001b[39m]\n",
      "File \u001b[1;32mc:\\Users\\Bolo\\.conda\\envs\\bayes\\Lib\\site-packages\\pyxdf\\pyxdf.py:231\u001b[0m, in \u001b[0;36mload_xdf\u001b[1;34m(filename, select_streams, on_chunk, synchronize_clocks, handle_clock_resets, dejitter_timestamps, jitter_break_threshold_seconds, jitter_break_threshold_samples, clock_reset_threshold_seconds, clock_reset_threshold_stds, clock_reset_threshold_offset_seconds, clock_reset_threshold_offset_stds, winsor_threshold, verbose)\u001b[0m\n\u001b[0;32m    228\u001b[0m \u001b[39m# XML content of the file header chunk\u001b[39;00m\n\u001b[0;32m    229\u001b[0m fileheader \u001b[39m=\u001b[39m \u001b[39mNone\u001b[39;00m\n\u001b[1;32m--> 231\u001b[0m \u001b[39mwith\u001b[39;00m open_xdf(filename) \u001b[39mas\u001b[39;00m f:\n\u001b[0;32m    232\u001b[0m     \u001b[39m# for each chunk\u001b[39;00m\n\u001b[0;32m    233\u001b[0m     \u001b[39mwhile\u001b[39;00m \u001b[39mTrue\u001b[39;00m:\n\u001b[0;32m    234\u001b[0m         \u001b[39m# noinspection PyBroadException\u001b[39;00m\n\u001b[0;32m    235\u001b[0m         \u001b[39mtry\u001b[39;00m:\n\u001b[0;32m    236\u001b[0m             \u001b[39m# read [NumLengthBytes], [Length]\u001b[39;00m\n",
      "File \u001b[1;32mc:\\Users\\Bolo\\.conda\\envs\\bayes\\Lib\\site-packages\\pyxdf\\pyxdf.py:423\u001b[0m, in \u001b[0;36mopen_xdf\u001b[1;34m(file)\u001b[0m\n\u001b[0;32m    421\u001b[0m \u001b[39m# check absolute path after following symlinks\u001b[39;00m\n\u001b[0;32m    422\u001b[0m \u001b[39mif\u001b[39;00m \u001b[39mnot\u001b[39;00m filename\u001b[39m.\u001b[39mresolve()\u001b[39m.\u001b[39mexists():\n\u001b[1;32m--> 423\u001b[0m     \u001b[39mraise\u001b[39;00m \u001b[39mException\u001b[39;00m(\u001b[39m\"\u001b[39m\u001b[39mfile \u001b[39m\u001b[39m%s\u001b[39;00m\u001b[39m does not exist.\u001b[39m\u001b[39m\"\u001b[39m \u001b[39m%\u001b[39m filename)\n\u001b[0;32m    425\u001b[0m \u001b[39mif\u001b[39;00m filename\u001b[39m.\u001b[39msuffix \u001b[39m==\u001b[39m \u001b[39m\"\u001b[39m\u001b[39m.xdfz\u001b[39m\u001b[39m\"\u001b[39m \u001b[39mor\u001b[39;00m filename\u001b[39m.\u001b[39msuffixes \u001b[39m==\u001b[39m [\u001b[39m\"\u001b[39m\u001b[39m.xdf\u001b[39m\u001b[39m\"\u001b[39m, \u001b[39m\"\u001b[39m\u001b[39m.gz\u001b[39m\u001b[39m\"\u001b[39m]:\n\u001b[0;32m    426\u001b[0m     f \u001b[39m=\u001b[39m gzip\u001b[39m.\u001b[39mopen(\u001b[39mstr\u001b[39m(filename), \u001b[39m\"\u001b[39m\u001b[39mrb\u001b[39m\u001b[39m\"\u001b[39m)\n",
      "\u001b[1;31mException\u001b[0m: file emotibit_data\\LSL_recording_timestamps\\06032023\\exp001\\block_Default.xdf does not exist."
     ]
    }
   ],
   "source": [
    "#%%\n",
    "import pyxdf\n",
    "import matplotlib.pyplot as plt\n",
    "import numpy as np\n",
    "\n",
    "data, header = pyxdf.load_xdf('emotibit_data/LSL_recording_timestamps/06032023/exp001/block_Default.xdf')\n",
    "for stream in data:\n",
    "    y = stream['time_series']\n",
    "    fig,ax = plt.subplots(1,1)\n",
    "\n",
    "    if isinstance(y, list):\n",
    "        # list of strings, draw one vertical line for each marker\n",
    "        for timestamp, marker in zip(stream['time_stamps'], y):\n",
    "            plt.axvline(x=timestamp)\n",
    "            print(f'Marker \"{marker[0]}\" @ {timestamp:.2f}s')\n",
    "    elif isinstance(y, np.ndarray):\n",
    "        # numeric data, draw as lines\n",
    "        plt.plot(stream['time_stamps'], y)\n",
    "    else:\n",
    "        raise RuntimeError('Unknown stream format')\n",
    "\n",
    "# %%     Check signal latency\n",
    "signal_latency=np.diff(stream['time_stamps'])\n",
    "\n",
    "fig, ax = plt.subplots(1,1)\n",
    "ax.hist(signal_latency,bins=10,histtype='barstacked')\n",
    "ax.set_xlabel('Latency')\n",
    "ax.set_ylabel('Frecuency')\n",
    "ax.set_title('Signal latency')\n",
    "ax.text(np.mean(signal_latency),2,'Max latency {}'.format(max(signal_latency)),fontsize=10)\n",
    "ax.text(np.mean(signal_latency),1,'Mean latency {}'.format(np.mean(signal_latency)),fontsize=10)\n",
    "plt.show()\n",
    "\n"
   ]
  },
  {
   "cell_type": "markdown",
   "metadata": {},
   "source": []
  },
  {
   "cell_type": "code",
   "execution_count": 3,
   "metadata": {},
   "outputs": [],
   "source": [
    "import pandas as pd \n",
    "import numpy as np\n",
    "from pathlib import Path\n",
    "import os\n",
    "import seaborn as sns\n",
    "import matplotlib.pyplot as plt\n",
    "from scipy import signal\n",
    "import pyxdf\n"
   ]
  },
  {
   "cell_type": "code",
   "execution_count": 4,
   "metadata": {},
   "outputs": [
    {
     "name": "stdout",
     "output_type": "stream",
     "text": [
      "lsl/\n",
      "    exp001/\n",
      "        block_Default.xdf\n"
     ]
    }
   ],
   "source": [
    "recording_location = r\"C:\\Users\\Bolo\\Desktop\\Laboratorio\\incipit\\data\\pupil_emotibit\\ES0001_S002_PC_EM\\data\\lsl\"\n",
    "\n",
    "def print_file_structure(startpath):\n",
    "    for root, dirs, files in os.walk(startpath):\n",
    "        level = root.replace(startpath, '').count(os.sep)\n",
    "        indent = ' ' * 4 * (level)\n",
    "        print(f'{indent}{os.path.basename(root)}/')\n",
    "        subindent = ' ' * 4 * (level + 1)\n",
    "        for f in sorted(files):\n",
    "            print(f'{subindent}{f}')\n",
    "print_file_structure(recording_location)"
   ]
  },
  {
   "cell_type": "code",
   "execution_count": 5,
   "metadata": {},
   "outputs": [],
   "source": [
    "exported_lsl_csv = os.path.join(recording_location, 'exp001', 'block_Default.xdf')\n",
    "# lsl_pd_frame = pd.read_csv(exported_pupil_csv)"
   ]
  },
  {
   "cell_type": "code",
   "execution_count": 6,
   "metadata": {},
   "outputs": [],
   "source": [
    "data, header = pyxdf.load_xdf(exported_lsl_csv)\n"
   ]
  },
  {
   "cell_type": "code",
   "execution_count": 7,
   "metadata": {},
   "outputs": [],
   "source": [
    "lsl_events_data=data[3]\n",
    "pupil_data=data[1]"
   ]
  },
  {
   "cell_type": "code",
   "execution_count": 6,
   "metadata": {},
   "outputs": [],
   "source": [
    "lsl_events=lsl_events_data['time_series']"
   ]
  },
  {
   "cell_type": "code",
   "execution_count": 14,
   "metadata": {},
   "outputs": [
    {
     "data": {
      "text/plain": [
       "array([14973.03008695, 14973.03407995, 14973.03811145, ...,\n",
       "       17015.12681578, 17015.13481378, 17015.14277978])"
      ]
     },
     "execution_count": 14,
     "metadata": {},
     "output_type": "execute_result"
    }
   ],
   "source": [
    "pupil_data_events=pupil_data['time_stamps']\n",
    "pupil_data_events"
   ]
  },
  {
   "cell_type": "code",
   "execution_count": 40,
   "metadata": {},
   "outputs": [
    {
     "data": {
      "text/plain": [
       "collections.defaultdict"
      ]
     },
     "execution_count": 40,
     "metadata": {},
     "output_type": "execute_result"
    }
   ],
   "source": [
    "pupil_info=pupil_data['info']\n",
    "type(pupil_info['desc'][0][''])\n",
    "\n"
   ]
  },
  {
   "cell_type": "code",
   "execution_count": 42,
   "metadata": {},
   "outputs": [
    {
     "data": {
      "text/plain": [
       "defaultdict(list,\n",
       "            {'label': ['confidence'],\n",
       "             'eye': ['both'],\n",
       "             'type': ['Confidence'],\n",
       "             'unit': ['normalized']})"
      ]
     },
     "execution_count": 42,
     "metadata": {},
     "output_type": "execute_result"
    }
   ],
   "source": [
    "pupil_info['desc'][0]['channels'][0]['channel'][0]"
   ]
  },
  {
   "cell_type": "code",
   "execution_count": 58,
   "metadata": {},
   "outputs": [
    {
     "name": "stdout",
     "output_type": "stream",
     "text": [
      "['confidence']\n",
      "['norm_pos_x']\n",
      "['norm_pos_y']\n",
      "['gaze_point_3d_x']\n",
      "['gaze_point_3d_y']\n",
      "['gaze_point_3d_z']\n",
      "['eye_center0_3d_x']\n",
      "['eye_center0_3d_y']\n",
      "['eye_center0_3d_z']\n",
      "['eye_center1_3d_x']\n",
      "['eye_center1_3d_y']\n",
      "['eye_center1_3d_z']\n",
      "['gaze_normal0_x']\n",
      "['gaze_normal0_y']\n",
      "['gaze_normal0_z']\n",
      "['gaze_normal1_x']\n",
      "['gaze_normal1_y']\n",
      "['gaze_normal1_z']\n",
      "['diameter0_2d']\n",
      "['diameter1_2d']\n",
      "['diameter0_3d']\n",
      "['diameter1_3d']\n"
     ]
    }
   ],
   "source": [
    "pupil_info['desc'][0]['channels'][0]['channel']\n",
    "pupil_channels=[print(channel['label']) for channel in pupil_info['desc'][0]['channels'][0]['channel']]"
   ]
  },
  {
   "attachments": {},
   "cell_type": "markdown",
   "metadata": {},
   "source": [
    "reoder image order list for comparison"
   ]
  },
  {
   "cell_type": "code",
   "execution_count": 35,
   "metadata": {},
   "outputs": [
    {
     "data": {
      "text/plain": [
       "['Asset0005_01.tif',\n",
       " 'Asset0044_02.tif',\n",
       " 'Asset0032_03.tif',\n",
       " 'Asset0030_04.tif',\n",
       " 'Asset0033_05.tif',\n",
       " 'Asset0041_06.tif',\n",
       " 'Asset0042_07.tif',\n",
       " 'Asset0021_08.tif',\n",
       " 'Asset0039_09.tif',\n",
       " 'Surprise03_10.tif',\n",
       " 'Asset0046_11.tif',\n",
       " 'Asset0011_12.tif',\n",
       " 'Asset0035_13.tif',\n",
       " 'Asset0050_14.tif',\n",
       " 'Asset0004_15.tif',\n",
       " 'Asset0009_16.tif',\n",
       " 'Asset0022_17.tif',\n",
       " 'Asset0016_18.tif',\n",
       " 'Asset0007_19.tif',\n",
       " 'Asset0006_20.tif',\n",
       " 'Surprise02_21.tif',\n",
       " 'Asset0031_22.tif',\n",
       " 'Asset0048_23.tif',\n",
       " 'Asset0001_24.tif',\n",
       " 'Asset0012_25.tif',\n",
       " 'Asset0036_26.tif',\n",
       " 'Asset0043_27.tif',\n",
       " 'Asset0018_28.tif',\n",
       " 'Asset0047_29.tif',\n",
       " 'Surprise04_30.tif',\n",
       " 'Asset0045_31.tif',\n",
       " 'Asset0034_32.tif',\n",
       " 'Asset0028_33.tif',\n",
       " 'Asset0017_34.tif',\n",
       " 'Asset0008_35.tif',\n",
       " 'Asset0037_36.tif',\n",
       " 'Asset0002_37.tif',\n",
       " 'Asset0026_38.tif',\n",
       " 'Asset0027_39.tif',\n",
       " 'Asset0024_40.tif',\n",
       " 'Asset0049_41.tif',\n",
       " 'Surprise01_42.tif',\n",
       " 'Asset0003_43.tif',\n",
       " 'Asset0029_44.tif',\n",
       " 'Asset0020_45.tif',\n",
       " 'Asset0015_46.tif',\n",
       " 'Asset0040_47.tif',\n",
       " 'Asset0014_48.tif',\n",
       " 'Asset0010_49.tif']"
      ]
     },
     "execution_count": 35,
     "metadata": {},
     "output_type": "execute_result"
    }
   ],
   "source": [
    "def order_image():\n",
    "    print('helllo')\n",
    "\n",
    "image_order=os.listdir('../../../../data/pupil_emotibit/ES0001_S002_PC_EM/images_order')\n",
    "image_order.remove('assets.txt')\n",
    "image_order.sort(key=lambda x: int(x[x.index('_')+1:x.index('.tif')]))\n",
    "image_order"
   ]
  },
  {
   "cell_type": "code",
   "execution_count": 92,
   "metadata": {},
   "outputs": [],
   "source": [
    "%matplotlib qt\n",
    "sns.set_theme()\n",
    "lsl_events_time=lsl_events_data['time_stamps']\n",
    "lsl_events_time=np.delete(lsl_events_time,-1)\n",
    "\n",
    "\n",
    "diff_time=np.diff(lsl_events_time)\n",
    "diff_time_events=np.diff(lsl_events_time[2::3])\n",
    "\n",
    "fig1,ax1=plt.subplots(1,2)\n",
    "sns.histplot(data=diff_time,ax= ax1[0],bins=20)\n",
    "sns.histplot(data=diff_time_events,ax= ax1[1],bins=20)\n",
    "ax1[0].set_title('Test of time interval for all events in emotibit')\n",
    "ax1[1].set_title('Test of time interval for assets/surprise/control in emotibit')\n",
    "fig1.tight_layout()"
   ]
  },
  {
   "cell_type": "code",
   "execution_count": 89,
   "metadata": {},
   "outputs": [
    {
     "data": {
      "text/plain": [
       "[['Asset0005.tif'],\n",
       " ['Asset0044.tif'],\n",
       " ['Asset0032.tif'],\n",
       " ['Asset0030.tif'],\n",
       " ['Asset0033.tif'],\n",
       " ['Asset0041.tif'],\n",
       " ['Asset0042.tif'],\n",
       " ['Asset0021.tif'],\n",
       " ['Asset0039.tif'],\n",
       " ['Surprise03.tif'],\n",
       " ['Asset0046.tif'],\n",
       " ['Asset0011.tif'],\n",
       " ['Asset0035.tif'],\n",
       " ['Asset0050.tif'],\n",
       " ['Asset0004.tif'],\n",
       " ['Asset0009.tif'],\n",
       " ['Asset0022.tif'],\n",
       " ['Asset0016.tif'],\n",
       " ['Asset0007.tif'],\n",
       " ['Asset0006.tif'],\n",
       " ['Surprise02.tif'],\n",
       " ['Asset0031.tif'],\n",
       " ['Asset0048.tif'],\n",
       " ['Asset0001.tif'],\n",
       " ['Asset0012.tif'],\n",
       " ['Asset0036.tif'],\n",
       " ['Asset0043.tif'],\n",
       " ['Asset0018.tif'],\n",
       " ['Asset0047.tif'],\n",
       " ['Surprise04.tif'],\n",
       " ['Asset0045.tif'],\n",
       " ['Asset0034.tif'],\n",
       " ['Asset0028.tif'],\n",
       " ['Asset0017.tif'],\n",
       " ['Asset0008.tif'],\n",
       " ['Asset0037.tif'],\n",
       " ['Asset0002.tif'],\n",
       " ['Asset0026.tif'],\n",
       " ['Asset0027.tif'],\n",
       " ['Asset0024.tif'],\n",
       " ['Asset0049.tif'],\n",
       " ['Surprise01.tif'],\n",
       " ['Asset0003.tif'],\n",
       " ['Asset0029.tif'],\n",
       " ['Asset0020.tif'],\n",
       " ['Asset0015.tif'],\n",
       " ['Asset0040.tif'],\n",
       " ['Asset0014.tif'],\n",
       " ['Asset0010.tif']]"
      ]
     },
     "execution_count": 89,
     "metadata": {},
     "output_type": "execute_result"
    }
   ],
   "source": [
    "lsl_events[2::3]"
   ]
  },
  {
   "cell_type": "code",
   "execution_count": 71,
   "metadata": {},
   "outputs": [
    {
     "data": {
      "text/plain": [
       "[<matplotlib.lines.Line2D at 0x281ca8f3c10>]"
      ]
     },
     "execution_count": 71,
     "metadata": {},
     "output_type": "execute_result"
    },
    {
     "data": {
      "image/png": "[encoded data removed]",
      "text/plain": [
       "<Figure size 640x480 with 1 Axes>"
      ]
     },
     "metadata": {},
     "output_type": "display_data"
    }
   ],
   "source": [
    "\n",
    "fig, ax=plt.subplots(1,1)\n",
    "ax.plot(diff_time,'o')"
   ]
  },
  {
   "cell_type": "code",
   "execution_count": 60,
   "metadata": {},
   "outputs": [],
   "source": [
    "lsl_events_time=lsl_events_data['time_stamps']\n",
    "lsl_events_time=np.delete(lsl_events_time,-2)"
   ]
  },
  {
   "cell_type": "code",
   "execution_count": 61,
   "metadata": {},
   "outputs": [
    {
     "data": {
      "text/plain": [
       "array([15054.34907073, 15056.33610014, 15058.33620924, 15064.35637756,\n",
       "       15066.35299557, 15068.35281957, 15074.37747799, 15076.3693912 ,\n",
       "       15078.36945801, 15084.39298502, 15086.38624953, 15088.38622004,\n",
       "       15094.40103776, 15096.38650976, 15098.38634537, 15104.41003469,\n",
       "       15106.402945  , 15108.4029025 , 15114.42924502, 15116.41972113,\n",
       "       15118.41972233, 15124.44576615, 15126.43648896, 15128.43639077,\n",
       "       15134.45967498, 15136.45328109, 15138.4530611 , 15144.47566232,\n",
       "       15146.46974902, 15148.46979643, 15154.48535135, 15156.46972846,\n",
       "       15158.46998396, 15164.49880598, 15166.48650829, 15168.48652989,\n",
       "       15174.51414911, 15176.50319612, 15178.50322113, 15184.52657434,\n",
       "       15186.52018355, 15188.51991506, 15194.54520438, 15196.53663348,\n",
       "       15198.53678769, 15204.56159491, 15206.55371632, 15208.55341152,\n",
       "       15214.57789454, 15216.56990825, 15218.57222195, 15224.59515667,\n",
       "       15226.58671598, 15228.58679439, 15234.6138471 , 15236.60341471,\n",
       "       15238.60348332, 15244.62342354, 15246.62013444, 15248.62014235,\n",
       "       15254.64713427, 15256.63953188, 15258.63686478, 15264.6628225 ,\n",
       "       15266.65341081, 15268.65351431, 15274.68082943, 15276.67023004,\n",
       "       15278.67172425, 15284.69422786, 15286.68704057, 15288.68693858,\n",
       "       15294.7145482 , 15296.7036412 , 15298.70372241, 15304.73151823,\n",
       "       15306.72022184, 15308.72021484, 15314.75594276, 15316.75600397,\n",
       "       15318.75398437, 15324.78896799, 15326.7871816 , 15328.78773901,\n",
       "       15334.81517663, 15336.80376633, 15338.80377304, 15344.82909356,\n",
       "       15346.82071366, 15348.82037687, 15354.83973449, 15356.8378113 ,\n",
       "       15358.8374765 , 15364.86023692, 15366.85382523, 15368.85389453,\n",
       "       15374.87992405, 15376.87057516, 15378.87067477, 15384.89654019,\n",
       "       15386.88727359, 15388.8873129 , 15394.91620532, 15396.90403592,\n",
       "       15398.90424143, 15404.92959375, 15406.92087616, 15408.92075446,\n",
       "       15414.94713418, 15416.93725029, 15418.93740389, 15424.96304911,\n",
       "       15426.95439192, 15428.95406493, 15434.98210495, 15436.97097865,\n",
       "       15438.97095186, 15444.99873698, 15446.98751148, 15448.98762649,\n",
       "       15455.01114391, 15457.00423542, 15459.00459762, 15465.03067854,\n",
       "       15467.02110765, 15469.02102075, 15475.05143717, 15477.03756478,\n",
       "       15479.03761989, 15485.06277971, 15487.05433661, 15489.05417372,\n",
       "       15495.08679984, 15497.07107564, 15499.07275045, 15505.09951717,\n",
       "       15507.08772828, 15509.08788268, 15515.1185348 , 15517.10433721,\n",
       "       15519.10480791, 15525.13523683, 15527.12134274, 15529.12107575,\n",
       "       15535.15047467, 15537.13853457, 15539.13770688, 15618.22090843])"
      ]
     },
     "execution_count": 61,
     "metadata": {},
     "output_type": "execute_result"
    }
   ],
   "source": [
    "lsl_events_time"
   ]
  },
  {
   "cell_type": "code",
   "execution_count": 48,
   "metadata": {},
   "outputs": [
    {
     "data": {
      "text/plain": [
       "array([15054.34907073, 15056.33610014, 15058.33620924, 15064.35637756,\n",
       "       15066.35299557, 15068.35281957, 15074.37747799, 15076.3693912 ,\n",
       "       15078.36945801, 15084.39298502, 15086.38624953, 15088.38622004,\n",
       "       15094.40103776, 15096.38650976, 15098.38634537, 15104.41003469,\n",
       "       15106.402945  , 15108.4029025 , 15114.42924502, 15116.41972113,\n",
       "       15118.41972233, 15124.44576615, 15126.43648896, 15128.43639077,\n",
       "       15134.45967498, 15136.45328109, 15138.4530611 , 15144.47566232,\n",
       "       15146.46974902, 15148.46979643, 15154.48535135, 15156.46972846,\n",
       "       15158.46998396, 15164.49880598, 15166.48650829, 15168.48652989,\n",
       "       15174.51414911, 15176.50319612, 15178.50322113, 15184.52657434,\n",
       "       15186.52018355, 15188.51991506, 15194.54520438, 15196.53663348,\n",
       "       15198.53678769, 15204.56159491, 15206.55371632, 15208.55341152,\n",
       "       15214.57789454, 15216.56990825, 15218.57222195, 15224.59515667,\n",
       "       15226.58671598, 15228.58679439, 15234.6138471 , 15236.60341471,\n",
       "       15238.60348332, 15244.62342354, 15246.62013444, 15248.62014235,\n",
       "       15254.64713427, 15256.63953188, 15258.63686478, 15264.6628225 ,\n",
       "       15266.65341081, 15268.65351431, 15274.68082943, 15276.67023004,\n",
       "       15278.67172425, 15284.69422786, 15286.68704057, 15288.68693858,\n",
       "       15294.7145482 , 15296.7036412 , 15298.70372241, 15304.73151823,\n",
       "       15306.72022184, 15308.72021484, 15314.75594276, 15316.75600397,\n",
       "       15318.75398437, 15324.78896799, 15326.7871816 , 15328.78773901,\n",
       "       15334.81517663, 15336.80376633, 15338.80377304, 15344.82909356,\n",
       "       15346.82071366, 15348.82037687, 15354.83973449, 15356.8378113 ,\n",
       "       15358.8374765 , 15364.86023692, 15366.85382523, 15368.85389453,\n",
       "       15374.87992405, 15376.87057516, 15378.87067477, 15384.89654019,\n",
       "       15386.88727359, 15388.8873129 , 15394.91620532, 15396.90403592,\n",
       "       15398.90424143, 15404.92959375, 15406.92087616, 15408.92075446,\n",
       "       15414.94713418, 15416.93725029, 15418.93740389, 15424.96304911,\n",
       "       15426.95439192, 15428.95406493, 15434.98210495, 15436.97097865,\n",
       "       15438.97095186, 15444.99873698, 15446.98751148, 15448.98762649,\n",
       "       15455.01114391, 15457.00423542, 15459.00459762, 15465.03067854,\n",
       "       15467.02110765, 15469.02102075, 15475.05143717, 15477.03756478,\n",
       "       15479.03761989, 15485.06277971, 15487.05433661, 15489.05417372,\n",
       "       15495.08679984, 15497.07107564, 15499.07275045, 15505.09951717,\n",
       "       15507.08772828, 15509.08788268, 15515.1185348 , 15517.10433721,\n",
       "       15519.10480791, 15525.13523683, 15527.12134274, 15529.12107575,\n",
       "       15535.15047467, 15537.13853457, 15539.13770688, 15545.1691793 ,\n",
       "       15618.22090843])"
      ]
     },
     "execution_count": 48,
     "metadata": {},
     "output_type": "execute_result"
    }
   ],
   "source": [
    "lsl_events_time"
   ]
  },
  {
   "cell_type": "code",
   "execution_count": 33,
   "metadata": {},
   "outputs": [
    {
     "ename": "TypeError",
     "evalue": "map() takes no keyword arguments",
     "output_type": "error",
     "traceback": [
      "\u001b[1;31m---------------------------------------------------------------------------\u001b[0m",
      "\u001b[1;31mTypeError\u001b[0m                                 Traceback (most recent call last)",
      "Cell \u001b[1;32mIn[33], line 1\u001b[0m\n\u001b[1;32m----> 1\u001b[0m \u001b[39mmap\u001b[39;49m(key\u001b[39m=\u001b[39;49m\u001b[39mlambda\u001b[39;49;00m x: \u001b[39mint\u001b[39;49m(x[\u001b[39m0\u001b[39;49m][x[\u001b[39m0\u001b[39;49m]\u001b[39m.\u001b[39;49mindex(\u001b[39m'\u001b[39;49m\u001b[39m_\u001b[39;49m\u001b[39m'\u001b[39;49m)\u001b[39m+\u001b[39;49m\u001b[39m1\u001b[39;49m:x[\u001b[39m0\u001b[39;49m]\u001b[39m.\u001b[39;49mindex(\u001b[39m'\u001b[39;49m\u001b[39m.tif\u001b[39;49m\u001b[39m'\u001b[39;49m)],image_order))\n",
      "\u001b[1;31mTypeError\u001b[0m: map() takes no keyword arguments"
     ]
    }
   ],
   "source": [
    "map(key=lambda x: int(x[0][x[0].index('_')+1:x[0].index('.tif')],image_order))"
   ]
  },
  {
   "cell_type": "code",
   "execution_count": null,
   "metadata": {},
   "outputs": [],
   "source": [
    "map(key=lambda x: int(x.index('_')+1:x.index('.tif')],image_order))"
   ]
  },
  {
   "cell_type": "code",
   "execution_count": 26,
   "metadata": {},
   "outputs": [
    {
     "data": {
      "text/plain": [
       "['Asset0001_24.tif',\n",
       " 'Asset0002_37.tif',\n",
       " 'Asset0003_43.tif',\n",
       " 'Asset0004_15.tif',\n",
       " 'Asset0005_01.tif',\n",
       " 'Asset0006_20.tif',\n",
       " 'Asset0007_19.tif',\n",
       " 'Asset0008_35.tif',\n",
       " 'Asset0009_16.tif',\n",
       " 'Asset0010_49.tif',\n",
       " 'Asset0011_12.tif',\n",
       " 'Asset0012_25.tif',\n",
       " 'Asset0014_48.tif',\n",
       " 'Asset0015_46.tif',\n",
       " 'Asset0016_18.tif',\n",
       " 'Asset0017_34.tif',\n",
       " 'Asset0018_28.tif',\n",
       " 'Asset0020_45.tif',\n",
       " 'Asset0021_08.tif',\n",
       " 'Asset0022_17.tif',\n",
       " 'Asset0024_40.tif',\n",
       " 'Asset0026_38.tif',\n",
       " 'Asset0027_39.tif',\n",
       " 'Asset0028_33.tif',\n",
       " 'Asset0029_44.tif',\n",
       " 'Asset0030_04.tif',\n",
       " 'Asset0031_22.tif',\n",
       " 'Asset0032_03.tif',\n",
       " 'Asset0033_05.tif',\n",
       " 'Asset0034_32.tif',\n",
       " 'Asset0035_13.tif',\n",
       " 'Asset0036_26.tif',\n",
       " 'Asset0037_36.tif',\n",
       " 'Asset0039_09.tif',\n",
       " 'Asset0040_47.tif',\n",
       " 'Asset0041_06.tif',\n",
       " 'Asset0042_07.tif',\n",
       " 'Asset0043_27.tif',\n",
       " 'Asset0044_02.tif',\n",
       " 'Asset0045_31.tif',\n",
       " 'Asset0046_11.tif',\n",
       " 'Asset0047_29.tif',\n",
       " 'Asset0048_23.tif',\n",
       " 'Asset0049_41.tif',\n",
       " 'Asset0050_14.tif',\n",
       " 'assets.txt',\n",
       " 'Surprise01_42.tif',\n",
       " 'Surprise02_21.tif',\n",
       " 'Surprise03_10.tif',\n",
       " 'Surprise04_30.tif']"
      ]
     },
     "execution_count": 26,
     "metadata": {},
     "output_type": "execute_result"
    }
   ],
   "source": [
    "image_order"
   ]
  },
  {
   "cell_type": "code",
   "execution_count": 14,
   "metadata": {},
   "outputs": [
    {
     "data": {
      "text/plain": [
       "array([[ 7.75955141e-01,  4.55041567e-01,  5.69628119e-01, ...,\n",
       "                    nan,             nan,             nan],\n",
       "       [ 7.75955141e-01,  4.55015960e-01,  5.69736346e-01, ...,\n",
       "                    nan,  2.53836844e+00,             nan],\n",
       "       [ 1.00000000e+00,  2.55630016e-01,  3.97627036e-01, ...,\n",
       "         2.68913879e+01,             nan,             nan],\n",
       "       ...,\n",
       "       [ 0.00000000e+00,  8.18554641e-01,  4.72901508e-01, ...,\n",
       "                    nan, -1.18811006e-02,             nan],\n",
       "       [ 0.00000000e+00,  0.00000000e+00,  1.00000000e+00, ...,\n",
       "                    nan,             nan,             nan],\n",
       "       [ 0.00000000e+00,  8.18554641e-01,  4.72901508e-01, ...,\n",
       "                    nan, -1.18811006e-02,             nan]])"
      ]
     },
     "execution_count": 14,
     "metadata": {},
     "output_type": "execute_result"
    }
   ],
   "source": [
    "data[0]['time_series']"
   ]
  },
  {
   "cell_type": "code",
   "execution_count": 28,
   "metadata": {},
   "outputs": [
    {
     "data": {
      "text/plain": [
       "list"
      ]
     },
     "execution_count": 28,
     "metadata": {},
     "output_type": "execute_result"
    }
   ],
   "source": [
    "type(data[0]['time_series'])"
   ]
  },
  {
   "cell_type": "code",
   "execution_count": 29,
   "metadata": {},
   "outputs": [
    {
     "data": {
      "text/plain": [
       "str"
      ]
     },
     "execution_count": 29,
     "metadata": {},
     "output_type": "execute_result"
    }
   ],
   "source": [
    "type(data[0]['time_series'][2][0])"
   ]
  },
  {
   "cell_type": "code",
   "execution_count": 30,
   "metadata": {},
   "outputs": [
    {
     "data": {
      "text/plain": [
       "array([433716.93253213, 433728.92520411, 433740.91435739, 433752.90969737,\n",
       "       433764.91313875, 433776.90058112, 433788.8926637 , 433800.92046299,\n",
       "       433813.76982449])"
      ]
     },
     "execution_count": 30,
     "metadata": {},
     "output_type": "execute_result"
    }
   ],
   "source": [
    "(data[0]['time_stamps'])"
   ]
  },
  {
   "cell_type": "code",
   "execution_count": null,
   "metadata": {},
   "outputs": [],
   "source": [
    "file1=r'emotibit_data/LSL_recording_timestamps\\2023-01-17_18-09-42-832110_LM.csv'  "
   ]
  },
  {
   "cell_type": "code",
   "execution_count": 22,
   "metadata": {},
   "outputs": [
    {
     "data": {
      "text/plain": [
       "defaultdict(list,\n",
       "            {'name': ['pupil_capture'],\n",
       "             'type': ['Gaze'],\n",
       "             'channel_count': ['22'],\n",
       "             'nominal_srate': ['0'],\n",
       "             'channel_format': ['double64'],\n",
       "             'source_id': ['04c311e2-b503-47a8-899f-46f361b1469b'],\n",
       "             'version': ['1.1000000000000001'],\n",
       "             'created_at': ['262859.16462659999'],\n",
       "             'uid': ['2670b199-424b-4e69-a489-601dc7e86ceb'],\n",
       "             'session_id': ['default'],\n",
       "             'hostname': ['ARTUROV-SFS-USR'],\n",
       "             'v4address': [None],\n",
       "             'v4data_port': ['16573'],\n",
       "             'v4service_port': ['16573'],\n",
       "             'v6address': [None],\n",
       "             'v6data_port': ['16573'],\n",
       "             'v6service_port': ['16573'],\n",
       "             'desc': [defaultdict(list,\n",
       "                          {'channels': [defaultdict(list,\n",
       "                                        {'channel': [defaultdict(list,\n",
       "                                                      {'label': ['confidence'],\n",
       "                                                       'eye': ['both'],\n",
       "                                                       'type': ['Confidence'],\n",
       "                                                       'unit': ['normalized']}),\n",
       "                                          defaultdict(list,\n",
       "                                                      {'label': ['norm_pos_x'],\n",
       "                                                       'eye': ['both'],\n",
       "                                                       'type': ['ScreenX'],\n",
       "                                                       'unit': ['normalized'],\n",
       "                                                       'coordinate_system': ['world']}),\n",
       "                                          defaultdict(list,\n",
       "                                                      {'label': ['norm_pos_y'],\n",
       "                                                       'eye': ['both'],\n",
       "                                                       'type': ['ScreenY'],\n",
       "                                                       'unit': ['normalized'],\n",
       "                                                       'coordinate_system': ['world']}),\n",
       "                                          defaultdict(list,\n",
       "                                                      {'label': ['gaze_point_3d_x'],\n",
       "                                                       'eye': ['both'],\n",
       "                                                       'type': ['DirectionX'],\n",
       "                                                       'unit': ['mm'],\n",
       "                                                       'coordinate_system': ['world']}),\n",
       "                                          defaultdict(list,\n",
       "                                                      {'label': ['gaze_point_3d_y'],\n",
       "                                                       'eye': ['both'],\n",
       "                                                       'type': ['DirectionY'],\n",
       "                                                       'unit': ['mm'],\n",
       "                                                       'coordinate_system': ['world']}),\n",
       "                                          defaultdict(list,\n",
       "                                                      {'label': ['gaze_point_3d_z'],\n",
       "                                                       'eye': ['both'],\n",
       "                                                       'type': ['DirectionZ'],\n",
       "                                                       'unit': ['mm'],\n",
       "                                                       'coordinate_system': ['world']}),\n",
       "                                          defaultdict(list,\n",
       "                                                      {'label': ['eye_center0_3d_x'],\n",
       "                                                       'eye': ['right'],\n",
       "                                                       'type': ['PositionX'],\n",
       "                                                       'unit': ['mm'],\n",
       "                                                       'coordinate_system': ['world']}),\n",
       "                                          defaultdict(list,\n",
       "                                                      {'label': ['eye_center0_3d_y'],\n",
       "                                                       'eye': ['right'],\n",
       "                                                       'type': ['PositionY'],\n",
       "                                                       'unit': ['mm'],\n",
       "                                                       'coordinate_system': ['world']}),\n",
       "                                          defaultdict(list,\n",
       "                                                      {'label': ['eye_center0_3d_z'],\n",
       "                                                       'eye': ['right'],\n",
       "                                                       'type': ['PositionZ'],\n",
       "                                                       'unit': ['mm'],\n",
       "                                                       'coordinate_system': ['world']}),\n",
       "                                          defaultdict(list,\n",
       "                                                      {'label': ['eye_center1_3d_x'],\n",
       "                                                       'eye': ['left'],\n",
       "                                                       'type': ['PositionX'],\n",
       "                                                       'unit': ['mm'],\n",
       "                                                       'coordinate_system': ['world']}),\n",
       "                                          defaultdict(list,\n",
       "                                                      {'label': ['eye_center1_3d_y'],\n",
       "                                                       'eye': ['left'],\n",
       "                                                       'type': ['PositionY'],\n",
       "                                                       'unit': ['mm'],\n",
       "                                                       'coordinate_system': ['world']}),\n",
       "                                          defaultdict(list,\n",
       "                                                      {'label': ['eye_center1_3d_z'],\n",
       "                                                       'eye': ['left'],\n",
       "                                                       'type': ['PositionZ'],\n",
       "                                                       'unit': ['mm'],\n",
       "                                                       'coordinate_system': ['world']}),\n",
       "                                          defaultdict(list,\n",
       "                                                      {'label': ['gaze_normal0_x'],\n",
       "                                                       'eye': ['right'],\n",
       "                                                       'type': ['PositionX'],\n",
       "                                                       'unit': ['mm'],\n",
       "                                                       'coordinate_system': ['world']}),\n",
       "                                          defaultdict(list,\n",
       "                                                      {'label': ['gaze_normal0_y'],\n",
       "                                                       'eye': ['right'],\n",
       "                                                       'type': ['PositionY'],\n",
       "                                                       'unit': ['mm'],\n",
       "                                                       'coordinate_system': ['world']}),\n",
       "                                          defaultdict(list,\n",
       "                                                      {'label': ['gaze_normal0_z'],\n",
       "                                                       'eye': ['right'],\n",
       "                                                       'type': ['PositionZ'],\n",
       "                                                       'unit': ['mm'],\n",
       "                                                       'coordinate_system': ['world']}),\n",
       "                                          defaultdict(list,\n",
       "                                                      {'label': ['gaze_normal1_x'],\n",
       "                                                       'eye': ['left'],\n",
       "                                                       'type': ['PositionX'],\n",
       "                                                       'unit': ['mm'],\n",
       "                                                       'coordinate_system': ['world']}),\n",
       "                                          defaultdict(list,\n",
       "                                                      {'label': ['gaze_normal1_y'],\n",
       "                                                       'eye': ['left'],\n",
       "                                                       'type': ['PositionY'],\n",
       "                                                       'unit': ['mm'],\n",
       "                                                       'coordinate_system': ['world']}),\n",
       "                                          defaultdict(list,\n",
       "                                                      {'label': ['gaze_normal1_z'],\n",
       "                                                       'eye': ['left'],\n",
       "                                                       'type': ['PositionZ'],\n",
       "                                                       'unit': ['mm'],\n",
       "                                                       'coordinate_system': ['world']}),\n",
       "                                          defaultdict(list,\n",
       "                                                      {'label': ['diameter0_2d'],\n",
       "                                                       'eye': ['right'],\n",
       "                                                       'type': ['Diameter'],\n",
       "                                                       'unit': ['pixels'],\n",
       "                                                       'coordinate_system': ['eye0']}),\n",
       "                                          defaultdict(list,\n",
       "                                                      {'label': ['diameter1_2d'],\n",
       "                                                       'eye': ['left'],\n",
       "                                                       'type': ['Diameter'],\n",
       "                                                       'unit': ['pixels'],\n",
       "                                                       'coordinate_system': ['eye1']}),\n",
       "                                          defaultdict(list,\n",
       "                                                      {'label': ['diameter0_3d'],\n",
       "                                                       'eye': ['right'],\n",
       "                                                       'type': ['Diameter'],\n",
       "                                                       'unit': ['mm'],\n",
       "                                                       'coordinate_system': ['eye0']}),\n",
       "                                          defaultdict(list,\n",
       "                                                      {'label': ['diameter1_3d'],\n",
       "                                                       'eye': ['left'],\n",
       "                                                       'type': ['Diameter'],\n",
       "                                                       'unit': ['mm'],\n",
       "                                                       'coordinate_system': ['eye1']})]})]})],\n",
       "             'stream_id': 1,\n",
       "             'effective_srate': 0})"
      ]
     },
     "execution_count": 22,
     "metadata": {},
     "output_type": "execute_result"
    }
   ],
   "source": [
    "data[0]['info']\n"
   ]
  },
  {
   "cell_type": "code",
   "execution_count": 23,
   "metadata": {},
   "outputs": [
    {
     "data": {
      "text/plain": [
       "defaultdict(list,\n",
       "            {'name': ['DataSyncMarker'],\n",
       "             'type': ['Tags'],\n",
       "             'channel_count': ['1'],\n",
       "             'channel_format': ['string'],\n",
       "             'source_id': ['12345'],\n",
       "             'nominal_srate': ['0.000000000000000'],\n",
       "             'version': ['1.100000000000000'],\n",
       "             'created_at': ['262872.3055175000'],\n",
       "             'uid': ['548bca9d-c4a8-44a7-b7a3-85d80e0b34e3'],\n",
       "             'session_id': ['default'],\n",
       "             'hostname': ['ARTUROV-SFS-USR'],\n",
       "             'v4address': [None],\n",
       "             'v4data_port': ['16572'],\n",
       "             'v4service_port': ['16572'],\n",
       "             'v6address': [None],\n",
       "             'v6data_port': ['16572'],\n",
       "             'v6service_port': ['16572'],\n",
       "             'desc': [None],\n",
       "             'stream_id': 2,\n",
       "             'effective_srate': 0})"
      ]
     },
     "execution_count": 23,
     "metadata": {},
     "output_type": "execute_result"
    }
   ],
   "source": [
    "data[1]['info']\n"
   ]
  },
  {
   "cell_type": "code",
   "execution_count": 24,
   "metadata": {},
   "outputs": [
    {
     "data": {
      "text/plain": [
       "defaultdict(list,\n",
       "            {'name': ['pupil_capture'],\n",
       "             'type': ['Gaze'],\n",
       "             'channel_count': ['22'],\n",
       "             'nominal_srate': ['0'],\n",
       "             'channel_format': ['double64'],\n",
       "             'source_id': ['04c311e2-b503-47a8-899f-46f361b1469b'],\n",
       "             'version': ['1.1000000000000001'],\n",
       "             'created_at': ['262859.16462659999'],\n",
       "             'uid': ['2670b199-424b-4e69-a489-601dc7e86ceb'],\n",
       "             'session_id': ['default'],\n",
       "             'hostname': ['ARTUROV-SFS-USR'],\n",
       "             'v4address': [None],\n",
       "             'v4data_port': ['16573'],\n",
       "             'v4service_port': ['16573'],\n",
       "             'v6address': [None],\n",
       "             'v6data_port': ['16573'],\n",
       "             'v6service_port': ['16573'],\n",
       "             'desc': [defaultdict(list,\n",
       "                          {'channels': [defaultdict(list,\n",
       "                                        {'channel': [defaultdict(list,\n",
       "                                                      {'label': ['confidence'],\n",
       "                                                       'eye': ['both'],\n",
       "                                                       'type': ['Confidence'],\n",
       "                                                       'unit': ['normalized']}),\n",
       "                                          defaultdict(list,\n",
       "                                                      {'label': ['norm_pos_x'],\n",
       "                                                       'eye': ['both'],\n",
       "                                                       'type': ['ScreenX'],\n",
       "                                                       'unit': ['normalized'],\n",
       "                                                       'coordinate_system': ['world']}),\n",
       "                                          defaultdict(list,\n",
       "                                                      {'label': ['norm_pos_y'],\n",
       "                                                       'eye': ['both'],\n",
       "                                                       'type': ['ScreenY'],\n",
       "                                                       'unit': ['normalized'],\n",
       "                                                       'coordinate_system': ['world']}),\n",
       "                                          defaultdict(list,\n",
       "                                                      {'label': ['gaze_point_3d_x'],\n",
       "                                                       'eye': ['both'],\n",
       "                                                       'type': ['DirectionX'],\n",
       "                                                       'unit': ['mm'],\n",
       "                                                       'coordinate_system': ['world']}),\n",
       "                                          defaultdict(list,\n",
       "                                                      {'label': ['gaze_point_3d_y'],\n",
       "                                                       'eye': ['both'],\n",
       "                                                       'type': ['DirectionY'],\n",
       "                                                       'unit': ['mm'],\n",
       "                                                       'coordinate_system': ['world']}),\n",
       "                                          defaultdict(list,\n",
       "                                                      {'label': ['gaze_point_3d_z'],\n",
       "                                                       'eye': ['both'],\n",
       "                                                       'type': ['DirectionZ'],\n",
       "                                                       'unit': ['mm'],\n",
       "                                                       'coordinate_system': ['world']}),\n",
       "                                          defaultdict(list,\n",
       "                                                      {'label': ['eye_center0_3d_x'],\n",
       "                                                       'eye': ['right'],\n",
       "                                                       'type': ['PositionX'],\n",
       "                                                       'unit': ['mm'],\n",
       "                                                       'coordinate_system': ['world']}),\n",
       "                                          defaultdict(list,\n",
       "                                                      {'label': ['eye_center0_3d_y'],\n",
       "                                                       'eye': ['right'],\n",
       "                                                       'type': ['PositionY'],\n",
       "                                                       'unit': ['mm'],\n",
       "                                                       'coordinate_system': ['world']}),\n",
       "                                          defaultdict(list,\n",
       "                                                      {'label': ['eye_center0_3d_z'],\n",
       "                                                       'eye': ['right'],\n",
       "                                                       'type': ['PositionZ'],\n",
       "                                                       'unit': ['mm'],\n",
       "                                                       'coordinate_system': ['world']}),\n",
       "                                          defaultdict(list,\n",
       "                                                      {'label': ['eye_center1_3d_x'],\n",
       "                                                       'eye': ['left'],\n",
       "                                                       'type': ['PositionX'],\n",
       "                                                       'unit': ['mm'],\n",
       "                                                       'coordinate_system': ['world']}),\n",
       "                                          defaultdict(list,\n",
       "                                                      {'label': ['eye_center1_3d_y'],\n",
       "                                                       'eye': ['left'],\n",
       "                                                       'type': ['PositionY'],\n",
       "                                                       'unit': ['mm'],\n",
       "                                                       'coordinate_system': ['world']}),\n",
       "                                          defaultdict(list,\n",
       "                                                      {'label': ['eye_center1_3d_z'],\n",
       "                                                       'eye': ['left'],\n",
       "                                                       'type': ['PositionZ'],\n",
       "                                                       'unit': ['mm'],\n",
       "                                                       'coordinate_system': ['world']}),\n",
       "                                          defaultdict(list,\n",
       "                                                      {'label': ['gaze_normal0_x'],\n",
       "                                                       'eye': ['right'],\n",
       "                                                       'type': ['PositionX'],\n",
       "                                                       'unit': ['mm'],\n",
       "                                                       'coordinate_system': ['world']}),\n",
       "                                          defaultdict(list,\n",
       "                                                      {'label': ['gaze_normal0_y'],\n",
       "                                                       'eye': ['right'],\n",
       "                                                       'type': ['PositionY'],\n",
       "                                                       'unit': ['mm'],\n",
       "                                                       'coordinate_system': ['world']}),\n",
       "                                          defaultdict(list,\n",
       "                                                      {'label': ['gaze_normal0_z'],\n",
       "                                                       'eye': ['right'],\n",
       "                                                       'type': ['PositionZ'],\n",
       "                                                       'unit': ['mm'],\n",
       "                                                       'coordinate_system': ['world']}),\n",
       "                                          defaultdict(list,\n",
       "                                                      {'label': ['gaze_normal1_x'],\n",
       "                                                       'eye': ['left'],\n",
       "                                                       'type': ['PositionX'],\n",
       "                                                       'unit': ['mm'],\n",
       "                                                       'coordinate_system': ['world']}),\n",
       "                                          defaultdict(list,\n",
       "                                                      {'label': ['gaze_normal1_y'],\n",
       "                                                       'eye': ['left'],\n",
       "                                                       'type': ['PositionY'],\n",
       "                                                       'unit': ['mm'],\n",
       "                                                       'coordinate_system': ['world']}),\n",
       "                                          defaultdict(list,\n",
       "                                                      {'label': ['gaze_normal1_z'],\n",
       "                                                       'eye': ['left'],\n",
       "                                                       'type': ['PositionZ'],\n",
       "                                                       'unit': ['mm'],\n",
       "                                                       'coordinate_system': ['world']}),\n",
       "                                          defaultdict(list,\n",
       "                                                      {'label': ['diameter0_2d'],\n",
       "                                                       'eye': ['right'],\n",
       "                                                       'type': ['Diameter'],\n",
       "                                                       'unit': ['pixels'],\n",
       "                                                       'coordinate_system': ['eye0']}),\n",
       "                                          defaultdict(list,\n",
       "                                                      {'label': ['diameter1_2d'],\n",
       "                                                       'eye': ['left'],\n",
       "                                                       'type': ['Diameter'],\n",
       "                                                       'unit': ['pixels'],\n",
       "                                                       'coordinate_system': ['eye1']}),\n",
       "                                          defaultdict(list,\n",
       "                                                      {'label': ['diameter0_3d'],\n",
       "                                                       'eye': ['right'],\n",
       "                                                       'type': ['Diameter'],\n",
       "                                                       'unit': ['mm'],\n",
       "                                                       'coordinate_system': ['eye0']}),\n",
       "                                          defaultdict(list,\n",
       "                                                      {'label': ['diameter1_3d'],\n",
       "                                                       'eye': ['left'],\n",
       "                                                       'type': ['Diameter'],\n",
       "                                                       'unit': ['mm'],\n",
       "                                                       'coordinate_system': ['eye1']})]})]})],\n",
       "             'stream_id': 3,\n",
       "             'effective_srate': 0})"
      ]
     },
     "execution_count": 24,
     "metadata": {},
     "output_type": "execute_result"
    }
   ],
   "source": [
    "data[2]['info']\n"
   ]
  },
  {
   "cell_type": "code",
   "execution_count": null,
   "metadata": {},
   "outputs": [],
   "source": []
  }
 ],
 "metadata": {
  "kernelspec": {
   "display_name": "psychopy",
   "language": "python",
   "name": "python3"
  },
  "language_info": {
   "codemirror_mode": {
    "name": "ipython",
    "version": 3
   },
   "file_extension": ".py",
   "mimetype": "text/x-python",
   "name": "python",
   "nbconvert_exporter": "python",
   "pygments_lexer": "ipython3",
   "version": "3.11.0"
  },
  "orig_nbformat": 4
 },
 "nbformat": 4,
 "nbformat_minor": 2
}
